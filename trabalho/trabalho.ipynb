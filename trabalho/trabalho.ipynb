{
 "cells": [
  {
   "cell_type": "markdown",
   "id": "aab44535",
   "metadata": {},
   "source": [
    "# Perfil de atendimento Odontológico nas Unidades Municipais de Saúde de Curitiba\n",
    "\n",
    "**Pedro H. M. Tashima**\n",
    "\n",
    "**2025-10-08**"
   ]
  },
  {
   "cell_type": "code",
   "execution_count": 94,
   "id": "5c4917cd",
   "metadata": {
    "editable": true,
    "slideshow": {
     "slide_type": ""
    },
    "tags": [
     "hide_code"
    ]
   },
   "outputs": [],
   "source": [
    "import pandas as pd\n",
    "from IPython.display import Markdown, display\n",
    "\n",
    "df = pd.read_csv('./2025-07-06_Sistema_E-Saude_Odontologico_-_Base_de_Dados.csv', sep=';', encoding='latin-1')"
   ]
  },
  {
   "cell_type": "markdown",
   "id": "5a9752c9",
   "metadata": {
    "editable": true,
    "slideshow": {
     "slide_type": ""
    },
    "tags": []
   },
   "source": [
    "## Introdução\n",
    "\n",
    "O conjunto de dados \"[Sistema E-Saude - Perfil de atendimento Odontológico nas Unidades Municipais de Saúde de Curitiba](https://dadosabertos.curitiba.pr.gov.br/conjuntodado/detalhe?chave=afa9c22d-4fd7-407a-857b-1ab29fc305a3)\" reúne informações sobre atendimentos realizados por profissionais de odontologia em unidades de saúde. Esses dados mostram o perfil dos usuários atendidos, com informações demográficas, socioeconômicas e de saúde, além de detalhes sobre os procedimentos realizados.\n",
    "\n"
   ]
  },
  {
   "cell_type": "markdown",
   "id": "ba4b4774",
   "metadata": {},
   "source": [
    "## Limpeza"
   ]
  },
  {
   "cell_type": "code",
   "execution_count": 95,
   "id": "741b95ca",
   "metadata": {
    "editable": true,
    "slideshow": {
     "slide_type": ""
    },
    "tags": []
   },
   "outputs": [
    {
     "name": "stdout",
     "output_type": "stream",
     "text": [
      "O conjunto de dados, antes da limpeza, possui 326170 linhas.\n"
     ]
    }
   ],
   "source": [
    "print(\"O conjunto de dados, antes da limpeza, possui\", df.shape[0], \"linhas.\")"
   ]
  },
  {
   "cell_type": "markdown",
   "id": "5f8ed8cc",
   "metadata": {},
   "source": [
    "Pela natureza do sistema de coleta de dados, algumas colunas não são válidas ou utilizadas para atendimentos odontológicos. Outras, são raramente preenchidas. Por esses motivos, colunas totalmente vazias ou com poucos valores não serão utilizadas."
   ]
  },
  {
   "cell_type": "code",
   "execution_count": 96,
   "id": "ce212c8c",
   "metadata": {},
   "outputs": [
    {
     "data": {
      "text/markdown": [
       "**Tabela 1: Valores nulos por coluna**"
      ],
      "text/plain": [
       "<IPython.core.display.Markdown object>"
      ]
     },
     "metadata": {},
     "output_type": "display_data"
    },
    {
     "data": {
      "text/html": [
       "<div>\n",
       "<style scoped>\n",
       "    .dataframe tbody tr th:only-of-type {\n",
       "        vertical-align: middle;\n",
       "    }\n",
       "\n",
       "    .dataframe tbody tr th {\n",
       "        vertical-align: top;\n",
       "    }\n",
       "\n",
       "    .dataframe thead th {\n",
       "        text-align: right;\n",
       "    }\n",
       "</style>\n",
       "<table border=\"1\" class=\"dataframe\">\n",
       "  <thead>\n",
       "    <tr style=\"text-align: right;\">\n",
       "      <th></th>\n",
       "      <th>Número de valores nulos</th>\n",
       "    </tr>\n",
       "  </thead>\n",
       "  <tbody>\n",
       "    <tr>\n",
       "      <th>Estabelecimento Solicitante</th>\n",
       "      <td>326170</td>\n",
       "    </tr>\n",
       "    <tr>\n",
       "      <th>Código do CID</th>\n",
       "      <td>326170</td>\n",
       "    </tr>\n",
       "    <tr>\n",
       "      <th>Estabelecimento Destino</th>\n",
       "      <td>326170</td>\n",
       "    </tr>\n",
       "    <tr>\n",
       "      <th>Data do Internamento</th>\n",
       "      <td>326170</td>\n",
       "    </tr>\n",
       "    <tr>\n",
       "      <th>Descrição do CID</th>\n",
       "      <td>326170</td>\n",
       "    </tr>\n",
       "    <tr>\n",
       "      <th>CID do Internamento</th>\n",
       "      <td>326170</td>\n",
       "    </tr>\n",
       "    <tr>\n",
       "      <th>Área de Atuação</th>\n",
       "      <td>309099</td>\n",
       "    </tr>\n",
       "    <tr>\n",
       "      <th>Grupo Comunitário</th>\n",
       "      <td>60310</td>\n",
       "    </tr>\n",
       "    <tr>\n",
       "      <th>Fezes/Urina</th>\n",
       "      <td>59578</td>\n",
       "    </tr>\n",
       "    <tr>\n",
       "      <th>Meio de Comunicacao</th>\n",
       "      <td>58812</td>\n",
       "    </tr>\n",
       "    <tr>\n",
       "      <th>Abastecimento</th>\n",
       "      <td>58740</td>\n",
       "    </tr>\n",
       "    <tr>\n",
       "      <th>Destino Lixo</th>\n",
       "      <td>58665</td>\n",
       "    </tr>\n",
       "    <tr>\n",
       "      <th>Meio de Transporte</th>\n",
       "      <td>58611</td>\n",
       "    </tr>\n",
       "    <tr>\n",
       "      <th>Em Caso de Doença</th>\n",
       "      <td>58301</td>\n",
       "    </tr>\n",
       "    <tr>\n",
       "      <th>Tipo de Habitação</th>\n",
       "      <td>58171</td>\n",
       "    </tr>\n",
       "    <tr>\n",
       "      <th>Tratamento no Domicílio</th>\n",
       "      <td>57703</td>\n",
       "    </tr>\n",
       "    <tr>\n",
       "      <th>Cômodos</th>\n",
       "      <td>7605</td>\n",
       "    </tr>\n",
       "    <tr>\n",
       "      <th>Bairro</th>\n",
       "      <td>0</td>\n",
       "    </tr>\n",
       "    <tr>\n",
       "      <th>cod_usuario</th>\n",
       "      <td>0</td>\n",
       "    </tr>\n",
       "    <tr>\n",
       "      <th>Energia Elétrica</th>\n",
       "      <td>0</td>\n",
       "    </tr>\n",
       "    <tr>\n",
       "      <th>origem_usuario</th>\n",
       "      <td>0</td>\n",
       "    </tr>\n",
       "    <tr>\n",
       "      <th>Municício</th>\n",
       "      <td>0</td>\n",
       "    </tr>\n",
       "    <tr>\n",
       "      <th>residente</th>\n",
       "      <td>0</td>\n",
       "    </tr>\n",
       "    <tr>\n",
       "      <th>Nacionalidade</th>\n",
       "      <td>0</td>\n",
       "    </tr>\n",
       "    <tr>\n",
       "      <th>Data do Atendimento</th>\n",
       "      <td>0</td>\n",
       "    </tr>\n",
       "    <tr>\n",
       "      <th>Data de Nascimento</th>\n",
       "      <td>0</td>\n",
       "    </tr>\n",
       "    <tr>\n",
       "      <th>Descrição do Procedimento</th>\n",
       "      <td>0</td>\n",
       "    </tr>\n",
       "    <tr>\n",
       "      <th>Sexo</th>\n",
       "      <td>0</td>\n",
       "    </tr>\n",
       "    <tr>\n",
       "      <th>Código do Tipo de Unidade</th>\n",
       "      <td>0</td>\n",
       "    </tr>\n",
       "    <tr>\n",
       "      <th>Tipo de Unidade</th>\n",
       "      <td>0</td>\n",
       "    </tr>\n",
       "    <tr>\n",
       "      <th>Código da Unidade</th>\n",
       "      <td>0</td>\n",
       "    </tr>\n",
       "    <tr>\n",
       "      <th>Descrição da Unidade</th>\n",
       "      <td>0</td>\n",
       "    </tr>\n",
       "    <tr>\n",
       "      <th>Código do Procedimento</th>\n",
       "      <td>0</td>\n",
       "    </tr>\n",
       "    <tr>\n",
       "      <th>Código do CBO</th>\n",
       "      <td>0</td>\n",
       "    </tr>\n",
       "    <tr>\n",
       "      <th>Desencadeou Internamento</th>\n",
       "      <td>0</td>\n",
       "    </tr>\n",
       "    <tr>\n",
       "      <th>Descrição do CBO</th>\n",
       "      <td>0</td>\n",
       "    </tr>\n",
       "    <tr>\n",
       "      <th>Solicitação de Exames</th>\n",
       "      <td>0</td>\n",
       "    </tr>\n",
       "    <tr>\n",
       "      <th>Qtde Prescrita Farmácia Curitibana</th>\n",
       "      <td>0</td>\n",
       "    </tr>\n",
       "    <tr>\n",
       "      <th>Qtde Dispensada Farmácia Curitibana</th>\n",
       "      <td>0</td>\n",
       "    </tr>\n",
       "    <tr>\n",
       "      <th>Qtde de Medicamento Não Padronizado</th>\n",
       "      <td>0</td>\n",
       "    </tr>\n",
       "    <tr>\n",
       "      <th>Encaminhamento para Atendimento Especialista</th>\n",
       "      <td>0</td>\n",
       "    </tr>\n",
       "    <tr>\n",
       "      <th>cod_profissional</th>\n",
       "      <td>0</td>\n",
       "    </tr>\n",
       "  </tbody>\n",
       "</table>\n",
       "</div>"
      ],
      "text/plain": [
       "                                              Número de valores nulos\n",
       "Estabelecimento Solicitante                                    326170\n",
       "Código do CID                                                  326170\n",
       "Estabelecimento Destino                                        326170\n",
       "Data do Internamento                                           326170\n",
       "Descrição do CID                                               326170\n",
       "CID do Internamento                                            326170\n",
       "Área de Atuação                                                309099\n",
       "Grupo Comunitário                                               60310\n",
       "Fezes/Urina                                                     59578\n",
       "Meio de Comunicacao                                             58812\n",
       "Abastecimento                                                   58740\n",
       "Destino Lixo                                                    58665\n",
       "Meio de Transporte                                              58611\n",
       "Em Caso de Doença                                               58301\n",
       "Tipo de Habitação                                               58171\n",
       "Tratamento no Domicílio                                         57703\n",
       "Cômodos                                                          7605\n",
       "Bairro                                                              0\n",
       "cod_usuario                                                         0\n",
       "Energia Elétrica                                                    0\n",
       "origem_usuario                                                      0\n",
       "Municício                                                           0\n",
       "residente                                                           0\n",
       "Nacionalidade                                                       0\n",
       "Data do Atendimento                                                 0\n",
       "Data de Nascimento                                                  0\n",
       "Descrição do Procedimento                                           0\n",
       "Sexo                                                                0\n",
       "Código do Tipo de Unidade                                           0\n",
       "Tipo de Unidade                                                     0\n",
       "Código da Unidade                                                   0\n",
       "Descrição da Unidade                                                0\n",
       "Código do Procedimento                                              0\n",
       "Código do CBO                                                       0\n",
       "Desencadeou Internamento                                            0\n",
       "Descrição do CBO                                                    0\n",
       "Solicitação de Exames                                               0\n",
       "Qtde Prescrita Farmácia Curitibana                                  0\n",
       "Qtde Dispensada Farmácia Curitibana                                 0\n",
       "Qtde de Medicamento Não Padronizado                                 0\n",
       "Encaminhamento para Atendimento Especialista                        0\n",
       "cod_profissional                                                    0"
      ]
     },
     "metadata": {},
     "output_type": "display_data"
    }
   ],
   "source": [
    "display(Markdown(\"**Tabela 1: Valores nulos por coluna**\"))\n",
    "display(df.isnull().sum().to_frame(name='Número de valores nulos').sort_values(by='Número de valores nulos', ascending=False))"
   ]
  },
  {
   "cell_type": "code",
   "execution_count": 97,
   "id": "9513cb6a",
   "metadata": {},
   "outputs": [],
   "source": [
    "df = df.loc[:, ['Data do Atendimento', 'Data de Nascimento', 'Sexo', 'Descrição do Procedimento', 'Descrição do CBO']].copy()\n",
    "\n",
    "df = df.copy()\n",
    "\n",
    "# Remove linhas com NaN\n",
    "df = df.dropna()\n",
    "\n",
    "# Transformar em objetos datetime\n",
    "df['Data do Atendimento'] = pd.to_datetime(df['Data do Atendimento'], format='%d/%m/%Y %H:%M:%S')\n",
    "df['Data de Nascimento'] = pd.to_datetime(df['Data de Nascimento'], format='%d/%m/%Y %H:%M:%S')\n",
    "df['Idade'] = (df['Data do Atendimento'] - df['Data de Nascimento']).dt.days // 365"
   ]
  },
  {
   "cell_type": "markdown",
   "id": "66c9f1a6",
   "metadata": {},
   "source": [
    "Apenas as colunas consideradas válidas para a análise foram mantidas e uma coluna adicional foi criada para representar a idade do paciente (Tabela 2).\n",
    "\n",
    "**Tabela 2: Colunas mantidas após limpeza**"
   ]
  },
  {
   "cell_type": "code",
   "execution_count": 106,
   "id": "a890701e",
   "metadata": {},
   "outputs": [
    {
     "data": {
      "text/markdown": [
       "**Tabela 2: Descrição das colunas utilizadas**"
      ],
      "text/plain": [
       "<IPython.core.display.Markdown object>"
      ]
     },
     "metadata": {},
     "output_type": "display_data"
    },
    {
     "data": {
      "text/html": [
       "<style type=\"text/css\">\n",
       "</style>\n",
       "<table id=\"T_b77ce\">\n",
       "  <thead>\n",
       "    <tr>\n",
       "      <th id=\"T_b77ce_level0_col0\" class=\"col_heading level0 col0\" >Coluna</th>\n",
       "      <th id=\"T_b77ce_level0_col1\" class=\"col_heading level0 col1\" >Descrição</th>\n",
       "    </tr>\n",
       "  </thead>\n",
       "  <tbody>\n",
       "    <tr>\n",
       "      <td id=\"T_b77ce_row0_col0\" class=\"data row0 col0\" >Data do Atendimento</td>\n",
       "      <td id=\"T_b77ce_row0_col1\" class=\"data row0 col1\" >Data e hora do atendimento odontológico</td>\n",
       "    </tr>\n",
       "    <tr>\n",
       "      <td id=\"T_b77ce_row1_col0\" class=\"data row1 col0\" >Data de Nascimento</td>\n",
       "      <td id=\"T_b77ce_row1_col1\" class=\"data row1 col1\" >Data de nascimento do paciente</td>\n",
       "    </tr>\n",
       "    <tr>\n",
       "      <td id=\"T_b77ce_row2_col0\" class=\"data row2 col0\" >Sexo</td>\n",
       "      <td id=\"T_b77ce_row2_col1\" class=\"data row2 col1\" >Sexo do paciente</td>\n",
       "    </tr>\n",
       "    <tr>\n",
       "      <td id=\"T_b77ce_row3_col0\" class=\"data row3 col0\" >Descrição do Procedimento</td>\n",
       "      <td id=\"T_b77ce_row3_col1\" class=\"data row3 col1\" >Descrição do procedimento realizado</td>\n",
       "    </tr>\n",
       "    <tr>\n",
       "      <td id=\"T_b77ce_row4_col0\" class=\"data row4 col0\" >Descrição do CBO</td>\n",
       "      <td id=\"T_b77ce_row4_col1\" class=\"data row4 col1\" >Descrição da ocupação do profissional (CBO)</td>\n",
       "    </tr>\n",
       "    <tr>\n",
       "      <td id=\"T_b77ce_row5_col0\" class=\"data row5 col0\" >Idade</td>\n",
       "      <td id=\"T_b77ce_row5_col1\" class=\"data row5 col1\" >Idade do paciente no momento do atendimento</td>\n",
       "    </tr>\n",
       "  </tbody>\n",
       "</table>\n"
      ],
      "text/plain": [
       "<pandas.io.formats.style.Styler at 0x334c156a0>"
      ]
     },
     "metadata": {},
     "output_type": "display_data"
    }
   ],
   "source": [
    "\n",
    "display(Markdown(\"**Tabela 2: Descrição das colunas utilizadas**\"))\n",
    "df_colunas_descricao = pd.DataFrame({\n",
    "  'Coluna': df.columns,\n",
    "  'Descrição': [\n",
    "    'Data e hora do atendimento odontológico',\n",
    "    'Data de nascimento do paciente',\n",
    "    'Sexo do paciente',\n",
    "    'Descrição do procedimento realizado',\n",
    "    'Descrição da ocupação do profissional (CBO)',\n",
    "    'Idade do paciente no momento do atendimento'\n",
    "  ]\n",
    "})\n",
    "display(df_colunas_descricao.style.hide(axis=\"index\"))\n"
   ]
  },
  {
   "cell_type": "markdown",
   "id": "c530654e",
   "metadata": {},
   "source": [
    "## Análise Exploratória dos Dados"
   ]
  },
  {
   "cell_type": "code",
   "execution_count": 98,
   "id": "783dfc78",
   "metadata": {},
   "outputs": [
    {
     "data": {
      "text/markdown": [
       "O desvio padrão da idade dos pacientes é de 20.87 anos. A maior parte dos pacientes tem entre 0 e 60 anos, com uma diminuição gradual após os 60 anos (Gráfico 1)."
      ],
      "text/plain": [
       "<IPython.core.display.Markdown object>"
      ]
     },
     "metadata": {},
     "output_type": "display_data"
    },
    {
     "data": {
      "text/markdown": [
       "A mediana da idade dos pacientes é de 35.0 anos, indicando que metade dos pacientes tem até essa idade, porém, com uma queda nos atendimentos em pacientes próximos dos 20 anos (Gráfico 2)."
      ],
      "text/plain": [
       "<IPython.core.display.Markdown object>"
      ]
     },
     "metadata": {},
     "output_type": "display_data"
    }
   ],
   "source": [
    "std_idade = df['Idade'].std()\n",
    "median_idade = df['Idade'].median()\n",
    "\n",
    "display(Markdown(f\"O desvio padrão da idade dos pacientes é de {std_idade:.2f} anos. A maior parte dos pacientes tem entre 0 e 60 anos, com uma diminuição gradual após os 60 anos (Gráfico 1).\"))\n",
    "display(Markdown(f\"A mediana da idade dos pacientes é de {median_idade} anos, indicando que metade dos pacientes tem até essa idade, porém, com uma queda nos atendimentos em pacientes próximos dos 20 anos (Gráfico 2).\"))"
   ]
  },
  {
   "cell_type": "code",
   "execution_count": 99,
   "id": "909345f3",
   "metadata": {},
   "outputs": [
    {
     "data": {
      "text/plain": [
       "<Axes: title={'center': 'Gráfico 1: Distribuição de idade dos pacientes'}, xlabel='Idade', ylabel='Número de pacientes'>"
      ]
     },
     "execution_count": 99,
     "metadata": {},
     "output_type": "execute_result"
    },
    {
     "data": {
      "image/png": "[encoded data removed]",
      "text/plain": [
       "<Figure size 640x480 with 1 Axes>"
      ]
     },
     "metadata": {},
     "output_type": "display_data"
    }
   ],
   "source": [
    "df['Idade'].plot(kind=\"hist\",bins=40, title=\"Gráfico 1: Distribuição de idade dos pacientes\", xlabel=\"Idade\", ylabel=\"Número de pacientes\")"
   ]
  },
  {
   "cell_type": "markdown",
   "id": "5f771303",
   "metadata": {},
   "source": [
    "A maior parte dos pacientes são adultos, sendo 75% com menos de 52 anos (Gráfico 2, Tabela 1)."
   ]
  },
  {
   "cell_type": "code",
   "execution_count": 100,
   "id": "69c0ce8c",
   "metadata": {},
   "outputs": [
    {
     "data": {
      "text/plain": [
       "<Axes: title={'center': 'Gráfico 2: Boxplot da idade dos pacientes'}, ylabel='Idade'>"
      ]
     },
     "execution_count": 100,
     "metadata": {},
     "output_type": "execute_result"
    },
    {
     "data": {
      "image/png": "[encoded data removed]",
      "text/plain": [
       "<Figure size 640x480 with 1 Axes>"
      ]
     },
     "metadata": {},
     "output_type": "display_data"
    }
   ],
   "source": [
    "\n",
    "df['Idade'].plot(kind=\"box\", title=\"Gráfico 2: Boxplot da idade dos pacientes\", ylabel=\"Idade\")"
   ]
  },
  {
   "cell_type": "markdown",
   "id": "a2d3332b",
   "metadata": {},
   "source": [
    "## Número de atêndimentos de homens e mulheres:"
   ]
  },
  {
   "cell_type": "code",
   "execution_count": 101,
   "id": "c690d761",
   "metadata": {},
   "outputs": [
    {
     "data": {
      "text/markdown": [
       "**Tabela 2: Percentual de atendimentos por sexo**"
      ],
      "text/plain": [
       "<IPython.core.display.Markdown object>"
      ]
     },
     "metadata": {},
     "output_type": "display_data"
    },
    {
     "data": {
      "text/html": [
       "<div>\n",
       "<style scoped>\n",
       "    .dataframe tbody tr th:only-of-type {\n",
       "        vertical-align: middle;\n",
       "    }\n",
       "\n",
       "    .dataframe tbody tr th {\n",
       "        vertical-align: top;\n",
       "    }\n",
       "\n",
       "    .dataframe thead th {\n",
       "        text-align: right;\n",
       "    }\n",
       "</style>\n",
       "<table border=\"1\" class=\"dataframe\">\n",
       "  <thead>\n",
       "    <tr style=\"text-align: right;\">\n",
       "      <th></th>\n",
       "      <th>Percentual</th>\n",
       "    </tr>\n",
       "    <tr>\n",
       "      <th>Sexo</th>\n",
       "      <th></th>\n",
       "    </tr>\n",
       "  </thead>\n",
       "  <tbody>\n",
       "    <tr>\n",
       "      <th>F</th>\n",
       "      <td>59.849465</td>\n",
       "    </tr>\n",
       "    <tr>\n",
       "      <th>M</th>\n",
       "      <td>40.150535</td>\n",
       "    </tr>\n",
       "  </tbody>\n",
       "</table>\n",
       "</div>"
      ],
      "text/plain": [
       "      Percentual\n",
       "Sexo            \n",
       "F      59.849465\n",
       "M      40.150535"
      ]
     },
     "metadata": {},
     "output_type": "display_data"
    },
    {
     "data": {
      "image/png": "[encoded data removed]",
      "text/plain": [
       "<Figure size 640x480 with 1 Axes>"
      ]
     },
     "metadata": {},
     "output_type": "display_data"
    }
   ],
   "source": [
    "df.groupby('Sexo').size().plot(kind='bar', title=\"Gráfico 3: Número de atendimentos por sexo\", xlabel=\"Sexo\", ylabel=\"Número de atendimentos\")\n",
    "\n",
    "sexo_counts = df['Sexo'].value_counts(normalize=True) * 100\n",
    "display(Markdown(\"**Tabela 2: Percentual de atendimentos por sexo**\"))\n",
    "display(sexo_counts.to_frame(name='Percentual'))"
   ]
  },
  {
   "cell_type": "markdown",
   "id": "8c45ae03",
   "metadata": {},
   "source": [
    "Quando separados por sexo, observa-se que a maioria dos atendimentos é realizada em mulheres (Tabela 2 e Gráfico 3)."
   ]
  },
  {
   "cell_type": "code",
   "execution_count": 102,
   "id": "7785b490",
   "metadata": {},
   "outputs": [
    {
     "data": {
      "text/markdown": [
       "**Tabela 3: Percentual de atendimentos dos 5 procedimentos mais comuns**"
      ],
      "text/plain": [
       "<IPython.core.display.Markdown object>"
      ]
     },
     "metadata": {},
     "output_type": "display_data"
    },
    {
     "data": {
      "text/html": [
       "<div>\n",
       "<style scoped>\n",
       "    .dataframe tbody tr th:only-of-type {\n",
       "        vertical-align: middle;\n",
       "    }\n",
       "\n",
       "    .dataframe tbody tr th {\n",
       "        vertical-align: top;\n",
       "    }\n",
       "\n",
       "    .dataframe thead th {\n",
       "        text-align: right;\n",
       "    }\n",
       "</style>\n",
       "<table border=\"1\" class=\"dataframe\">\n",
       "  <thead>\n",
       "    <tr style=\"text-align: right;\">\n",
       "      <th></th>\n",
       "      <th>Percentual</th>\n",
       "    </tr>\n",
       "    <tr>\n",
       "      <th>Descrição do Procedimento</th>\n",
       "      <th></th>\n",
       "    </tr>\n",
       "  </thead>\n",
       "  <tbody>\n",
       "    <tr>\n",
       "      <th>PRIMEIRA CONSULTA ODONTOLOGICA PROGRAMATICA</th>\n",
       "      <td>17.245915</td>\n",
       "    </tr>\n",
       "    <tr>\n",
       "      <th>ORIENTACAO DE HIGIENE BUCAL</th>\n",
       "      <td>8.375080</td>\n",
       "    </tr>\n",
       "    <tr>\n",
       "      <th>PROFILAXIA / REMOCAO DA PLACA BACTERIANA</th>\n",
       "      <td>7.210657</td>\n",
       "    </tr>\n",
       "    <tr>\n",
       "      <th>SELAMENTO PROVISORIO DE CAVIDADE DENTARIA</th>\n",
       "      <td>7.126958</td>\n",
       "    </tr>\n",
       "    <tr>\n",
       "      <th>CONSULTA DE PROFISSIONAIS DE NIVEL SUPERIOR NA ATENCAO PRIMARIA (EXCETO MEDICO)</th>\n",
       "      <td>6.570807</td>\n",
       "    </tr>\n",
       "  </tbody>\n",
       "</table>\n",
       "</div>"
      ],
      "text/plain": [
       "                                                    Percentual\n",
       "Descrição do Procedimento                                     \n",
       "PRIMEIRA CONSULTA ODONTOLOGICA PROGRAMATICA          17.245915\n",
       "ORIENTACAO DE HIGIENE BUCAL                           8.375080\n",
       "PROFILAXIA / REMOCAO DA PLACA BACTERIANA              7.210657\n",
       "SELAMENTO PROVISORIO DE CAVIDADE DENTARIA             7.126958\n",
       "CONSULTA DE PROFISSIONAIS DE NIVEL SUPERIOR NA ...    6.570807"
      ]
     },
     "metadata": {},
     "output_type": "display_data"
    },
    {
     "data": {
      "image/png": "[encoded data removed]",
      "text/plain": [
       "<Figure size 1000x600 with 1 Axes>"
      ]
     },
     "metadata": {},
     "output_type": "display_data"
    }
   ],
   "source": [
    "top_five_procedimentos = df.groupby('Descrição do Procedimento').size().sort_values(ascending=False).head(5)\n",
    "top_five_procedimentos.plot(kind='bar', figsize=(10, 6), title=\"Gráfico 6: Procedimentos mais comuns\", xlabel=\"Procedimento\", ylabel=\"Número de atendimentos\")\n",
    "\n",
    "display(Markdown(\"**Tabela 3: Percentual de atendimentos dos 5 procedimentos mais comuns**\"))\n",
    "top_five_procedimentos_percentual = (top_five_procedimentos / df.shape[0]) * 100\n",
    "display(top_five_procedimentos_percentual.to_frame(name='Percentual'))"
   ]
  },
  {
   "cell_type": "markdown",
   "id": "f18ff48b",
   "metadata": {},
   "source": [
    "A primeira consulta odontológica é o procedimento mais comum, seguido por orientação de higiene bucal e profilaxia (Gráfico 6 e Tabela 3)."
   ]
  },
  {
   "cell_type": "code",
   "execution_count": 103,
   "id": "13ba440c",
   "metadata": {},
   "outputs": [
    {
     "data": {
      "text/markdown": [
       "**Tabela 4: Teste de Anderson-Darling para normalidade da idade dos pacientes**"
      ],
      "text/plain": [
       "<IPython.core.display.Markdown object>"
      ]
     },
     "metadata": {},
     "output_type": "display_data"
    },
    {
     "data": {
      "text/html": [
       "<div>\n",
       "<style scoped>\n",
       "    .dataframe tbody tr th:only-of-type {\n",
       "        vertical-align: middle;\n",
       "    }\n",
       "\n",
       "    .dataframe tbody tr th {\n",
       "        vertical-align: top;\n",
       "    }\n",
       "\n",
       "    .dataframe thead th {\n",
       "        text-align: right;\n",
       "    }\n",
       "</style>\n",
       "<table border=\"1\" class=\"dataframe\">\n",
       "  <thead>\n",
       "    <tr style=\"text-align: right;\">\n",
       "      <th></th>\n",
       "      <th>Estatística</th>\n",
       "      <th>Valores críticos</th>\n",
       "      <th>Níveis de significância</th>\n",
       "    </tr>\n",
       "  </thead>\n",
       "  <tbody>\n",
       "    <tr>\n",
       "      <th>0</th>\n",
       "      <td>1947.662316</td>\n",
       "      <td>[0.576, 0.656, 0.787, 0.918, 1.092]</td>\n",
       "      <td>[15.0, 10.0, 5.0, 2.5, 1.0]</td>\n",
       "    </tr>\n",
       "  </tbody>\n",
       "</table>\n",
       "</div>"
      ],
      "text/plain": [
       "   Estatística                     Valores críticos  \\\n",
       "0  1947.662316  [0.576, 0.656, 0.787, 0.918, 1.092]   \n",
       "\n",
       "       Níveis de significância  \n",
       "0  [15.0, 10.0, 5.0, 2.5, 1.0]  "
      ]
     },
     "metadata": {},
     "output_type": "display_data"
    }
   ],
   "source": [
    "from scipy.stats import anderson\n",
    "\n",
    "result = anderson(df['Idade'].dropna())\n",
    "df_anderson = pd.DataFrame({\n",
    "  'Estatística': [result.statistic],\n",
    "  'Valores críticos': [result.critical_values],\n",
    "  'Níveis de significância': [result.significance_level]\n",
    "})\n",
    "display(Markdown(\"**Tabela 4: Teste de Anderson-Darling para normalidade da idade dos pacientes**\"))\n",
    "display(df_anderson)"
   ]
  },
  {
   "cell_type": "markdown",
   "id": "0fc812ec",
   "metadata": {},
   "source": [
    "A distribuição da idade dos pacientes não tem muitos outliers (Gráfico 2), porém, não segue uma distribuição normal, conforme o teste de Anderson-Darling (Tabela 4)."
   ]
  },
  {
   "cell_type": "markdown",
   "id": "2640d65d",
   "metadata": {},
   "source": [
    "### 1. Existe diferença entre o sexo dos pacientes de acordo com a idade?"
   ]
  },
  {
   "cell_type": "code",
   "execution_count": 104,
   "id": "adab8f7a",
   "metadata": {},
   "outputs": [
    {
     "data": {
      "image/png": "[encoded data removed]",
      "text/plain": [
       "<Figure size 640x480 with 1 Axes>"
      ]
     },
     "metadata": {},
     "output_type": "display_data"
    },
    {
     "data": {
      "text/markdown": [
       "**Tabela 5: Média, mediana e n de idade por sexo**"
      ],
      "text/plain": [
       "<IPython.core.display.Markdown object>"
      ]
     },
     "metadata": {},
     "output_type": "display_data"
    },
    {
     "data": {
      "text/html": [
       "<div>\n",
       "<style scoped>\n",
       "    .dataframe tbody tr th:only-of-type {\n",
       "        vertical-align: middle;\n",
       "    }\n",
       "\n",
       "    .dataframe tbody tr th {\n",
       "        vertical-align: top;\n",
       "    }\n",
       "\n",
       "    .dataframe thead th {\n",
       "        text-align: right;\n",
       "    }\n",
       "</style>\n",
       "<table border=\"1\" class=\"dataframe\">\n",
       "  <thead>\n",
       "    <tr style=\"text-align: right;\">\n",
       "      <th></th>\n",
       "      <th>mean</th>\n",
       "      <th>median</th>\n",
       "      <th>count</th>\n",
       "    </tr>\n",
       "    <tr>\n",
       "      <th>Sexo</th>\n",
       "      <th></th>\n",
       "      <th></th>\n",
       "      <th></th>\n",
       "    </tr>\n",
       "  </thead>\n",
       "  <tbody>\n",
       "    <tr>\n",
       "      <th>F</th>\n",
       "      <td>36.574476</td>\n",
       "      <td>36.0</td>\n",
       "      <td>195211</td>\n",
       "    </tr>\n",
       "    <tr>\n",
       "      <th>M</th>\n",
       "      <td>34.398667</td>\n",
       "      <td>33.0</td>\n",
       "      <td>130959</td>\n",
       "    </tr>\n",
       "  </tbody>\n",
       "</table>\n",
       "</div>"
      ],
      "text/plain": [
       "           mean  median   count\n",
       "Sexo                           \n",
       "F     36.574476    36.0  195211\n",
       "M     34.398667    33.0  130959"
      ]
     },
     "metadata": {},
     "output_type": "display_data"
    },
    {
     "data": {
      "text/markdown": [
       "**Tabela 6: Teste de Mann-Whitney U (Wilcoxon) para idade por sexo**"
      ],
      "text/plain": [
       "<IPython.core.display.Markdown object>"
      ]
     },
     "metadata": {},
     "output_type": "display_data"
    },
    {
     "data": {
      "text/html": [
       "<div>\n",
       "<style scoped>\n",
       "    .dataframe tbody tr th:only-of-type {\n",
       "        vertical-align: middle;\n",
       "    }\n",
       "\n",
       "    .dataframe tbody tr th {\n",
       "        vertical-align: top;\n",
       "    }\n",
       "\n",
       "    .dataframe thead th {\n",
       "        text-align: right;\n",
       "    }\n",
       "</style>\n",
       "<table border=\"1\" class=\"dataframe\">\n",
       "  <thead>\n",
       "    <tr style=\"text-align: right;\">\n",
       "      <th></th>\n",
       "      <th>Estatística</th>\n",
       "      <th>p-valor</th>\n",
       "    </tr>\n",
       "  </thead>\n",
       "  <tbody>\n",
       "    <tr>\n",
       "      <th>0</th>\n",
       "      <td>1.359525e+10</td>\n",
       "      <td>7.074768e-209</td>\n",
       "    </tr>\n",
       "  </tbody>\n",
       "</table>\n",
       "</div>"
      ],
      "text/plain": [
       "    Estatística        p-valor\n",
       "0  1.359525e+10  7.074768e-209"
      ]
     },
     "metadata": {},
     "output_type": "display_data"
    }
   ],
   "source": [
    "\n",
    "import matplotlib.pyplot as plt\n",
    "from scipy.stats import mannwhitneyu\n",
    "\n",
    "# Boxplot da idade por sexo\n",
    "df.boxplot(column='Idade', by='Sexo', grid=False)\n",
    "plt.title(\"Gráfico 4: Distribuição da idade por sexo\")\n",
    "plt.suptitle(\"\")\n",
    "plt.xlabel(\"Sexo\")\n",
    "plt.ylabel(\"Idade\")\n",
    "plt.show()\n",
    "\n",
    "# Tabela de médias e medianas por sexo\n",
    "media_medianas = df.groupby('Sexo')['Idade'].agg(['mean', 'median', 'count'])\n",
    "display(Markdown(\"**Tabela 5: Média, mediana e n de idade por sexo**\"))\n",
    "display(media_medianas)\n",
    "\n",
    "# Teste de Wilcoxon (Mann-Whitney U)\n",
    "idades_f = df[df['Sexo'] == 'F']['Idade']\n",
    "idades_m = df[df['Sexo'] == 'M']['Idade']\n",
    "stat, p = mannwhitneyu(idades_f, idades_m, alternative='two-sided')\n",
    "# Exibir resultado do teste como tabela\n",
    "resultado_mannwhitney = pd.DataFrame({\n",
    "  'Estatística': [stat],\n",
    "  'p-valor': [p]\n",
    "})\n",
    "display(Markdown(\"**Tabela 6: Teste de Mann-Whitney U (Wilcoxon) para idade por sexo**\"))\n",
    "display(resultado_mannwhitney)"
   ]
  },
  {
   "cell_type": "markdown",
   "id": "52b712c0",
   "metadata": {},
   "source": [
    "1. Existe diferença entre o sexo dos pacientes de acordo com a idade?\n",
    "2. Existe diferença na idade do paciente de acordo com o procedimento realizado?\n",
    "3. Os procedimentos variam de acordo com o sexo do paciente?\n",
    "4. Existe correlação entre a descrição da ocupação do profissional e o procedimento realizado?"
   ]
  }
 ],
 "metadata": {
  "kernelspec": {
   "display_name": "base",
   "language": "python",
   "name": "python3"
  },
  "language_info": {
   "codemirror_mode": {
    "name": "ipython",
    "version": 3
   },
   "file_extension": ".py",
   "mimetype": "text/x-python",
   "name": "python",
   "nbconvert_exporter": "python",
   "pygments_lexer": "ipython3",
   "version": "3.13.5"
  }
 },
 "nbformat": 4,
 "nbformat_minor": 5
}
