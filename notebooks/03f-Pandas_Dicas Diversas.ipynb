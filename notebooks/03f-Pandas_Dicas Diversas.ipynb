{
 "cells": [
  {
   "cell_type": "markdown",
   "source": [
    "# Dicas diversas sobre Pandas\n",
    "\n"
   ],
   "metadata": {
    "collapsed": false
   }
  },
  {
   "cell_type": "markdown",
   "source": [
    "## Leitura de CSVs fora do padrão\n"
   ],
   "metadata": {
    "collapsed": false
   }
  },
  {
   "cell_type": "code",
   "execution_count": null,
   "outputs": [],
   "source": [
    "# Importação de Bibliotecas\n",
    "import pandas as pd\n",
    "from io import StringIO\n",
    "\n",
    "# lê CSV de uma string (poderia ser lido do disco como usual)\n",
    "# este CSV tem vários problemas: linhas desnecessarias no começo, \n",
    "# separador diferente, datas no formato brasileiro.\n",
    "\n",
    "CSV_string = StringIO(\"\"\"Exemplo de CSV de casos de Covid-19\n",
    "--------------------------\n",
    "data;cidade;sintomas;idade\n",
    "21-04-2021;Curitiba;tosse,febre,dor de garganta;79\n",
    "22-04-2021;Curitiba;tosse,dor de garganta;39\n",
    "22-04-2021;Curitiba;tosse;56\n",
    "23-04-2021;Curitiba;;66\n",
    "23-04-2021;Curitiba;febre;33\n",
    "23-04-2021;Curitiba;febre,dor de garganta;77\n",
    "21-04-2021;Pinhais;coriza,febre,dor de garganta;19\n",
    "22-04-2021;Pinhais;tosse,dor de garganta;81\n",
    "22-04-2021;Pinhais;febre,tosse;60\n",
    "23-04-2021;Pinhais;febre;51\n",
    "23-04-2021;Pinhais;dor de garganta;17\n",
    "\"\"\")\n",
    "\n",
    "# Para ler corretamente o CSV especificamos o separador, \n",
    "# o número da linha que servirá de cabeçalho, a coluna com datas e seu formato começando pelo dia\n",
    "df = pd.read_csv(CSV_string, sep=\";\", header=2, parse_dates=['data'], dayfirst=True)\n",
    "\n",
    "df.head()"
   ],
   "metadata": {
    "collapsed": false,
    "pycharm": {
     "name": "#%%\n"
    }
   }
  },
  {
   "cell_type": "code",
   "execution_count": null,
   "outputs": [],
   "source": [
    "# podemos verificar que os dados foram lidos corretamente\n",
    "df.dtypes"
   ],
   "metadata": {
    "collapsed": false,
    "pycharm": {
     "name": "#%%\n"
    }
   }
  },
  {
   "cell_type": "markdown",
   "source": [
    "## Separação de valores de uma coluna com múltiplos itens\n",
    "\n",
    "A coluna sintomas possui diversos valores separados por vírgula. Se queremos, por exemplo, analisar a proporção de incidência de sintomas, precisamos separar estes valores um por linha."
   ],
   "metadata": {
    "collapsed": false
   }
  },
  {
   "cell_type": "code",
   "execution_count": null,
   "outputs": [],
   "source": [
    "# O método str.split() resolveria este problema se o que esperamos é \n",
    "# separar os valores em linhas. Neste caso, o número e a ordem dos \n",
    "# valores varia, portanto não seria adequado\n",
    "df['sintomas'].str.split(',', expand=True)"
   ],
   "metadata": {
    "collapsed": false,
    "pycharm": {
     "name": "#%%\n"
    }
   }
  },
  {
   "cell_type": "code",
   "execution_count": null,
   "outputs": [],
   "source": [
    "# porém, podemos combinar o split com o método explode\n",
    "# para distribuir os itens em linhas\n",
    "df['sintomas'].str.split(\",\").explode()"
   ],
   "metadata": {
    "collapsed": false,
    "pycharm": {
     "name": "#%%\n"
    }
   }
  },
  {
   "cell_type": "code",
   "execution_count": null,
   "outputs": [],
   "source": [
    "# transformando os sintomas em listas\n",
    "df['sintoma'] = df['sintomas'].str.split(\",\")\n",
    "\n",
    "# usando o explode para repetir os sintomas\n",
    "# individuais nas linhas\n",
    "df = df.explode('sintoma')\n",
    "\n",
    "df"
   ],
   "metadata": {
    "collapsed": false,
    "pycharm": {
     "name": "#%%\n"
    }
   }
  },
  {
   "cell_type": "code",
   "execution_count": null,
   "outputs": [],
   "source": [
    "# Agora, com os sintomas separados, podemos\n",
    "# calcular a frequência\n",
    "df['sintoma'].value_counts().plot.pie()"
   ],
   "metadata": {
    "collapsed": false,
    "pycharm": {
     "name": "#%%\n"
    }
   }
  },
  {
   "cell_type": "markdown",
   "source": [
    "## Criando grupos de faixas etárias"
   ],
   "metadata": {
    "collapsed": false
   }
  },
  {
   "cell_type": "code",
   "execution_count": null,
   "outputs": [],
   "source": [
    "faixas= [0,12,20,65,110]\n",
    "labels = ['Criança','Adolescente','Adulto','Idoso']\n",
    "df['Faixa Etária'] = pd.cut(df['idade'], bins=faixas, labels=labels, right=False)\n",
    "\n",
    "df"
   ],
   "metadata": {
    "collapsed": false,
    "pycharm": {
     "name": "#%%\n"
    }
   }
  },
  {
   "cell_type": "code",
   "execution_count": null,
   "outputs": [],
   "source": [],
   "metadata": {
    "collapsed": false,
    "pycharm": {
     "name": "#%%\n"
    }
   }
  }
 ],
 "metadata": {
  "hide_input": false,
  "kernelspec": {
   "display_name": "Python 3",
   "language": "python",
   "name": "python3"
  },
  "language_info": {
   "codemirror_mode": {
    "name": "ipython",
    "version": 3
   },
   "file_extension": ".py",
   "mimetype": "text/x-python",
   "name": "python",
   "nbconvert_exporter": "python",
   "pygments_lexer": "ipython3",
   "version": "3.7.6"
  },
  "toc": {
   "base_numbering": 1,
   "nav_menu": {},
   "number_sections": true,
   "sideBar": true,
   "skip_h1_title": false,
   "title_cell": "Table of Contents",
   "title_sidebar": "Contents",
   "toc_cell": false,
   "toc_position": {},
   "toc_section_display": true,
   "toc_window_display": false
  }
 },
 "nbformat": 4,
 "nbformat_minor": 2
}