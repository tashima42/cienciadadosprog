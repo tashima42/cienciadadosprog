{
 "cells": [
  {
   "cell_type": "markdown",
   "metadata": {},
   "source": [
    "# Introdução a Pandas para Ciência de Dados - Conceitos intermediários\n",
    "\n",
    "Neste notebook apresentamos outros conceitos importantes do Pandas. \n"
   ]
  },
  {
   "cell_type": "markdown",
   "metadata": {},
   "source": [
    "## Inicializando DataFrames a partir de dicionários\n",
    "\n",
    "Uma das formas mais fácies de se inicializar um DataFrame é usando dicionários. Uma lista de dicionários pode ser usada para compor as linhas do DataFrame como no exemplo abaixo:"
   ]
  },
  {
   "cell_type": "code",
   "execution_count": 63,
   "metadata": {},
   "outputs": [
    {
     "data": {
      "text/html": [
       "<div>\n",
       "<style scoped>\n",
       "    .dataframe tbody tr th:only-of-type {\n",
       "        vertical-align: middle;\n",
       "    }\n",
       "\n",
       "    .dataframe tbody tr th {\n",
       "        vertical-align: top;\n",
       "    }\n",
       "\n",
       "    .dataframe thead th {\n",
       "        text-align: right;\n",
       "    }\n",
       "</style>\n",
       "<table border=\"1\" class=\"dataframe\">\n",
       "  <thead>\n",
       "    <tr style=\"text-align: right;\">\n",
       "      <th></th>\n",
       "      <th>endereco</th>\n",
       "      <th>area</th>\n",
       "      <th>aluguel</th>\n",
       "    </tr>\n",
       "  </thead>\n",
       "  <tbody>\n",
       "    <tr>\n",
       "      <th>0</th>\n",
       "      <td>Av V. Guarapuava, 1000</td>\n",
       "      <td>45</td>\n",
       "      <td>800</td>\n",
       "    </tr>\n",
       "    <tr>\n",
       "      <th>1</th>\n",
       "      <td>Av Sete de Setembro, 170</td>\n",
       "      <td>53</td>\n",
       "      <td>950</td>\n",
       "    </tr>\n",
       "  </tbody>\n",
       "</table>\n",
       "</div>"
      ],
      "text/plain": [
       "                   endereco  area  aluguel\n",
       "0    Av V. Guarapuava, 1000    45      800\n",
       "1  Av Sete de Setembro, 170    53      950"
      ]
     },
     "execution_count": 63,
     "metadata": {},
     "output_type": "execute_result"
    }
   ],
   "source": [
    "import pandas as pd\n",
    "\n",
    "ap1 = {'endereco': 'Av V. Guarapuava, 1000', 'area': 45, 'aluguel': 800}\n",
    "ap2 = {'endereco': 'Av Sete de Setembro, 170', 'area': 53, 'aluguel': 950}\n",
    "\n",
    "apartamentos = [ap1, ap2]\n",
    "\n",
    "df = pd.DataFrame(apartamentos)\n",
    "df"
   ]
  },
  {
   "cell_type": "markdown",
   "metadata": {},
   "source": [
    "Podemos usar um dicionário para adicionar uma nova linha a um DataFrame:"
   ]
  },
  {
   "cell_type": "code",
   "execution_count": 64,
   "metadata": {},
   "outputs": [
    {
     "data": {
      "text/html": [
       "<div>\n",
       "<style scoped>\n",
       "    .dataframe tbody tr th:only-of-type {\n",
       "        vertical-align: middle;\n",
       "    }\n",
       "\n",
       "    .dataframe tbody tr th {\n",
       "        vertical-align: top;\n",
       "    }\n",
       "\n",
       "    .dataframe thead th {\n",
       "        text-align: right;\n",
       "    }\n",
       "</style>\n",
       "<table border=\"1\" class=\"dataframe\">\n",
       "  <thead>\n",
       "    <tr style=\"text-align: right;\">\n",
       "      <th></th>\n",
       "      <th>endereco</th>\n",
       "      <th>area</th>\n",
       "      <th>aluguel</th>\n",
       "    </tr>\n",
       "  </thead>\n",
       "  <tbody>\n",
       "    <tr>\n",
       "      <th>0</th>\n",
       "      <td>Av V. Guarapuava, 1000</td>\n",
       "      <td>45</td>\n",
       "      <td>800</td>\n",
       "    </tr>\n",
       "    <tr>\n",
       "      <th>1</th>\n",
       "      <td>Av Sete de Setembro, 170</td>\n",
       "      <td>53</td>\n",
       "      <td>950</td>\n",
       "    </tr>\n",
       "    <tr>\n",
       "      <th>2</th>\n",
       "      <td>Av Sete de Setembro, 830</td>\n",
       "      <td>35</td>\n",
       "      <td>850</td>\n",
       "    </tr>\n",
       "  </tbody>\n",
       "</table>\n",
       "</div>"
      ],
      "text/plain": [
       "                   endereco  area  aluguel\n",
       "0    Av V. Guarapuava, 1000    45      800\n",
       "1  Av Sete de Setembro, 170    53      950\n",
       "2  Av Sete de Setembro, 830    35      850"
      ]
     },
     "execution_count": 64,
     "metadata": {},
     "output_type": "execute_result"
    }
   ],
   "source": [
    "ap3 = {'endereco': 'Av Sete de Setembro, 830', 'area': 35, 'aluguel': 850}\n",
    "\n",
    "df = pd.concat([df, pd.DataFrame([ap3])], ignore_index=True)\n",
    "df"
   ]
  },
  {
   "cell_type": "code",
   "execution_count": 65,
   "metadata": {},
   "outputs": [
    {
     "data": {
      "text/html": [
       "<div>\n",
       "<style scoped>\n",
       "    .dataframe tbody tr th:only-of-type {\n",
       "        vertical-align: middle;\n",
       "    }\n",
       "\n",
       "    .dataframe tbody tr th {\n",
       "        vertical-align: top;\n",
       "    }\n",
       "\n",
       "    .dataframe thead th {\n",
       "        text-align: right;\n",
       "    }\n",
       "</style>\n",
       "<table border=\"1\" class=\"dataframe\">\n",
       "  <thead>\n",
       "    <tr style=\"text-align: right;\">\n",
       "      <th></th>\n",
       "      <th>area</th>\n",
       "      <th>aluguel</th>\n",
       "    </tr>\n",
       "    <tr>\n",
       "      <th>endereco</th>\n",
       "      <th></th>\n",
       "      <th></th>\n",
       "    </tr>\n",
       "  </thead>\n",
       "  <tbody>\n",
       "    <tr>\n",
       "      <th>Av V. Guarapuava, 1000</th>\n",
       "      <td>45</td>\n",
       "      <td>800</td>\n",
       "    </tr>\n",
       "    <tr>\n",
       "      <th>Av Sete de Setembro, 170</th>\n",
       "      <td>53</td>\n",
       "      <td>950</td>\n",
       "    </tr>\n",
       "    <tr>\n",
       "      <th>Av Sete de Setembro, 830</th>\n",
       "      <td>35</td>\n",
       "      <td>850</td>\n",
       "    </tr>\n",
       "  </tbody>\n",
       "</table>\n",
       "</div>"
      ],
      "text/plain": [
       "                          area  aluguel\n",
       "endereco                               \n",
       "Av V. Guarapuava, 1000      45      800\n",
       "Av Sete de Setembro, 170    53      950\n",
       "Av Sete de Setembro, 830    35      850"
      ]
     },
     "execution_count": 65,
     "metadata": {},
     "output_type": "execute_result"
    }
   ],
   "source": [
    "# usando o endereço como índice para os próximos exemplos\n",
    "df = df.set_index('endereco')\n",
    "df"
   ]
  },
  {
   "cell_type": "markdown",
   "metadata": {},
   "source": [
    "## Iterando sobre um DataFrame\n",
    "\n",
    "Podemos usar o comando `for` para analisar um DataFrame linha por linha. Para isto usamos o método `iterrows`. O exemplo abaixo calcula a média dos valores dos aluguéis:"
   ]
  },
  {
   "cell_type": "code",
   "execution_count": 66,
   "metadata": {},
   "outputs": [
    {
     "name": "stdout",
     "output_type": "stream",
     "text": [
      "Aluguel Av V. Guarapuava, 1000: 800\n",
      "Aluguel Av Sete de Setembro, 170: 950\n",
      "Aluguel Av Sete de Setembro, 830: 850\n",
      "Média: 866.6666666666666\n"
     ]
    }
   ],
   "source": [
    "total = 0\n",
    "for indice, apartamento in df.iterrows():\n",
    "    print(\"Aluguel {}: {}\".format(indice, apartamento['aluguel']))\n",
    "    total = total + apartamento['aluguel']\n",
    "    \n",
    "media = total/len(df)\n",
    "print(\"Média:\", media)"
   ]
  },
  {
   "cell_type": "markdown",
   "metadata": {},
   "source": [
    "## Filtrando linhas com o método query()\n",
    "\n",
    "Uma forma conveniente de filtrar linhas é usando o método query. No exemplo abaixo selecionamos apenas as linhas com área maior que 40 e aluguel menor que 900."
   ]
  },
  {
   "cell_type": "code",
   "execution_count": 67,
   "metadata": {},
   "outputs": [
    {
     "data": {
      "text/html": [
       "<div>\n",
       "<style scoped>\n",
       "    .dataframe tbody tr th:only-of-type {\n",
       "        vertical-align: middle;\n",
       "    }\n",
       "\n",
       "    .dataframe tbody tr th {\n",
       "        vertical-align: top;\n",
       "    }\n",
       "\n",
       "    .dataframe thead th {\n",
       "        text-align: right;\n",
       "    }\n",
       "</style>\n",
       "<table border=\"1\" class=\"dataframe\">\n",
       "  <thead>\n",
       "    <tr style=\"text-align: right;\">\n",
       "      <th></th>\n",
       "      <th>area</th>\n",
       "      <th>aluguel</th>\n",
       "    </tr>\n",
       "    <tr>\n",
       "      <th>endereco</th>\n",
       "      <th></th>\n",
       "      <th></th>\n",
       "    </tr>\n",
       "  </thead>\n",
       "  <tbody>\n",
       "    <tr>\n",
       "      <th>Av V. Guarapuava, 1000</th>\n",
       "      <td>45</td>\n",
       "      <td>800</td>\n",
       "    </tr>\n",
       "  </tbody>\n",
       "</table>\n",
       "</div>"
      ],
      "text/plain": [
       "                        area  aluguel\n",
       "endereco                             \n",
       "Av V. Guarapuava, 1000    45      800"
      ]
     },
     "execution_count": 67,
     "metadata": {},
     "output_type": "execute_result"
    }
   ],
   "source": [
    "df.query(\"area > 40 and aluguel < 900\")"
   ]
  },
  {
   "cell_type": "markdown",
   "metadata": {},
   "source": [
    "O comando acima é equivalente a:"
   ]
  },
  {
   "cell_type": "code",
   "execution_count": 68,
   "metadata": {},
   "outputs": [
    {
     "data": {
      "text/html": [
       "<div>\n",
       "<style scoped>\n",
       "    .dataframe tbody tr th:only-of-type {\n",
       "        vertical-align: middle;\n",
       "    }\n",
       "\n",
       "    .dataframe tbody tr th {\n",
       "        vertical-align: top;\n",
       "    }\n",
       "\n",
       "    .dataframe thead th {\n",
       "        text-align: right;\n",
       "    }\n",
       "</style>\n",
       "<table border=\"1\" class=\"dataframe\">\n",
       "  <thead>\n",
       "    <tr style=\"text-align: right;\">\n",
       "      <th></th>\n",
       "      <th>area</th>\n",
       "      <th>aluguel</th>\n",
       "    </tr>\n",
       "    <tr>\n",
       "      <th>endereco</th>\n",
       "      <th></th>\n",
       "      <th></th>\n",
       "    </tr>\n",
       "  </thead>\n",
       "  <tbody>\n",
       "    <tr>\n",
       "      <th>Av V. Guarapuava, 1000</th>\n",
       "      <td>45</td>\n",
       "      <td>800</td>\n",
       "    </tr>\n",
       "  </tbody>\n",
       "</table>\n",
       "</div>"
      ],
      "text/plain": [
       "                        area  aluguel\n",
       "endereco                             \n",
       "Av V. Guarapuava, 1000    45      800"
      ]
     },
     "execution_count": 68,
     "metadata": {},
     "output_type": "execute_result"
    }
   ],
   "source": [
    "df[(df['area'] > 40) & (df['aluguel'] < 900)]"
   ]
  },
  {
   "cell_type": "markdown",
   "metadata": {},
   "source": [
    "## Filtrando linhas com expressões regulares\n",
    "\n",
    "Expressões regulares permitem casar e manipular strings de uma forma flexível. Por exemplo, abaixo filtramos apenas as linhas com endereço começando por 'Av S' e terminando com '70'. Mais detalhes e outros exemplos de uso de expressões regulares podem ser encontrados neste [tutorial](https://kanoki.org/2019/11/12/how-to-use-regex-in-pandas/)."
   ]
  },
  {
   "cell_type": "code",
   "execution_count": 69,
   "metadata": {},
   "outputs": [
    {
     "data": {
      "text/html": [
       "<div>\n",
       "<style scoped>\n",
       "    .dataframe tbody tr th:only-of-type {\n",
       "        vertical-align: middle;\n",
       "    }\n",
       "\n",
       "    .dataframe tbody tr th {\n",
       "        vertical-align: top;\n",
       "    }\n",
       "\n",
       "    .dataframe thead th {\n",
       "        text-align: right;\n",
       "    }\n",
       "</style>\n",
       "<table border=\"1\" class=\"dataframe\">\n",
       "  <thead>\n",
       "    <tr style=\"text-align: right;\">\n",
       "      <th></th>\n",
       "      <th>endereco</th>\n",
       "      <th>area</th>\n",
       "      <th>aluguel</th>\n",
       "    </tr>\n",
       "  </thead>\n",
       "  <tbody>\n",
       "    <tr>\n",
       "      <th>0</th>\n",
       "      <td>Av V. Guarapuava, 1000</td>\n",
       "      <td>45</td>\n",
       "      <td>800</td>\n",
       "    </tr>\n",
       "    <tr>\n",
       "      <th>1</th>\n",
       "      <td>Av Sete de Setembro, 170</td>\n",
       "      <td>53</td>\n",
       "      <td>950</td>\n",
       "    </tr>\n",
       "    <tr>\n",
       "      <th>2</th>\n",
       "      <td>Av Sete de Setembro, 830</td>\n",
       "      <td>35</td>\n",
       "      <td>850</td>\n",
       "    </tr>\n",
       "  </tbody>\n",
       "</table>\n",
       "</div>"
      ],
      "text/plain": [
       "                   endereco  area  aluguel\n",
       "0    Av V. Guarapuava, 1000    45      800\n",
       "1  Av Sete de Setembro, 170    53      950\n",
       "2  Av Sete de Setembro, 830    35      850"
      ]
     },
     "execution_count": 69,
     "metadata": {},
     "output_type": "execute_result"
    }
   ],
   "source": [
    "df_full = df.reset_index()\n",
    "\n",
    "df_full"
   ]
  },
  {
   "cell_type": "code",
   "execution_count": 70,
   "metadata": {},
   "outputs": [
    {
     "data": {
      "text/html": [
       "<div>\n",
       "<style scoped>\n",
       "    .dataframe tbody tr th:only-of-type {\n",
       "        vertical-align: middle;\n",
       "    }\n",
       "\n",
       "    .dataframe tbody tr th {\n",
       "        vertical-align: top;\n",
       "    }\n",
       "\n",
       "    .dataframe thead th {\n",
       "        text-align: right;\n",
       "    }\n",
       "</style>\n",
       "<table border=\"1\" class=\"dataframe\">\n",
       "  <thead>\n",
       "    <tr style=\"text-align: right;\">\n",
       "      <th></th>\n",
       "      <th>endereco</th>\n",
       "      <th>area</th>\n",
       "      <th>aluguel</th>\n",
       "    </tr>\n",
       "  </thead>\n",
       "  <tbody>\n",
       "    <tr>\n",
       "      <th>1</th>\n",
       "      <td>Av Sete de Setembro, 170</td>\n",
       "      <td>53</td>\n",
       "      <td>950</td>\n",
       "    </tr>\n",
       "  </tbody>\n",
       "</table>\n",
       "</div>"
      ],
      "text/plain": [
       "                   endereco  area  aluguel\n",
       "1  Av Sete de Setembro, 170    53      950"
      ]
     },
     "execution_count": 70,
     "metadata": {},
     "output_type": "execute_result"
    }
   ],
   "source": [
    "df_full[df_full['endereco'].str.match('^Av S.*70$')]"
   ]
  },
  {
   "cell_type": "markdown",
   "metadata": {},
   "source": [
    "## Blocos básicos de um DataFrame\n",
    "\n",
    "Um bloco básico na construção de um DataFrame é a Série (Series). Cada coluna de um DataFrame é uma Series. Uma Series contém um nome, um índice e uma lista (array) de valores. Veja os exemplos abaixo baseados na coluna *aluguel*:"
   ]
  },
  {
   "cell_type": "code",
   "execution_count": 71,
   "metadata": {},
   "outputs": [
    {
     "data": {
      "text/plain": [
       "pandas.core.series.Series"
      ]
     },
     "execution_count": 71,
     "metadata": {},
     "output_type": "execute_result"
    }
   ],
   "source": [
    "coluna_aluguel = df['aluguel']\n",
    "\n",
    "# Verificando o tipo da coluna\n",
    "type(coluna_aluguel)"
   ]
  },
  {
   "cell_type": "markdown",
   "metadata": {},
   "source": [
    "Índice:"
   ]
  },
  {
   "cell_type": "code",
   "execution_count": 72,
   "metadata": {},
   "outputs": [
    {
     "name": "stdout",
     "output_type": "stream",
     "text": [
      "<class 'pandas.core.indexes.base.Index'>\n",
      "Index(['Av V. Guarapuava, 1000', 'Av Sete de Setembro, 170',\n",
      "       'Av Sete de Setembro, 830'],\n",
      "      dtype='object', name='endereco')\n"
     ]
    }
   ],
   "source": [
    "coluna_aluguel_index = coluna_aluguel.index\n",
    "\n",
    "# Mostrando o tipo e valores do índice\n",
    "print(type(coluna_aluguel_index))\n",
    "print(coluna_aluguel_index)"
   ]
  },
  {
   "cell_type": "markdown",
   "metadata": {},
   "source": [
    "Valores:"
   ]
  },
  {
   "cell_type": "code",
   "execution_count": 73,
   "metadata": {},
   "outputs": [
    {
     "name": "stdout",
     "output_type": "stream",
     "text": [
      "<class 'numpy.ndarray'>\n",
      "[800 950 850]\n"
     ]
    }
   ],
   "source": [
    "coluna_aluguel_valores = coluna_aluguel.values\n",
    "\n",
    "# Mostrando o tipo e valores do índice\n",
    "print(type(coluna_aluguel_valores))\n",
    "print(coluna_aluguel_valores)"
   ]
  },
  {
   "cell_type": "markdown",
   "metadata": {},
   "source": [
    "Como pôde ser visto no exemplo acima, o tipo da coluna aluguéis é `numpy.ndarray`. O Numpy é uma bilioteca de estruturas de dados e operações matemáticas. Abaixo importamos o pacote numpy e usamos uma de suas funções nos valores da coluna:"
   ]
  },
  {
   "cell_type": "code",
   "execution_count": 74,
   "metadata": {},
   "outputs": [
    {
     "data": {
      "text/plain": [
       "np.float64(866.6666666666666)"
      ]
     },
     "execution_count": 74,
     "metadata": {},
     "output_type": "execute_result"
    }
   ],
   "source": [
    "import numpy as np\n",
    "\n",
    "np.mean(coluna_aluguel_valores)"
   ]
  },
  {
   "cell_type": "code",
   "execution_count": 75,
   "metadata": {},
   "outputs": [
    {
     "data": {
      "text/html": [
       "<div>\n",
       "<style scoped>\n",
       "    .dataframe tbody tr th:only-of-type {\n",
       "        vertical-align: middle;\n",
       "    }\n",
       "\n",
       "    .dataframe tbody tr th {\n",
       "        vertical-align: top;\n",
       "    }\n",
       "\n",
       "    .dataframe thead th {\n",
       "        text-align: right;\n",
       "    }\n",
       "</style>\n",
       "<table border=\"1\" class=\"dataframe\">\n",
       "  <thead>\n",
       "    <tr style=\"text-align: right;\">\n",
       "      <th></th>\n",
       "      <th>endereco</th>\n",
       "      <th>area</th>\n",
       "      <th>aluguel</th>\n",
       "    </tr>\n",
       "  </thead>\n",
       "  <tbody>\n",
       "    <tr>\n",
       "      <th>0</th>\n",
       "      <td>Av V. Guarapuava, 1000</td>\n",
       "      <td>45.0</td>\n",
       "      <td>800</td>\n",
       "    </tr>\n",
       "    <tr>\n",
       "      <th>1</th>\n",
       "      <td>Av Sete de Setembro, 170</td>\n",
       "      <td>53.0</td>\n",
       "      <td>950</td>\n",
       "    </tr>\n",
       "    <tr>\n",
       "      <th>2</th>\n",
       "      <td>Av Sete de Setembro, 830</td>\n",
       "      <td>35.0</td>\n",
       "      <td>850</td>\n",
       "    </tr>\n",
       "    <tr>\n",
       "      <th>3</th>\n",
       "      <td>Av Sete de Setembro, 730</td>\n",
       "      <td>NaN</td>\n",
       "      <td>775</td>\n",
       "    </tr>\n",
       "  </tbody>\n",
       "</table>\n",
       "</div>"
      ],
      "text/plain": [
       "                   endereco  area  aluguel\n",
       "0    Av V. Guarapuava, 1000  45.0      800\n",
       "1  Av Sete de Setembro, 170  53.0      950\n",
       "2  Av Sete de Setembro, 830  35.0      850\n",
       "3  Av Sete de Setembro, 730   NaN      775"
      ]
     },
     "execution_count": 75,
     "metadata": {},
     "output_type": "execute_result"
    }
   ],
   "source": [
    "# Reiniciando índice e adicionando valores para os próximos exemplos\n",
    "df = df.reset_index()\n",
    "df = pd.concat([df, pd.DataFrame([{'endereco': 'Av Sete de Setembro, 730', 'area': np.nan, 'aluguel': 775}])], ignore_index=True)\n",
    "df"
   ]
  },
  {
   "cell_type": "markdown",
   "metadata": {},
   "source": [
    "## Método apply(), eixos de um DataFrame, função *lambda*\n",
    "\n",
    "O método `apply()` aplica uma função a colunas ou linhas de um DataFrame. No exemplo abaixo definimos uma função que conta o número de valores nulos em uma coluna. Esta função é então aplicada no DataFrame exibido na célula anterior."
   ]
  },
  {
   "cell_type": "code",
   "execution_count": 76,
   "metadata": {},
   "outputs": [
    {
     "data": {
      "text/plain": [
       "endereco    0\n",
       "area        1\n",
       "aluguel     0\n",
       "dtype: int64"
      ]
     },
     "execution_count": 76,
     "metadata": {},
     "output_type": "execute_result"
    }
   ],
   "source": [
    "def conta_nan(coluna):\n",
    "    return coluna.isna().sum()\n",
    "\n",
    "df.apply(conta_nan)"
   ]
  },
  {
   "cell_type": "markdown",
   "metadata": {},
   "source": [
    "Uma função também pode ser aplicada sobre valores das linhas de um DataFrame. No caso abaixo, definimos a função `aumenta_aluguel()` e a aplicamos às linhas do DataFrame para criar uma nova coluna com um valor maior para o aluguel. Para especificar que precisamos aplicar a função às linhas, definimos o parâmetro `axis=1`."
   ]
  },
  {
   "cell_type": "code",
   "execution_count": 56,
   "metadata": {},
   "outputs": [
    {
     "data": {
      "text/html": [
       "<div>\n",
       "<style scoped>\n",
       "    .dataframe tbody tr th:only-of-type {\n",
       "        vertical-align: middle;\n",
       "    }\n",
       "\n",
       "    .dataframe tbody tr th {\n",
       "        vertical-align: top;\n",
       "    }\n",
       "\n",
       "    .dataframe thead th {\n",
       "        text-align: right;\n",
       "    }\n",
       "</style>\n",
       "<table border=\"1\" class=\"dataframe\">\n",
       "  <thead>\n",
       "    <tr style=\"text-align: right;\">\n",
       "      <th></th>\n",
       "      <th>index</th>\n",
       "      <th>endereco</th>\n",
       "      <th>area</th>\n",
       "      <th>aluguel</th>\n",
       "      <th>novo aluguel</th>\n",
       "    </tr>\n",
       "  </thead>\n",
       "  <tbody>\n",
       "    <tr>\n",
       "      <th>0</th>\n",
       "      <td>0.0</td>\n",
       "      <td>Av V. Guarapuava, 1000</td>\n",
       "      <td>45.0</td>\n",
       "      <td>800</td>\n",
       "      <td>880.0</td>\n",
       "    </tr>\n",
       "    <tr>\n",
       "      <th>1</th>\n",
       "      <td>1.0</td>\n",
       "      <td>Av Sete de Setembro, 170</td>\n",
       "      <td>53.0</td>\n",
       "      <td>950</td>\n",
       "      <td>1045.0</td>\n",
       "    </tr>\n",
       "    <tr>\n",
       "      <th>2</th>\n",
       "      <td>2.0</td>\n",
       "      <td>Av Sete de Setembro, 830</td>\n",
       "      <td>35.0</td>\n",
       "      <td>850</td>\n",
       "      <td>935.0</td>\n",
       "    </tr>\n",
       "    <tr>\n",
       "      <th>3</th>\n",
       "      <td>NaN</td>\n",
       "      <td>Av Sete de Setembro, 730</td>\n",
       "      <td>NaN</td>\n",
       "      <td>775</td>\n",
       "      <td>852.5</td>\n",
       "    </tr>\n",
       "  </tbody>\n",
       "</table>\n",
       "</div>"
      ],
      "text/plain": [
       "   index                  endereco  area  aluguel  novo aluguel\n",
       "0    0.0    Av V. Guarapuava, 1000  45.0      800         880.0\n",
       "1    1.0  Av Sete de Setembro, 170  53.0      950        1045.0\n",
       "2    2.0  Av Sete de Setembro, 830  35.0      850         935.0\n",
       "3    NaN  Av Sete de Setembro, 730   NaN      775         852.5"
      ]
     },
     "execution_count": 56,
     "metadata": {},
     "output_type": "execute_result"
    }
   ],
   "source": [
    "def aumenta_aluguel(linha):\n",
    "    return linha['aluguel'] + linha['aluguel']*0.1\n",
    "\n",
    "df['novo aluguel'] = df.apply(aumenta_aluguel, axis=1)\n",
    "\n",
    "df"
   ]
  },
  {
   "cell_type": "markdown",
   "metadata": {},
   "source": [
    "O Python possui o conceito de \"função anônima\", ou \"função lambda\". Este recurso é útil para especificar um função simples sem precisar defini-la. Abaixo construímos uma função lambda que retorna apenas a parte do número do endereço de um apartamento."
   ]
  },
  {
   "cell_type": "code",
   "execution_count": 57,
   "metadata": {},
   "outputs": [
    {
     "data": {
      "text/html": [
       "<div>\n",
       "<style scoped>\n",
       "    .dataframe tbody tr th:only-of-type {\n",
       "        vertical-align: middle;\n",
       "    }\n",
       "\n",
       "    .dataframe tbody tr th {\n",
       "        vertical-align: top;\n",
       "    }\n",
       "\n",
       "    .dataframe thead th {\n",
       "        text-align: right;\n",
       "    }\n",
       "</style>\n",
       "<table border=\"1\" class=\"dataframe\">\n",
       "  <thead>\n",
       "    <tr style=\"text-align: right;\">\n",
       "      <th></th>\n",
       "      <th>index</th>\n",
       "      <th>endereco</th>\n",
       "      <th>area</th>\n",
       "      <th>aluguel</th>\n",
       "      <th>novo aluguel</th>\n",
       "      <th>numero ap.</th>\n",
       "    </tr>\n",
       "  </thead>\n",
       "  <tbody>\n",
       "    <tr>\n",
       "      <th>0</th>\n",
       "      <td>0.0</td>\n",
       "      <td>Av V. Guarapuava, 1000</td>\n",
       "      <td>45.0</td>\n",
       "      <td>800</td>\n",
       "      <td>880.0</td>\n",
       "      <td>1000</td>\n",
       "    </tr>\n",
       "    <tr>\n",
       "      <th>1</th>\n",
       "      <td>1.0</td>\n",
       "      <td>Av Sete de Setembro, 170</td>\n",
       "      <td>53.0</td>\n",
       "      <td>950</td>\n",
       "      <td>1045.0</td>\n",
       "      <td>170</td>\n",
       "    </tr>\n",
       "    <tr>\n",
       "      <th>2</th>\n",
       "      <td>2.0</td>\n",
       "      <td>Av Sete de Setembro, 830</td>\n",
       "      <td>35.0</td>\n",
       "      <td>850</td>\n",
       "      <td>935.0</td>\n",
       "      <td>830</td>\n",
       "    </tr>\n",
       "    <tr>\n",
       "      <th>3</th>\n",
       "      <td>NaN</td>\n",
       "      <td>Av Sete de Setembro, 730</td>\n",
       "      <td>NaN</td>\n",
       "      <td>775</td>\n",
       "      <td>852.5</td>\n",
       "      <td>730</td>\n",
       "    </tr>\n",
       "  </tbody>\n",
       "</table>\n",
       "</div>"
      ],
      "text/plain": [
       "   index                  endereco  area  aluguel  novo aluguel numero ap.\n",
       "0    0.0    Av V. Guarapuava, 1000  45.0      800         880.0       1000\n",
       "1    1.0  Av Sete de Setembro, 170  53.0      950        1045.0        170\n",
       "2    2.0  Av Sete de Setembro, 830  35.0      850         935.0        830\n",
       "3    NaN  Av Sete de Setembro, 730   NaN      775         852.5        730"
      ]
     },
     "execution_count": 57,
     "metadata": {},
     "output_type": "execute_result"
    }
   ],
   "source": [
    "df['numero ap.'] = df.apply(lambda x: x['endereco'].split(',')[1], axis=1)\n",
    "df"
   ]
  },
  {
   "cell_type": "markdown",
   "metadata": {},
   "source": [
    "O código acima é equivalente à sequência abaixo:"
   ]
  },
  {
   "cell_type": "code",
   "execution_count": 58,
   "metadata": {},
   "outputs": [
    {
     "data": {
      "text/html": [
       "<div>\n",
       "<style scoped>\n",
       "    .dataframe tbody tr th:only-of-type {\n",
       "        vertical-align: middle;\n",
       "    }\n",
       "\n",
       "    .dataframe tbody tr th {\n",
       "        vertical-align: top;\n",
       "    }\n",
       "\n",
       "    .dataframe thead th {\n",
       "        text-align: right;\n",
       "    }\n",
       "</style>\n",
       "<table border=\"1\" class=\"dataframe\">\n",
       "  <thead>\n",
       "    <tr style=\"text-align: right;\">\n",
       "      <th></th>\n",
       "      <th>index</th>\n",
       "      <th>endereco</th>\n",
       "      <th>area</th>\n",
       "      <th>aluguel</th>\n",
       "      <th>novo aluguel</th>\n",
       "      <th>numero ap.</th>\n",
       "    </tr>\n",
       "  </thead>\n",
       "  <tbody>\n",
       "    <tr>\n",
       "      <th>0</th>\n",
       "      <td>0.0</td>\n",
       "      <td>Av V. Guarapuava, 1000</td>\n",
       "      <td>45.0</td>\n",
       "      <td>800</td>\n",
       "      <td>880.0</td>\n",
       "      <td>1000</td>\n",
       "    </tr>\n",
       "    <tr>\n",
       "      <th>1</th>\n",
       "      <td>1.0</td>\n",
       "      <td>Av Sete de Setembro, 170</td>\n",
       "      <td>53.0</td>\n",
       "      <td>950</td>\n",
       "      <td>1045.0</td>\n",
       "      <td>170</td>\n",
       "    </tr>\n",
       "    <tr>\n",
       "      <th>2</th>\n",
       "      <td>2.0</td>\n",
       "      <td>Av Sete de Setembro, 830</td>\n",
       "      <td>35.0</td>\n",
       "      <td>850</td>\n",
       "      <td>935.0</td>\n",
       "      <td>830</td>\n",
       "    </tr>\n",
       "    <tr>\n",
       "      <th>3</th>\n",
       "      <td>NaN</td>\n",
       "      <td>Av Sete de Setembro, 730</td>\n",
       "      <td>NaN</td>\n",
       "      <td>775</td>\n",
       "      <td>852.5</td>\n",
       "      <td>730</td>\n",
       "    </tr>\n",
       "  </tbody>\n",
       "</table>\n",
       "</div>"
      ],
      "text/plain": [
       "   index                  endereco  area  aluguel  novo aluguel numero ap.\n",
       "0    0.0    Av V. Guarapuava, 1000  45.0      800         880.0       1000\n",
       "1    1.0  Av Sete de Setembro, 170  53.0      950        1045.0        170\n",
       "2    2.0  Av Sete de Setembro, 830  35.0      850         935.0        830\n",
       "3    NaN  Av Sete de Setembro, 730   NaN      775         852.5        730"
      ]
     },
     "execution_count": 58,
     "metadata": {},
     "output_type": "execute_result"
    }
   ],
   "source": [
    "def obtem_numero(linha):\n",
    "    numero = linha['endereco'].split(',')[1]\n",
    "    return numero\n",
    "\n",
    "df['numero ap.'] = df.apply(obtem_numero, axis=1)\n",
    "df"
   ]
  },
  {
   "cell_type": "markdown",
   "metadata": {},
   "source": [
    "## Tratando DataFrames grandes\n",
    "\n",
    "Muitas vezes precisamos processar dados que não cabem na memória do computador ou que demandam procedimentos complexos que deixam o processamento lento. Descrevemos aqui algumas técnicas para amenisar este tipo de problema. Vamos utilizar o dataset de reclamações, inicialmente contendo cerca de 7000 linhas (que é uma quantidade pequena, mas suficiente para os exemplos)."
   ]
  },
  {
   "cell_type": "code",
   "execution_count": 59,
   "metadata": {},
   "outputs": [
    {
     "name": "stdout",
     "output_type": "stream",
     "text": [
      "Total de linhas:  7013\n"
     ]
    },
    {
     "data": {
      "text/html": [
       "<div>\n",
       "<style scoped>\n",
       "    .dataframe tbody tr th:only-of-type {\n",
       "        vertical-align: middle;\n",
       "    }\n",
       "\n",
       "    .dataframe tbody tr th {\n",
       "        vertical-align: top;\n",
       "    }\n",
       "\n",
       "    .dataframe thead th {\n",
       "        text-align: right;\n",
       "    }\n",
       "</style>\n",
       "<table border=\"1\" class=\"dataframe\">\n",
       "  <thead>\n",
       "    <tr style=\"text-align: right;\">\n",
       "      <th></th>\n",
       "      <th>SOLICITACAO</th>\n",
       "      <th>TIPO</th>\n",
       "      <th>ORGAO</th>\n",
       "      <th>DATA</th>\n",
       "      <th>HORARIO</th>\n",
       "      <th>ASSUNTO</th>\n",
       "      <th>SUBDIVISAO</th>\n",
       "      <th>DESCRICAO</th>\n",
       "      <th>LOGRADOURO_ASS</th>\n",
       "      <th>BAIRRO_ASS</th>\n",
       "      <th>REGIONAL_ASS</th>\n",
       "      <th>MEIO_RESPOSTA</th>\n",
       "      <th>OBSERVACAO</th>\n",
       "      <th>SEXO</th>\n",
       "      <th>BAIRRO_CIDADAO</th>\n",
       "      <th>REGIONAL_CIDADAO</th>\n",
       "      <th>DATA_NASC</th>\n",
       "      <th>TIPO_CIDADAO</th>\n",
       "      <th>ORGAO_RESP</th>\n",
       "      <th>RESPOSTA_FINAL</th>\n",
       "    </tr>\n",
       "  </thead>\n",
       "  <tbody>\n",
       "    <tr>\n",
       "      <th>0</th>\n",
       "      <td>6669771</td>\n",
       "      <td>SOLICITAÇÃO</td>\n",
       "      <td>INSTITUTO DAS CIDADES INTELIGENTES</td>\n",
       "      <td>09/11/2016</td>\n",
       "      <td>21:02:44</td>\n",
       "      <td>ABORDAGEM SOCIAL DE RUA - ADULTO</td>\n",
       "      <td>PESSOAS/FAMÍLIAS EM DESABRIGO NA RUA</td>\n",
       "      <td>ABORDAGEM SOCIAL DE RUA - ADULTO - PESSOAS/FAM...</td>\n",
       "      <td>ANDRE DE BARROS, 0</td>\n",
       "      <td>CENTRO</td>\n",
       "      <td>Unidade Regional Matriz</td>\n",
       "      <td>NENHUM</td>\n",
       "      <td>NÃO SOUBE INFORMAR NUMERAÇÃO PREDIAL</td>\n",
       "      <td>M</td>\n",
       "      <td>NaN</td>\n",
       "      <td>NaN</td>\n",
       "      <td>NaN</td>\n",
       "      <td>CIDADÃO</td>\n",
       "      <td>FUNDAÇÃO DE AÇÃO SOCIAL</td>\n",
       "      <td>Abordagem realizada. Pessoa foi orientada quan...</td>\n",
       "    </tr>\n",
       "    <tr>\n",
       "      <th>1</th>\n",
       "      <td>6718351</td>\n",
       "      <td>SOLICITAÇÃO</td>\n",
       "      <td>INSTITUTO DAS CIDADES INTELIGENTES</td>\n",
       "      <td>27/12/2016</td>\n",
       "      <td>00:40:04</td>\n",
       "      <td>ABORDAGEM SOCIAL DE RUA - ADULTO</td>\n",
       "      <td>PERDIDA/DESORIENTADA</td>\n",
       "      <td>ABORDAGEM SOCIAL DE RUA - ADULTO - PERDIDA/DES...</td>\n",
       "      <td>NILO CAIRO, 0</td>\n",
       "      <td>CENTRO</td>\n",
       "      <td>Unidade Regional Matriz</td>\n",
       "      <td>NENHUM</td>\n",
       "      <td>NÃO SOUBE INFORMAR NUMERAÇÃO PREDIAL, RELATA E...</td>\n",
       "      <td>M</td>\n",
       "      <td>NaN</td>\n",
       "      <td>NaN</td>\n",
       "      <td>NaN</td>\n",
       "      <td>CIDADÃO</td>\n",
       "      <td>FUNDAÇÃO DE AÇÃO SOCIAL</td>\n",
       "      <td>EM ABORDAGEM REALIZADA, NÃO FOI ENCONTRADA A P...</td>\n",
       "    </tr>\n",
       "    <tr>\n",
       "      <th>2</th>\n",
       "      <td>6702371</td>\n",
       "      <td>SOLICITAÇÃO</td>\n",
       "      <td>INSTITUTO DAS CIDADES INTELIGENTES</td>\n",
       "      <td>07/12/2016</td>\n",
       "      <td>14:09:42</td>\n",
       "      <td>ABORDAGEM SOCIAL DE RUA - CRIANÇA</td>\n",
       "      <td>ALCOOLIZADAS/DROGADAS</td>\n",
       "      <td>ABORDAGEM SOCIAL DE RUA - CRIANÇA - ALCOOLIZAD...</td>\n",
       "      <td>VISCONDE DE NACAR, 1210</td>\n",
       "      <td>CENTRO</td>\n",
       "      <td>Unidade Regional Matriz</td>\n",
       "      <td>NENHUM</td>\n",
       "      <td>NaN</td>\n",
       "      <td>F</td>\n",
       "      <td>NaN</td>\n",
       "      <td>NaN</td>\n",
       "      <td>NaN</td>\n",
       "      <td>CIDADÃO</td>\n",
       "      <td>FUNDAÇÃO DE AÇÃO SOCIAL</td>\n",
       "      <td>- EM ABORDAGEM REALIZADA, NÃO FOI ENCONTRADA A...</td>\n",
       "    </tr>\n",
       "    <tr>\n",
       "      <th>3</th>\n",
       "      <td>6718692</td>\n",
       "      <td>SOLICITAÇÃO</td>\n",
       "      <td>INSTITUTO DAS CIDADES INTELIGENTES</td>\n",
       "      <td>27/12/2016</td>\n",
       "      <td>13:28:27</td>\n",
       "      <td>ABORDAGEM SOCIAL DE RUA - ADULTO</td>\n",
       "      <td>PESSOAS/FAMÍLIAS EM DESABRIGO NA RUA</td>\n",
       "      <td>ABORDAGEM SOCIAL DE RUA - ADULTO - PESSOAS/FAM...</td>\n",
       "      <td>MARECHAL DEODORO, 0</td>\n",
       "      <td>CENTRO</td>\n",
       "      <td>Unidade Regional Matriz</td>\n",
       "      <td>NENHUM</td>\n",
       "      <td>NaN</td>\n",
       "      <td>M</td>\n",
       "      <td>NaN</td>\n",
       "      <td>NaN</td>\n",
       "      <td>NaN</td>\n",
       "      <td>CIDADÃO</td>\n",
       "      <td>FUNDAÇÃO DE AÇÃO SOCIAL</td>\n",
       "      <td>A pessoa da solicitação já foi abordada nesta ...</td>\n",
       "    </tr>\n",
       "    <tr>\n",
       "      <th>4</th>\n",
       "      <td>6704503</td>\n",
       "      <td>SOLICITAÇÃO</td>\n",
       "      <td>INSTITUTO DAS CIDADES INTELIGENTES</td>\n",
       "      <td>09/12/2016</td>\n",
       "      <td>01:28:16</td>\n",
       "      <td>ABORDAGEM SOCIAL DE RUA - ADULTO</td>\n",
       "      <td>DORMINDO/CAÍDAS NA RUA</td>\n",
       "      <td>ABORDAGEM SOCIAL DE RUA - ADULTO - DORMINDO/CA...</td>\n",
       "      <td>MARECHAL DEODORO, 0</td>\n",
       "      <td>CENTRO</td>\n",
       "      <td>Unidade Regional Matriz</td>\n",
       "      <td>NENHUM</td>\n",
       "      <td>NÃO SOUBE INFORMAR NUMERAÇÃO PREDIAL.</td>\n",
       "      <td>M</td>\n",
       "      <td>NaN</td>\n",
       "      <td>NaN</td>\n",
       "      <td>04/06/1997</td>\n",
       "      <td>CIDADÃO</td>\n",
       "      <td>FUNDAÇÃO DE AÇÃO SOCIAL</td>\n",
       "      <td>A pessoa da solicitação já faz parte da rede d...</td>\n",
       "    </tr>\n",
       "  </tbody>\n",
       "</table>\n",
       "</div>"
      ],
      "text/plain": [
       "   SOLICITACAO         TIPO                               ORGAO        DATA  \\\n",
       "0      6669771  SOLICITAÇÃO  INSTITUTO DAS CIDADES INTELIGENTES  09/11/2016   \n",
       "1      6718351  SOLICITAÇÃO  INSTITUTO DAS CIDADES INTELIGENTES  27/12/2016   \n",
       "2      6702371  SOLICITAÇÃO  INSTITUTO DAS CIDADES INTELIGENTES  07/12/2016   \n",
       "3      6718692  SOLICITAÇÃO  INSTITUTO DAS CIDADES INTELIGENTES  27/12/2016   \n",
       "4      6704503  SOLICITAÇÃO  INSTITUTO DAS CIDADES INTELIGENTES  09/12/2016   \n",
       "\n",
       "    HORARIO                            ASSUNTO  \\\n",
       "0  21:02:44   ABORDAGEM SOCIAL DE RUA - ADULTO   \n",
       "1  00:40:04   ABORDAGEM SOCIAL DE RUA - ADULTO   \n",
       "2  14:09:42  ABORDAGEM SOCIAL DE RUA - CRIANÇA   \n",
       "3  13:28:27   ABORDAGEM SOCIAL DE RUA - ADULTO   \n",
       "4  01:28:16   ABORDAGEM SOCIAL DE RUA - ADULTO   \n",
       "\n",
       "                             SUBDIVISAO  \\\n",
       "0  PESSOAS/FAMÍLIAS EM DESABRIGO NA RUA   \n",
       "1                  PERDIDA/DESORIENTADA   \n",
       "2                 ALCOOLIZADAS/DROGADAS   \n",
       "3  PESSOAS/FAMÍLIAS EM DESABRIGO NA RUA   \n",
       "4                DORMINDO/CAÍDAS NA RUA   \n",
       "\n",
       "                                           DESCRICAO           LOGRADOURO_ASS  \\\n",
       "0  ABORDAGEM SOCIAL DE RUA - ADULTO - PESSOAS/FAM...       ANDRE DE BARROS, 0   \n",
       "1  ABORDAGEM SOCIAL DE RUA - ADULTO - PERDIDA/DES...            NILO CAIRO, 0   \n",
       "2  ABORDAGEM SOCIAL DE RUA - CRIANÇA - ALCOOLIZAD...  VISCONDE DE NACAR, 1210   \n",
       "3  ABORDAGEM SOCIAL DE RUA - ADULTO - PESSOAS/FAM...      MARECHAL DEODORO, 0   \n",
       "4  ABORDAGEM SOCIAL DE RUA - ADULTO - DORMINDO/CA...      MARECHAL DEODORO, 0   \n",
       "\n",
       "  BAIRRO_ASS             REGIONAL_ASS MEIO_RESPOSTA  \\\n",
       "0     CENTRO  Unidade Regional Matriz        NENHUM   \n",
       "1     CENTRO  Unidade Regional Matriz        NENHUM   \n",
       "2     CENTRO  Unidade Regional Matriz        NENHUM   \n",
       "3     CENTRO  Unidade Regional Matriz        NENHUM   \n",
       "4     CENTRO  Unidade Regional Matriz        NENHUM   \n",
       "\n",
       "                                          OBSERVACAO SEXO BAIRRO_CIDADAO  \\\n",
       "0               NÃO SOUBE INFORMAR NUMERAÇÃO PREDIAL    M            NaN   \n",
       "1  NÃO SOUBE INFORMAR NUMERAÇÃO PREDIAL, RELATA E...    M            NaN   \n",
       "2                                                NaN    F            NaN   \n",
       "3                                                NaN    M            NaN   \n",
       "4              NÃO SOUBE INFORMAR NUMERAÇÃO PREDIAL.    M            NaN   \n",
       "\n",
       "  REGIONAL_CIDADAO   DATA_NASC TIPO_CIDADAO               ORGAO_RESP  \\\n",
       "0              NaN         NaN      CIDADÃO  FUNDAÇÃO DE AÇÃO SOCIAL   \n",
       "1              NaN         NaN      CIDADÃO  FUNDAÇÃO DE AÇÃO SOCIAL   \n",
       "2              NaN         NaN      CIDADÃO  FUNDAÇÃO DE AÇÃO SOCIAL   \n",
       "3              NaN         NaN      CIDADÃO  FUNDAÇÃO DE AÇÃO SOCIAL   \n",
       "4              NaN  04/06/1997      CIDADÃO  FUNDAÇÃO DE AÇÃO SOCIAL   \n",
       "\n",
       "                                      RESPOSTA_FINAL  \n",
       "0  Abordagem realizada. Pessoa foi orientada quan...  \n",
       "1  EM ABORDAGEM REALIZADA, NÃO FOI ENCONTRADA A P...  \n",
       "2  - EM ABORDAGEM REALIZADA, NÃO FOI ENCONTRADA A...  \n",
       "3  A pessoa da solicitação já foi abordada nesta ...  \n",
       "4  A pessoa da solicitação já faz parte da rede d...  "
      ]
     },
     "execution_count": 59,
     "metadata": {},
     "output_type": "execute_result"
    }
   ],
   "source": [
    "# lê o arquivo CSV\n",
    "datafile = '../data/2017-02-01_156_-_Base_de_Dados_sample.csv'\n",
    "df = pd.read_csv(datafile, sep=';', encoding='latin-1')\n",
    "\n",
    "print(\"Total de linhas: \", len(df))\n",
    "\n",
    "df.head()"
   ]
  },
  {
   "cell_type": "markdown",
   "metadata": {},
   "source": [
    "Uma forma de reduzir o tamanho de um DataFrame é fazer uma amostragem das linhas. Abaixo fazemos uma amostragem aleatória de 1000 linhas:"
   ]
  },
  {
   "cell_type": "code",
   "execution_count": 60,
   "metadata": {},
   "outputs": [
    {
     "name": "stdout",
     "output_type": "stream",
     "text": [
      "1000\n"
     ]
    }
   ],
   "source": [
    "df_sample = df.sample(1000)\n",
    "\n",
    "print(len(df_sample))"
   ]
  },
  {
   "cell_type": "markdown",
   "metadata": {},
   "source": [
    "O problema da estratégia de amostragem acima é que os dados já estavam na memória. Portanto, esta estratégia não funcionaria se os dados fossem maior que a memória disponível. Nestes casos precisamos fazer a amostragem no momento da leitura do arquivo de dados.\n",
    "\n",
    "O código abaixo contrói uma lista aleatória de índices de linhas para serem ignoradas. Quando o comando `pd.read_csv()` é chamado, ele carrega na memória somente as linhas que não aparecem na lista gerada (que foi passada no parâmetro *skiprows*)."
   ]
  },
  {
   "cell_type": "code",
   "execution_count": 61,
   "metadata": {},
   "outputs": [
    {
     "name": "stdout",
     "output_type": "stream",
     "text": [
      "Total de linhas:  700\n"
     ]
    }
   ],
   "source": [
    "import random\n",
    "\n",
    "# Definindo uma semente de geração de números aleatórios para que a seleção seja a mesma em múltiplas execuções do código\n",
    "random.seed(42)\n",
    "\n",
    "# Conta linhas do arquivo de entrada\n",
    "num_linhas = sum(1 for l in open(datafile, encoding='latin-1'))\n",
    "\n",
    "# Define a proporção dos dados a se manter\n",
    "proporcao = 0.1\n",
    "\n",
    "# calcula o tamanho desejado da amostragem\n",
    "novo_tamanho = int(num_linhas * proporcao)\n",
    "\n",
    "# define os valores de índice aleatórios que serão ignorados\n",
    "skip_idx = random.sample(range(1, num_linhas), num_linhas - novo_tamanho)\n",
    "\n",
    "# Lê os dados pulando as linhas definidas\n",
    "df = pd.read_csv(datafile, sep=';', skiprows=skip_idx, encoding='latin-1')\n",
    "\n",
    "print(\"Total de linhas: \", len(df))"
   ]
  },
  {
   "cell_type": "markdown",
   "metadata": {},
   "source": [
    "Outra possibilidade é ler os dados em \"lotes\", processando um número determinado de linhas de cada vez. O código abaixo define o tamanho dos pedaços a serem lidos (no caso 30 linhas). Estes pedaços são lidos um de cada vez e cada um recebe um tratamento de limpeza de dados (linhas com valores nulos são eliminadas). Ao fim, apenas cerca de 3600 linhas restaram no DataFrame contruído pelo procedimento."
   ]
  },
  {
   "cell_type": "code",
   "execution_count": 62,
   "metadata": {},
   "outputs": [
    {
     "name": "stdout",
     "output_type": "stream",
     "text": [
      "3640\n"
     ]
    },
    {
     "data": {
      "text/html": [
       "<div>\n",
       "<style scoped>\n",
       "    .dataframe tbody tr th:only-of-type {\n",
       "        vertical-align: middle;\n",
       "    }\n",
       "\n",
       "    .dataframe tbody tr th {\n",
       "        vertical-align: top;\n",
       "    }\n",
       "\n",
       "    .dataframe thead th {\n",
       "        text-align: right;\n",
       "    }\n",
       "</style>\n",
       "<table border=\"1\" class=\"dataframe\">\n",
       "  <thead>\n",
       "    <tr style=\"text-align: right;\">\n",
       "      <th></th>\n",
       "      <th>SOLICITACAO</th>\n",
       "      <th>TIPO</th>\n",
       "      <th>ORGAO</th>\n",
       "      <th>DATA</th>\n",
       "      <th>HORARIO</th>\n",
       "      <th>ASSUNTO</th>\n",
       "      <th>SUBDIVISAO</th>\n",
       "      <th>DESCRICAO</th>\n",
       "      <th>LOGRADOURO_ASS</th>\n",
       "      <th>BAIRRO_ASS</th>\n",
       "      <th>REGIONAL_ASS</th>\n",
       "      <th>MEIO_RESPOSTA</th>\n",
       "      <th>OBSERVACAO</th>\n",
       "      <th>SEXO</th>\n",
       "      <th>BAIRRO_CIDADAO</th>\n",
       "      <th>REGIONAL_CIDADAO</th>\n",
       "      <th>DATA_NASC</th>\n",
       "      <th>TIPO_CIDADAO</th>\n",
       "      <th>ORGAO_RESP</th>\n",
       "      <th>RESPOSTA_FINAL</th>\n",
       "    </tr>\n",
       "  </thead>\n",
       "  <tbody>\n",
       "    <tr>\n",
       "      <th>115</th>\n",
       "      <td>6703815</td>\n",
       "      <td>SOLICITAÇÃO</td>\n",
       "      <td>INSTITUTO DAS CIDADES INTELIGENTES</td>\n",
       "      <td>08/12/2016</td>\n",
       "      <td>13:43:09</td>\n",
       "      <td>ABORDAGEM SOCIAL DE RUA - ADULTO</td>\n",
       "      <td>DORMINDO/CAÍDAS NA RUA</td>\n",
       "      <td>ABORDAGEM SOCIAL DE RUA - ADULTO - DORMINDO/CA...</td>\n",
       "      <td>DESEMBARGADOR MOTTA, 0</td>\n",
       "      <td>BATEL</td>\n",
       "      <td>Unidade Regional Matriz</td>\n",
       "      <td>TELEFONE</td>\n",
       "      <td>NÃO SOUBE INFORMAR SE O RAPAZ ESTÁ BEM NEM A N...</td>\n",
       "      <td>F</td>\n",
       "      <td>BATEL</td>\n",
       "      <td>Unidade Regional Matriz</td>\n",
       "      <td>11/01/1982</td>\n",
       "      <td>CIDADÃO</td>\n",
       "      <td>FUNDAÇÃO DE AÇÃO SOCIAL</td>\n",
       "      <td>EM ABORDAGEM REALIZADA, NÃO FOI ENCONTRADA A P...</td>\n",
       "    </tr>\n",
       "    <tr>\n",
       "      <th>118</th>\n",
       "      <td>6699104</td>\n",
       "      <td>SOLICITAÇÃO</td>\n",
       "      <td>INSTITUTO DAS CIDADES INTELIGENTES</td>\n",
       "      <td>05/12/2016</td>\n",
       "      <td>14:53:29</td>\n",
       "      <td>ILUMINAÇÃO PÚBLICA</td>\n",
       "      <td>MANUTENÇÃO DE LUMINÁRIAS</td>\n",
       "      <td>ILUMINAÇÃO PÚBLICA - MANUTENÇÃO DE LUMINÁRIAS</td>\n",
       "      <td>PADRE AGOSTINHO, 781</td>\n",
       "      <td>MERCES</td>\n",
       "      <td>Unidade Regional Matriz</td>\n",
       "      <td>EMAIL</td>\n",
       "      <td>NÃO SOUBE INFORMAR A ID DO POSTE. EM FRENTE A ...</td>\n",
       "      <td>M</td>\n",
       "      <td>MERCES</td>\n",
       "      <td>Unidade Regional Matriz</td>\n",
       "      <td>11/11/1948</td>\n",
       "      <td>CIDADÃO</td>\n",
       "      <td>SECRETARIA MUNICIPAL DE OBRAS PÚBLICAS</td>\n",
       "      <td>SOLICITACAO ATENDIDA</td>\n",
       "    </tr>\n",
       "    <tr>\n",
       "      <th>119</th>\n",
       "      <td>6718601</td>\n",
       "      <td>SOLICITAÇÃO</td>\n",
       "      <td>INSTITUTO DAS CIDADES INTELIGENTES</td>\n",
       "      <td>27/12/2016</td>\n",
       "      <td>11:48:48</td>\n",
       "      <td>SEMÁFORO</td>\n",
       "      <td>MANUTENÇÃO DE GRUPOS FOCAIS OU COLUNAS (EXCETO...</td>\n",
       "      <td>SEMÁFORO - MANUTENÇÃO DE GRUPOS FOCAIS OU COLU...</td>\n",
       "      <td>MARECHAL FLORIANO PEIXOTO, 0</td>\n",
       "      <td>CENTRO</td>\n",
       "      <td>Unidade Regional Matriz</td>\n",
       "      <td>NENHUM</td>\n",
       "      <td>NÃO SOUBE INFORMAR NÚMERO PREDIAL.</td>\n",
       "      <td>F</td>\n",
       "      <td>BATEL</td>\n",
       "      <td>Unidade Regional Matriz</td>\n",
       "      <td>05/01/1958</td>\n",
       "      <td>CIDADÃO</td>\n",
       "      <td>SECRETARIA MUNICIPAL DE TRÂNSITO</td>\n",
       "      <td>Informamos que uma ordem de serviço foi emitid...</td>\n",
       "    </tr>\n",
       "    <tr>\n",
       "      <th>122</th>\n",
       "      <td>6759593</td>\n",
       "      <td>SOLICITAÇÃO</td>\n",
       "      <td>INSTITUTO DAS CIDADES INTELIGENTES</td>\n",
       "      <td>29/01/2017</td>\n",
       "      <td>20:44:14</td>\n",
       "      <td>TRÂNSITO</td>\n",
       "      <td>VEÍCULO ESTACIONADO - CALÇADA</td>\n",
       "      <td>TRÂNSITO - VEÍCULO ESTACIONADO - CALÇADA</td>\n",
       "      <td>VISCONDE DE GUARAPUAVA, 1447</td>\n",
       "      <td>ALTO DA RUA XV</td>\n",
       "      <td>Unidade Regional Matriz</td>\n",
       "      <td>EMAIL</td>\n",
       "      <td>NÃO SOUBE INFORMAR DADOS DOS VEÍCULOS.</td>\n",
       "      <td>M</td>\n",
       "      <td>ALTO DA RUA XV</td>\n",
       "      <td>Unidade Regional Matriz</td>\n",
       "      <td>23/10/1991</td>\n",
       "      <td>CIDADÃO</td>\n",
       "      <td>SECRETARIA MUNICIPAL DE TRÂNSITO</td>\n",
       "      <td>encaminhado viatura 222, no local às 21:18h, c...</td>\n",
       "    </tr>\n",
       "    <tr>\n",
       "      <th>123</th>\n",
       "      <td>6677442</td>\n",
       "      <td>SOLICITAÇÃO</td>\n",
       "      <td>INSTITUTO DAS CIDADES INTELIGENTES</td>\n",
       "      <td>17/11/2016</td>\n",
       "      <td>11:21:12</td>\n",
       "      <td>COLETA</td>\n",
       "      <td>RESÍDUOS VEGETAIS DE JARDIM</td>\n",
       "      <td>COLETA - RESÍDUOS VEGETAIS DE JARDIM</td>\n",
       "      <td>VISCONDE DE GUARAPUAVA, 646</td>\n",
       "      <td>ALTO DA RUA XV</td>\n",
       "      <td>Unidade Regional Matriz</td>\n",
       "      <td>EMAIL</td>\n",
       "      <td>TRANSVERSAL 2: RUA GERMANO MEYER. NÃO INFORMOU...</td>\n",
       "      <td>F</td>\n",
       "      <td>ALTO DA RUA XV</td>\n",
       "      <td>Unidade Regional Matriz</td>\n",
       "      <td>07/07/1979</td>\n",
       "      <td>CIDADÃO</td>\n",
       "      <td>SECRETARIA MUNICIPAL DO MEIO AMBIENTE</td>\n",
       "      <td>O contrato de Coleta de Vegetais, caliças e en...</td>\n",
       "    </tr>\n",
       "  </tbody>\n",
       "</table>\n",
       "</div>"
      ],
      "text/plain": [
       "     SOLICITACAO         TIPO                               ORGAO        DATA  \\\n",
       "115      6703815  SOLICITAÇÃO  INSTITUTO DAS CIDADES INTELIGENTES  08/12/2016   \n",
       "118      6699104  SOLICITAÇÃO  INSTITUTO DAS CIDADES INTELIGENTES  05/12/2016   \n",
       "119      6718601  SOLICITAÇÃO  INSTITUTO DAS CIDADES INTELIGENTES  27/12/2016   \n",
       "122      6759593  SOLICITAÇÃO  INSTITUTO DAS CIDADES INTELIGENTES  29/01/2017   \n",
       "123      6677442  SOLICITAÇÃO  INSTITUTO DAS CIDADES INTELIGENTES  17/11/2016   \n",
       "\n",
       "      HORARIO                           ASSUNTO  \\\n",
       "115  13:43:09  ABORDAGEM SOCIAL DE RUA - ADULTO   \n",
       "118  14:53:29                ILUMINAÇÃO PÚBLICA   \n",
       "119  11:48:48                          SEMÁFORO   \n",
       "122  20:44:14                          TRÂNSITO   \n",
       "123  11:21:12                            COLETA   \n",
       "\n",
       "                                            SUBDIVISAO  \\\n",
       "115                             DORMINDO/CAÍDAS NA RUA   \n",
       "118                           MANUTENÇÃO DE LUMINÁRIAS   \n",
       "119  MANUTENÇÃO DE GRUPOS FOCAIS OU COLUNAS (EXCETO...   \n",
       "122                      VEÍCULO ESTACIONADO - CALÇADA   \n",
       "123                        RESÍDUOS VEGETAIS DE JARDIM   \n",
       "\n",
       "                                             DESCRICAO  \\\n",
       "115  ABORDAGEM SOCIAL DE RUA - ADULTO - DORMINDO/CA...   \n",
       "118      ILUMINAÇÃO PÚBLICA - MANUTENÇÃO DE LUMINÁRIAS   \n",
       "119  SEMÁFORO - MANUTENÇÃO DE GRUPOS FOCAIS OU COLU...   \n",
       "122           TRÂNSITO - VEÍCULO ESTACIONADO - CALÇADA   \n",
       "123               COLETA - RESÍDUOS VEGETAIS DE JARDIM   \n",
       "\n",
       "                   LOGRADOURO_ASS      BAIRRO_ASS             REGIONAL_ASS  \\\n",
       "115        DESEMBARGADOR MOTTA, 0           BATEL  Unidade Regional Matriz   \n",
       "118          PADRE AGOSTINHO, 781          MERCES  Unidade Regional Matriz   \n",
       "119  MARECHAL FLORIANO PEIXOTO, 0          CENTRO  Unidade Regional Matriz   \n",
       "122  VISCONDE DE GUARAPUAVA, 1447  ALTO DA RUA XV  Unidade Regional Matriz   \n",
       "123   VISCONDE DE GUARAPUAVA, 646  ALTO DA RUA XV  Unidade Regional Matriz   \n",
       "\n",
       "    MEIO_RESPOSTA                                         OBSERVACAO SEXO  \\\n",
       "115      TELEFONE  NÃO SOUBE INFORMAR SE O RAPAZ ESTÁ BEM NEM A N...    F   \n",
       "118         EMAIL  NÃO SOUBE INFORMAR A ID DO POSTE. EM FRENTE A ...    M   \n",
       "119        NENHUM                 NÃO SOUBE INFORMAR NÚMERO PREDIAL.    F   \n",
       "122         EMAIL             NÃO SOUBE INFORMAR DADOS DOS VEÍCULOS.    M   \n",
       "123         EMAIL  TRANSVERSAL 2: RUA GERMANO MEYER. NÃO INFORMOU...    F   \n",
       "\n",
       "     BAIRRO_CIDADAO         REGIONAL_CIDADAO   DATA_NASC TIPO_CIDADAO  \\\n",
       "115           BATEL  Unidade Regional Matriz  11/01/1982      CIDADÃO   \n",
       "118          MERCES  Unidade Regional Matriz  11/11/1948      CIDADÃO   \n",
       "119           BATEL  Unidade Regional Matriz  05/01/1958      CIDADÃO   \n",
       "122  ALTO DA RUA XV  Unidade Regional Matriz  23/10/1991      CIDADÃO   \n",
       "123  ALTO DA RUA XV  Unidade Regional Matriz  07/07/1979      CIDADÃO   \n",
       "\n",
       "                                 ORGAO_RESP  \\\n",
       "115                 FUNDAÇÃO DE AÇÃO SOCIAL   \n",
       "118  SECRETARIA MUNICIPAL DE OBRAS PÚBLICAS   \n",
       "119        SECRETARIA MUNICIPAL DE TRÂNSITO   \n",
       "122        SECRETARIA MUNICIPAL DE TRÂNSITO   \n",
       "123   SECRETARIA MUNICIPAL DO MEIO AMBIENTE   \n",
       "\n",
       "                                        RESPOSTA_FINAL  \n",
       "115  EM ABORDAGEM REALIZADA, NÃO FOI ENCONTRADA A P...  \n",
       "118                               SOLICITACAO ATENDIDA  \n",
       "119  Informamos que uma ordem de serviço foi emitid...  \n",
       "122  encaminhado viatura 222, no local às 21:18h, c...  \n",
       "123  O contrato de Coleta de Vegetais, caliças e en...  "
      ]
     },
     "execution_count": 62,
     "metadata": {},
     "output_type": "execute_result"
    }
   ],
   "source": [
    "chunksize = 30\n",
    "\n",
    "df_limpa = pd.DataFrame()\n",
    "\n",
    "for df_chunk in pd.read_csv(datafile, chunksize=chunksize, sep=';', encoding='latin-1'):\n",
    "    # limpeza de dados no chunk atual:\n",
    "    df_chunk = df_chunk.dropna(how='any', axis=0)\n",
    "    df_limpa = pd.concat([df_limpa, df_chunk])\n",
    "\n",
    "    \n",
    "print(len(df_limpa))\n",
    "df_limpa.head()"
   ]
  }
 ],
 "metadata": {
  "hide_input": false,
  "kernelspec": {
   "display_name": "base",
   "language": "python",
   "name": "python3"
  },
  "language_info": {
   "codemirror_mode": {
    "name": "ipython",
    "version": 3
   },
   "file_extension": ".py",
   "mimetype": "text/x-python",
   "name": "python",
   "nbconvert_exporter": "python",
   "pygments_lexer": "ipython3",
   "version": "3.13.5"
  },
  "toc": {
   "base_numbering": 1,
   "nav_menu": {},
   "number_sections": true,
   "sideBar": true,
   "skip_h1_title": false,
   "title_cell": "Table of Contents",
   "title_sidebar": "Contents",
   "toc_cell": false,
   "toc_position": {},
   "toc_section_display": true,
   "toc_window_display": false
  }
 },
 "nbformat": 4,
 "nbformat_minor": 1
}
