{
 "cells": [
  {
   "cell_type": "markdown",
   "metadata": {},
   "source": [
    "# Introdução a Análise de Regressão em Python\n",
    "\n",
    "Análises de regressão são muito usadas para se entender a relação entre variáveis. Neste notebook apresentamos conceitos básicos do uso da biblioteca [StatsModels](https://www.statsmodels.org), que implementa uma grande gama de modelos de regressão."
   ]
  },
  {
   "cell_type": "code",
   "execution_count": 2,
   "metadata": {},
   "outputs": [],
   "source": [
    "# Importação de pacotes\n",
    "import pandas as pd\n",
    "from statsmodels.formula.api import ols"
   ]
  },
  {
   "cell_type": "markdown",
   "metadata": {},
   "source": [
    "## Lendo dados de um arquivo\n",
    "\n",
    "O DataFrame carregado contém dados de altura e peso de crianças em idade escolar. As colunas representam o código de estudante (RA), altura em metros (height) e peso em kg (weight)."
   ]
  },
  {
   "cell_type": "code",
   "execution_count": 16,
   "metadata": {},
   "outputs": [
    {
     "data": {
      "text/html": [
       "<div>\n",
       "<style scoped>\n",
       "    .dataframe tbody tr th:only-of-type {\n",
       "        vertical-align: middle;\n",
       "    }\n",
       "\n",
       "    .dataframe tbody tr th {\n",
       "        vertical-align: top;\n",
       "    }\n",
       "\n",
       "    .dataframe thead th {\n",
       "        text-align: right;\n",
       "    }\n",
       "</style>\n",
       "<table border=\"1\" class=\"dataframe\">\n",
       "  <thead>\n",
       "    <tr style=\"text-align: right;\">\n",
       "      <th></th>\n",
       "      <th>RA</th>\n",
       "      <th>Height</th>\n",
       "      <th>Weight</th>\n",
       "    </tr>\n",
       "  </thead>\n",
       "  <tbody>\n",
       "    <tr>\n",
       "      <th>0</th>\n",
       "      <td>347333</td>\n",
       "      <td>160.02</td>\n",
       "      <td>49.441572</td>\n",
       "    </tr>\n",
       "    <tr>\n",
       "      <th>1</th>\n",
       "      <td>418955</td>\n",
       "      <td>165.10</td>\n",
       "      <td>62.595751</td>\n",
       "    </tr>\n",
       "    <tr>\n",
       "      <th>2</th>\n",
       "      <td>769270</td>\n",
       "      <td>165.10</td>\n",
       "      <td>75.749931</td>\n",
       "    </tr>\n",
       "  </tbody>\n",
       "</table>\n",
       "</div>"
      ],
      "text/plain": [
       "       RA  Height     Weight\n",
       "0  347333  160.02  49.441572\n",
       "1  418955  165.10  62.595751\n",
       "2  769270  165.10  75.749931"
      ]
     },
     "execution_count": 16,
     "metadata": {},
     "output_type": "execute_result"
    }
   ],
   "source": [
    "# lê o arquivo CSV\n",
    "df = pd.read_csv('HeightWeight.csv')\n",
    "\n",
    "# convertendo a altura para centímetros para simplificar a interpretação\n",
    "df['Height'] = df['Height'] * 100\n",
    "\n",
    "# mostra o conteúdo do DataFrame\n",
    "df.head(3)"
   ]
  },
  {
   "cell_type": "markdown",
   "metadata": {},
   "source": [
    "## Entendendo as variáveis\n",
    "\n",
    "É de se esperar que exista uma associação entre a altura e o peso (massa, na verdade) de uma pessoa. Em geral, quanto mais alta a pessoa, maior será sua massa. Podemos ver isto no diagrama de dispersão abaixo."
   ]
  },
  {
   "cell_type": "code",
   "execution_count": 11,
   "metadata": {},
   "outputs": [
    {
     "data": {
      "text/plain": [
       "<AxesSubplot:xlabel='Height', ylabel='Weight'>"
      ]
     },
     "execution_count": 11,
     "metadata": {},
     "output_type": "execute_result"
    },
    {
     "data": {
      "image/png": "[encoded data removed]",
      "text/plain": [
       "<Figure size 432x288 with 1 Axes>"
      ]
     },
     "metadata": {
      "needs_background": "light"
     },
     "output_type": "display_data"
    }
   ],
   "source": [
    "df.plot.scatter('Height', 'Weight')"
   ]
  },
  {
   "cell_type": "markdown",
   "metadata": {},
   "source": [
    "Já não esperaríamos uma associação entre as variáveis peso e RA, pois em geral o RA não vai influenciar no peso de uma pessoa (exercício: você consegue pensar em uma situação onde possa existir uma associação entre essas variáveis?). Veja que o gráfico abaixo mostra que não há relação entre RA e peso (não há tendência de crescimento nem queda nos valores de peso à medida que o RA aumenta)."
   ]
  },
  {
   "cell_type": "code",
   "execution_count": 12,
   "metadata": {},
   "outputs": [
    {
     "data": {
      "text/plain": [
       "<AxesSubplot:xlabel='RA', ylabel='Weight'>"
      ]
     },
     "execution_count": 12,
     "metadata": {},
     "output_type": "execute_result"
    },
    {
     "data": {
      "image/png": "[encoded data removed]",
      "text/plain": [
       "<Figure size 432x288 with 1 Axes>"
      ]
     },
     "metadata": {
      "needs_background": "light"
     },
     "output_type": "display_data"
    }
   ],
   "source": [
    "df.plot.scatter('RA', 'Weight')"
   ]
  },
  {
   "cell_type": "markdown",
   "metadata": {},
   "source": [
    "## Regressão Linear\n"
   ]
  },
  {
   "cell_type": "markdown",
   "metadata": {},
   "source": [
    "Podemos criar um modelo de regressão para entender os fatores que influenciam o peso. Em termos estatísticos, dizemos que o peso é nossa variável dependente (que depende dos valores das outras). Vamos começar criando um modelo que use a altura para explicar o peso. A altura é chamada de variável independente. No statsmodels podemos representar nosso modelo como no código abaixo:"
   ]
  },
  {
   "cell_type": "code",
   "execution_count": 13,
   "metadata": {},
   "outputs": [
    {
     "data": {
      "text/html": [
       "<table class=\"simpletable\">\n",
       "<caption>OLS Regression Results</caption>\n",
       "<tr>\n",
       "  <th>Dep. Variable:</th>         <td>Weight</td>      <th>  R-squared:         </th> <td>   0.500</td>\n",
       "</tr>\n",
       "<tr>\n",
       "  <th>Model:</th>                   <td>OLS</td>       <th>  Adj. R-squared:    </th> <td>   0.494</td>\n",
       "</tr>\n",
       "<tr>\n",
       "  <th>Method:</th>             <td>Least Squares</td>  <th>  F-statistic:       </th> <td>   81.05</td>\n",
       "</tr>\n",
       "<tr>\n",
       "  <th>Date:</th>             <td>Mon, 18 Oct 2021</td> <th>  Prob (F-statistic):</th> <td>7.85e-14</td>\n",
       "</tr>\n",
       "<tr>\n",
       "  <th>Time:</th>                 <td>16:25:29</td>     <th>  Log-Likelihood:    </th> <td> -287.88</td>\n",
       "</tr>\n",
       "<tr>\n",
       "  <th>No. Observations:</th>      <td>    83</td>      <th>  AIC:               </th> <td>   579.8</td>\n",
       "</tr>\n",
       "<tr>\n",
       "  <th>Df Residuals:</th>          <td>    81</td>      <th>  BIC:               </th> <td>   584.6</td>\n",
       "</tr>\n",
       "<tr>\n",
       "  <th>Df Model:</th>              <td>     1</td>      <th>                     </th>     <td> </td>   \n",
       "</tr>\n",
       "<tr>\n",
       "  <th>Covariance Type:</th>      <td>nonrobust</td>    <th>                     </th>     <td> </td>   \n",
       "</tr>\n",
       "</table>\n",
       "<table class=\"simpletable\">\n",
       "<tr>\n",
       "      <td></td>         <th>coef</th>     <th>std err</th>      <th>t</th>      <th>P>|t|</th>  <th>[0.025</th>    <th>0.975]</th>  \n",
       "</tr>\n",
       "<tr>\n",
       "  <th>Intercept</th> <td> -112.1760</td> <td>   17.622</td> <td>   -6.366</td> <td> 0.000</td> <td> -147.239</td> <td>  -77.113</td>\n",
       "</tr>\n",
       "<tr>\n",
       "  <th>Height</th>    <td>    1.0501</td> <td>    0.117</td> <td>    9.003</td> <td> 0.000</td> <td>    0.818</td> <td>    1.282</td>\n",
       "</tr>\n",
       "</table>\n",
       "<table class=\"simpletable\">\n",
       "<tr>\n",
       "  <th>Omnibus:</th>       <td> 8.870</td> <th>  Durbin-Watson:     </th> <td>   1.225</td>\n",
       "</tr>\n",
       "<tr>\n",
       "  <th>Prob(Omnibus):</th> <td> 0.012</td> <th>  Jarque-Bera (JB):  </th> <td>   8.805</td>\n",
       "</tr>\n",
       "<tr>\n",
       "  <th>Skew:</th>          <td> 0.785</td> <th>  Prob(JB):          </th> <td>  0.0122</td>\n",
       "</tr>\n",
       "<tr>\n",
       "  <th>Kurtosis:</th>      <td> 3.280</td> <th>  Cond. No.          </th> <td>3.09e+03</td>\n",
       "</tr>\n",
       "</table><br/><br/>Warnings:<br/>[1] Standard Errors assume that the covariance matrix of the errors is correctly specified.<br/>[2] The condition number is large, 3.09e+03. This might indicate that there are<br/>strong multicollinearity or other numerical problems."
      ],
      "text/plain": [
       "<class 'statsmodels.iolib.summary.Summary'>\n",
       "\"\"\"\n",
       "                            OLS Regression Results                            \n",
       "==============================================================================\n",
       "Dep. Variable:                 Weight   R-squared:                       0.500\n",
       "Model:                            OLS   Adj. R-squared:                  0.494\n",
       "Method:                 Least Squares   F-statistic:                     81.05\n",
       "Date:                Mon, 18 Oct 2021   Prob (F-statistic):           7.85e-14\n",
       "Time:                        16:25:29   Log-Likelihood:                -287.88\n",
       "No. Observations:                  83   AIC:                             579.8\n",
       "Df Residuals:                      81   BIC:                             584.6\n",
       "Df Model:                           1                                         \n",
       "Covariance Type:            nonrobust                                         \n",
       "==============================================================================\n",
       "                 coef    std err          t      P>|t|      [0.025      0.975]\n",
       "------------------------------------------------------------------------------\n",
       "Intercept   -112.1760     17.622     -6.366      0.000    -147.239     -77.113\n",
       "Height         1.0501      0.117      9.003      0.000       0.818       1.282\n",
       "==============================================================================\n",
       "Omnibus:                        8.870   Durbin-Watson:                   1.225\n",
       "Prob(Omnibus):                  0.012   Jarque-Bera (JB):                8.805\n",
       "Skew:                           0.785   Prob(JB):                       0.0122\n",
       "Kurtosis:                       3.280   Cond. No.                     3.09e+03\n",
       "==============================================================================\n",
       "\n",
       "Warnings:\n",
       "[1] Standard Errors assume that the covariance matrix of the errors is correctly specified.\n",
       "[2] The condition number is large, 3.09e+03. This might indicate that there are\n",
       "strong multicollinearity or other numerical problems.\n",
       "\"\"\""
      ]
     },
     "execution_count": 13,
     "metadata": {},
     "output_type": "execute_result"
    }
   ],
   "source": [
    "model = ols(\"Weight ~ Height\", data=df)\n",
    "response = model.fit()\n",
    "response.summary()"
   ]
  },
  {
   "cell_type": "markdown",
   "metadata": {},
   "source": [
    "No modelo acima, podemos identificar o coeficiente da variável altura (1.0501) e o ponto de interseção (-112.1760). O coeficiente da altura é interpretado como: para cada aumento de uma unidade de altura (1cm), há um aumento médio de 1.05kg no peso das pessoas do estudo.\n",
    "\n",
    "Adicionando a interseção, o modelo identificou a seguinte relação linear entre os termos:\n",
    "\n",
    "$peso = 1.05 \\times altura - 112$\n",
    "\n",
    "Portanto, para uma pessoa de 140cm, o modelo espera um peso de $1.05 \\times 140 - 112 = 35kg$. Para usar o modelo para prever este valor, usamos os comandos abaixo:"
   ]
  },
  {
   "cell_type": "code",
   "execution_count": 15,
   "metadata": {},
   "outputs": [
    {
     "data": {
      "text/plain": [
       "0    34.836353\n",
       "dtype: float64"
      ]
     },
     "execution_count": 15,
     "metadata": {},
     "output_type": "execute_result"
    }
   ],
   "source": [
    "nova_pessoa = pd.DataFrame([{'RA': 236782, 'Height': 140}])\n",
    "response.predict(nova_pessoa)"
   ]
  },
  {
   "cell_type": "markdown",
   "metadata": {},
   "source": [
    "O p-value ($P>|t|$) da variável altura é igual a (na verdade próximo de) 0, portanto dizemos que a associação econtrada entre as variáveis é estatisticamente significante (ou seja, é improvável que tenhamos encontrado esta associação como efeito de problemas de amostragem)."
   ]
  },
  {
   "cell_type": "markdown",
   "metadata": {},
   "source": [
    "## Regressão linear múltipla\n",
    "\n",
    "As regressões ficam mais interessantes quando usamos mais variáveis para explicar uma variável dependente. Por exemplo, podemos tentar adicionar o RA na explicação do peso. O código abaixo cria este modelo:"
   ]
  },
  {
   "cell_type": "code",
   "execution_count": 15,
   "metadata": {},
   "outputs": [
    {
     "data": {
      "text/html": [
       "<table class=\"simpletable\">\n",
       "<caption>OLS Regression Results</caption>\n",
       "<tr>\n",
       "  <th>Dep. Variable:</th>         <td>Weight</td>      <th>  R-squared:         </th> <td>   0.502</td>\n",
       "</tr>\n",
       "<tr>\n",
       "  <th>Model:</th>                   <td>OLS</td>       <th>  Adj. R-squared:    </th> <td>   0.490</td>\n",
       "</tr>\n",
       "<tr>\n",
       "  <th>Method:</th>             <td>Least Squares</td>  <th>  F-statistic:       </th> <td>   40.32</td>\n",
       "</tr>\n",
       "<tr>\n",
       "  <th>Date:</th>             <td>Wed, 13 Oct 2021</td> <th>  Prob (F-statistic):</th> <td>7.77e-13</td>\n",
       "</tr>\n",
       "<tr>\n",
       "  <th>Time:</th>                 <td>14:54:43</td>     <th>  Log-Likelihood:    </th> <td> -287.73</td>\n",
       "</tr>\n",
       "<tr>\n",
       "  <th>No. Observations:</th>      <td>    83</td>      <th>  AIC:               </th> <td>   581.5</td>\n",
       "</tr>\n",
       "<tr>\n",
       "  <th>Df Residuals:</th>          <td>    80</td>      <th>  BIC:               </th> <td>   588.7</td>\n",
       "</tr>\n",
       "<tr>\n",
       "  <th>Df Model:</th>              <td>     2</td>      <th>                     </th>     <td> </td>   \n",
       "</tr>\n",
       "<tr>\n",
       "  <th>Covariance Type:</th>      <td>nonrobust</td>    <th>                     </th>     <td> </td>   \n",
       "</tr>\n",
       "</table>\n",
       "<table class=\"simpletable\">\n",
       "<tr>\n",
       "      <td></td>         <th>coef</th>     <th>std err</th>      <th>t</th>      <th>P>|t|</th>  <th>[0.025</th>    <th>0.975]</th>  \n",
       "</tr>\n",
       "<tr>\n",
       "  <th>Intercept</th> <td> -112.2745</td> <td>   17.701</td> <td>   -6.343</td> <td> 0.000</td> <td> -147.500</td> <td>  -77.049</td>\n",
       "</tr>\n",
       "<tr>\n",
       "  <th>RA</th>        <td> 1.927e-06</td> <td> 3.56e-06</td> <td>    0.541</td> <td> 0.590</td> <td>-5.17e-06</td> <td> 9.02e-06</td>\n",
       "</tr>\n",
       "<tr>\n",
       "  <th>Height</th>    <td>  104.3817</td> <td>   11.773</td> <td>    8.866</td> <td> 0.000</td> <td>   80.953</td> <td>  127.810</td>\n",
       "</tr>\n",
       "</table>\n",
       "<table class=\"simpletable\">\n",
       "<tr>\n",
       "  <th>Omnibus:</th>       <td> 9.081</td> <th>  Durbin-Watson:     </th> <td>   1.207</td>\n",
       "</tr>\n",
       "<tr>\n",
       "  <th>Prob(Omnibus):</th> <td> 0.011</td> <th>  Jarque-Bera (JB):  </th> <td>   9.061</td>\n",
       "</tr>\n",
       "<tr>\n",
       "  <th>Skew:</th>          <td> 0.797</td> <th>  Prob(JB):          </th> <td>  0.0108</td>\n",
       "</tr>\n",
       "<tr>\n",
       "  <th>Kurtosis:</th>      <td> 3.285</td> <th>  Cond. No.          </th> <td>1.46e+07</td>\n",
       "</tr>\n",
       "</table><br/><br/>Warnings:<br/>[1] Standard Errors assume that the covariance matrix of the errors is correctly specified.<br/>[2] The condition number is large, 1.46e+07. This might indicate that there are<br/>strong multicollinearity or other numerical problems."
      ],
      "text/plain": [
       "<class 'statsmodels.iolib.summary.Summary'>\n",
       "\"\"\"\n",
       "                            OLS Regression Results                            \n",
       "==============================================================================\n",
       "Dep. Variable:                 Weight   R-squared:                       0.502\n",
       "Model:                            OLS   Adj. R-squared:                  0.490\n",
       "Method:                 Least Squares   F-statistic:                     40.32\n",
       "Date:                Wed, 13 Oct 2021   Prob (F-statistic):           7.77e-13\n",
       "Time:                        14:54:43   Log-Likelihood:                -287.73\n",
       "No. Observations:                  83   AIC:                             581.5\n",
       "Df Residuals:                      80   BIC:                             588.7\n",
       "Df Model:                           2                                         \n",
       "Covariance Type:            nonrobust                                         \n",
       "==============================================================================\n",
       "                 coef    std err          t      P>|t|      [0.025      0.975]\n",
       "------------------------------------------------------------------------------\n",
       "Intercept   -112.2745     17.701     -6.343      0.000    -147.500     -77.049\n",
       "RA          1.927e-06   3.56e-06      0.541      0.590   -5.17e-06    9.02e-06\n",
       "Height       104.3817     11.773      8.866      0.000      80.953     127.810\n",
       "==============================================================================\n",
       "Omnibus:                        9.081   Durbin-Watson:                   1.207\n",
       "Prob(Omnibus):                  0.011   Jarque-Bera (JB):                9.061\n",
       "Skew:                           0.797   Prob(JB):                       0.0108\n",
       "Kurtosis:                       3.285   Cond. No.                     1.46e+07\n",
       "==============================================================================\n",
       "\n",
       "Warnings:\n",
       "[1] Standard Errors assume that the covariance matrix of the errors is correctly specified.\n",
       "[2] The condition number is large, 1.46e+07. This might indicate that there are\n",
       "strong multicollinearity or other numerical problems.\n",
       "\"\"\""
      ]
     },
     "execution_count": 15,
     "metadata": {},
     "output_type": "execute_result"
    }
   ],
   "source": [
    "model = ols(\"Weight ~ RA + Height\", data=df)\n",
    "response = model.fit()\n",
    "response.summary()"
   ]
  },
  {
   "cell_type": "markdown",
   "metadata": {},
   "source": [
    "No modelo criado acima, vemos que o coeficiente do RA é baixíssimo, o que confirma nossa expectativa de não haver influência. Além disso, o p-value é alto (maior que 0.05), considerado não estatisticamente significativo.\n",
    "\n",
    "Neste exemplo a variável RA não ajudou o modelo, mas podemos imaginar diversas variáveis que ajudariam, como quantidade média de calorias diárias, atividades físicas, fatores genéticos, etc."
   ]
  }
 ],
 "metadata": {
  "hide_input": false,
  "kernelspec": {
   "display_name": "Python 3",
   "language": "python",
   "name": "python3"
  },
  "language_info": {
   "codemirror_mode": {
    "name": "ipython",
    "version": 3
   },
   "file_extension": ".py",
   "mimetype": "text/x-python",
   "name": "python",
   "nbconvert_exporter": "python",
   "pygments_lexer": "ipython3",
   "version": "3.7.6"
  },
  "toc": {
   "base_numbering": 1,
   "nav_menu": {},
   "number_sections": true,
   "sideBar": true,
   "skip_h1_title": false,
   "title_cell": "Table of Contents",
   "title_sidebar": "Contents",
   "toc_cell": false,
   "toc_position": {},
   "toc_section_display": true,
   "toc_window_display": false
  }
 },
 "nbformat": 4,
 "nbformat_minor": 4
}
