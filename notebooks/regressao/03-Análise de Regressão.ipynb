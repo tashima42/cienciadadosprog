{
 "cells": [
  {
   "cell_type": "markdown",
   "metadata": {},
   "source": [
    "# Aplicação de Análise de Regressão em Python\n",
    "\n",
    "Neste notebook apresentamos um caso prático de análise de regressão com dados reais. A análise descrita usa dados socioeconômicos da cidade de Curitiba para a compreensão dos fatores associados à renda média nos bairros da cidade. Os dados foram coletados do [IPPUC](https://www.ippuc.org.br/) (Instituto de Pesquisa e Planejamento Urbano de Curitiba). A análise é baseada na biblioteca [StatsModels](https://www.statsmodels.org), que implementa uma grande gama de modelos de regressão."
   ]
  },
  {
   "cell_type": "code",
   "execution_count": 1,
   "metadata": {},
   "outputs": [],
   "source": [
    "# Importação de pacotes\n",
    "import pandas as pd\n",
    "import numpy as np\n",
    "import matplotlib.pyplot as plt\n",
    "import seaborn as sns; sns.set()\n",
    "import statsmodels.api as sm\n",
    "import statsmodels.formula.api as smf"
   ]
  },
  {
   "cell_type": "markdown",
   "metadata": {},
   "source": [
    "## Lendo dados de um arquivo\n",
    "\n",
    "Os dados coletados foram agregados em um arquivo CSV, exibido abaixo e disponibilizado no reposítório deste tutorial."
   ]
  },
  {
   "cell_type": "code",
   "execution_count": 2,
   "metadata": {},
   "outputs": [
    {
     "data": {
      "text/html": [
       "<div>\n",
       "<style scoped>\n",
       "    .dataframe tbody tr th:only-of-type {\n",
       "        vertical-align: middle;\n",
       "    }\n",
       "\n",
       "    .dataframe tbody tr th {\n",
       "        vertical-align: top;\n",
       "    }\n",
       "\n",
       "    .dataframe thead th {\n",
       "        text-align: right;\n",
       "    }\n",
       "</style>\n",
       "<table border=\"1\" class=\"dataframe\">\n",
       "  <thead>\n",
       "    <tr style=\"text-align: right;\">\n",
       "      <th></th>\n",
       "      <th>Localidade</th>\n",
       "      <th>Renda_Média</th>\n",
       "      <th>Taxa_Analfabetismo</th>\n",
       "      <th>Área_Verde_m2_percapta</th>\n",
       "      <th>Área_Verde_km2</th>\n",
       "      <th>Estabelecimentos_Ativos_Indústria</th>\n",
       "      <th>Estabelecimentos_Ativos_Comércio</th>\n",
       "      <th>Estabelecimentos_Ativos_Serviço</th>\n",
       "      <th>População_Total</th>\n",
       "      <th>Área_hectare</th>\n",
       "      <th>Área_km2</th>\n",
       "      <th>Densidade_Demográfica_Hab_por_ha</th>\n",
       "      <th>Área_Verde_pct</th>\n",
       "      <th>Nível_Urbanização</th>\n",
       "    </tr>\n",
       "  </thead>\n",
       "  <tbody>\n",
       "    <tr>\n",
       "      <th>0</th>\n",
       "      <td>Abranches</td>\n",
       "      <td>650.0</td>\n",
       "      <td>3.71</td>\n",
       "      <td>116.38</td>\n",
       "      <td>1.534982</td>\n",
       "      <td>106.0</td>\n",
       "      <td>373.0</td>\n",
       "      <td>387.0</td>\n",
       "      <td>13189.0</td>\n",
       "      <td>431.63</td>\n",
       "      <td>4.32</td>\n",
       "      <td>30.56</td>\n",
       "      <td>35.532000</td>\n",
       "      <td>Baixo</td>\n",
       "    </tr>\n",
       "    <tr>\n",
       "      <th>1</th>\n",
       "      <td>Ahú</td>\n",
       "      <td>1500.0</td>\n",
       "      <td>0.87</td>\n",
       "      <td>26.24</td>\n",
       "      <td>0.301921</td>\n",
       "      <td>147.0</td>\n",
       "      <td>548.0</td>\n",
       "      <td>727.0</td>\n",
       "      <td>11506.0</td>\n",
       "      <td>185.49</td>\n",
       "      <td>1.85</td>\n",
       "      <td>62.03</td>\n",
       "      <td>16.320048</td>\n",
       "      <td>Médio</td>\n",
       "    </tr>\n",
       "    <tr>\n",
       "      <th>2</th>\n",
       "      <td>Alto Boqueirão</td>\n",
       "      <td>650.0</td>\n",
       "      <td>3.36</td>\n",
       "      <td>61.88</td>\n",
       "      <td>3.321273</td>\n",
       "      <td>353.0</td>\n",
       "      <td>1421.0</td>\n",
       "      <td>749.0</td>\n",
       "      <td>53671.0</td>\n",
       "      <td>1198.73</td>\n",
       "      <td>11.99</td>\n",
       "      <td>44.77</td>\n",
       "      <td>27.700357</td>\n",
       "      <td>Baixo</td>\n",
       "    </tr>\n",
       "  </tbody>\n",
       "</table>\n",
       "</div>"
      ],
      "text/plain": [
       "       Localidade  Renda_Média  Taxa_Analfabetismo  Área_Verde_m2_percapta  \\\n",
       "0       Abranches        650.0                3.71                  116.38   \n",
       "1             Ahú       1500.0                0.87                   26.24   \n",
       "2  Alto Boqueirão        650.0                3.36                   61.88   \n",
       "\n",
       "   Área_Verde_km2  Estabelecimentos_Ativos_Indústria  \\\n",
       "0        1.534982                              106.0   \n",
       "1        0.301921                              147.0   \n",
       "2        3.321273                              353.0   \n",
       "\n",
       "   Estabelecimentos_Ativos_Comércio  Estabelecimentos_Ativos_Serviço  \\\n",
       "0                             373.0                            387.0   \n",
       "1                             548.0                            727.0   \n",
       "2                            1421.0                            749.0   \n",
       "\n",
       "   População_Total  Área_hectare  Área_km2  Densidade_Demográfica_Hab_por_ha  \\\n",
       "0          13189.0        431.63      4.32                             30.56   \n",
       "1          11506.0        185.49      1.85                             62.03   \n",
       "2          53671.0       1198.73     11.99                             44.77   \n",
       "\n",
       "   Área_Verde_pct Nível_Urbanização  \n",
       "0       35.532000             Baixo  \n",
       "1       16.320048             Médio  \n",
       "2       27.700357             Baixo  "
      ]
     },
     "execution_count": 2,
     "metadata": {},
     "output_type": "execute_result"
    }
   ],
   "source": [
    "# lê o arquivo CSV\n",
    "df = pd.read_csv('indices_curitiba.csv')\n",
    "# mostra o conteúdo do DataFrame\n",
    "df.head(3)"
   ]
  },
  {
   "cell_type": "markdown",
   "metadata": {},
   "source": [
    "## Criando o primeiro modelo\n",
    "\n",
    "Nosso objetivo é entender fatores associados à renda média (nossa variável dependente). Das variáveis disponíveis, seria razoável imaginar que a taxa de analfabetismo possui uma associação com a renda. Podemos então começar criando um modelo univariado com a taxa de analfabetismo como variável independente:"
   ]
  },
  {
   "cell_type": "code",
   "execution_count": 3,
   "metadata": {},
   "outputs": [
    {
     "data": {
      "text/html": [
       "<table class=\"simpletable\">\n",
       "<caption>OLS Regression Results</caption>\n",
       "<tr>\n",
       "  <th>Dep. Variable:</th>       <td>Renda_Média</td>   <th>  R-squared:         </th> <td>   0.571</td>\n",
       "</tr>\n",
       "<tr>\n",
       "  <th>Model:</th>                   <td>OLS</td>       <th>  Adj. R-squared:    </th> <td>   0.565</td>\n",
       "</tr>\n",
       "<tr>\n",
       "  <th>Method:</th>             <td>Least Squares</td>  <th>  F-statistic:       </th> <td>   97.12</td>\n",
       "</tr>\n",
       "<tr>\n",
       "  <th>Date:</th>             <td>Mon, 18 Oct 2021</td> <th>  Prob (F-statistic):</th> <td>4.73e-15</td>\n",
       "</tr>\n",
       "<tr>\n",
       "  <th>Time:</th>                 <td>16:13:14</td>     <th>  Log-Likelihood:    </th> <td> -526.90</td>\n",
       "</tr>\n",
       "<tr>\n",
       "  <th>No. Observations:</th>      <td>    75</td>      <th>  AIC:               </th> <td>   1058.</td>\n",
       "</tr>\n",
       "<tr>\n",
       "  <th>Df Residuals:</th>          <td>    73</td>      <th>  BIC:               </th> <td>   1062.</td>\n",
       "</tr>\n",
       "<tr>\n",
       "  <th>Df Model:</th>              <td>     1</td>      <th>                     </th>     <td> </td>   \n",
       "</tr>\n",
       "<tr>\n",
       "  <th>Covariance Type:</th>      <td>nonrobust</td>    <th>                     </th>     <td> </td>   \n",
       "</tr>\n",
       "</table>\n",
       "<table class=\"simpletable\">\n",
       "<tr>\n",
       "           <td></td>             <th>coef</th>     <th>std err</th>      <th>t</th>      <th>P>|t|</th>  <th>[0.025</th>    <th>0.975]</th>  \n",
       "</tr>\n",
       "<tr>\n",
       "  <th>Intercept</th>          <td> 1413.9665</td> <td>   56.964</td> <td>   24.822</td> <td> 0.000</td> <td> 1300.436</td> <td> 1527.496</td>\n",
       "</tr>\n",
       "<tr>\n",
       "  <th>Taxa_Analfabetismo</th> <td> -163.0535</td> <td>   16.545</td> <td>   -9.855</td> <td> 0.000</td> <td> -196.027</td> <td> -130.079</td>\n",
       "</tr>\n",
       "</table>\n",
       "<table class=\"simpletable\">\n",
       "<tr>\n",
       "  <th>Omnibus:</th>       <td>18.298</td> <th>  Durbin-Watson:     </th> <td>   2.038</td>\n",
       "</tr>\n",
       "<tr>\n",
       "  <th>Prob(Omnibus):</th> <td> 0.000</td> <th>  Jarque-Bera (JB):  </th> <td>  22.067</td>\n",
       "</tr>\n",
       "<tr>\n",
       "  <th>Skew:</th>          <td> 1.259</td> <th>  Prob(JB):          </th> <td>1.62e-05</td>\n",
       "</tr>\n",
       "<tr>\n",
       "  <th>Kurtosis:</th>      <td> 3.848</td> <th>  Cond. No.          </th> <td>    6.52</td>\n",
       "</tr>\n",
       "</table><br/><br/>Warnings:<br/>[1] Standard Errors assume that the covariance matrix of the errors is correctly specified."
      ],
      "text/plain": [
       "<class 'statsmodels.iolib.summary.Summary'>\n",
       "\"\"\"\n",
       "                            OLS Regression Results                            \n",
       "==============================================================================\n",
       "Dep. Variable:            Renda_Média   R-squared:                       0.571\n",
       "Model:                            OLS   Adj. R-squared:                  0.565\n",
       "Method:                 Least Squares   F-statistic:                     97.12\n",
       "Date:                Mon, 18 Oct 2021   Prob (F-statistic):           4.73e-15\n",
       "Time:                        16:13:14   Log-Likelihood:                -526.90\n",
       "No. Observations:                  75   AIC:                             1058.\n",
       "Df Residuals:                      73   BIC:                             1062.\n",
       "Df Model:                           1                                         \n",
       "Covariance Type:            nonrobust                                         \n",
       "======================================================================================\n",
       "                         coef    std err          t      P>|t|      [0.025      0.975]\n",
       "--------------------------------------------------------------------------------------\n",
       "Intercept           1413.9665     56.964     24.822      0.000    1300.436    1527.496\n",
       "Taxa_Analfabetismo  -163.0535     16.545     -9.855      0.000    -196.027    -130.079\n",
       "==============================================================================\n",
       "Omnibus:                       18.298   Durbin-Watson:                   2.038\n",
       "Prob(Omnibus):                  0.000   Jarque-Bera (JB):               22.067\n",
       "Skew:                           1.259   Prob(JB):                     1.62e-05\n",
       "Kurtosis:                       3.848   Cond. No.                         6.52\n",
       "==============================================================================\n",
       "\n",
       "Warnings:\n",
       "[1] Standard Errors assume that the covariance matrix of the errors is correctly specified.\n",
       "\"\"\""
      ]
     },
     "execution_count": 3,
     "metadata": {},
     "output_type": "execute_result"
    }
   ],
   "source": [
    "model = smf.ols(\"Renda_Média ~ Taxa_Analfabetismo\", data=df)\n",
    "response = model.fit()\n",
    "response.summary()"
   ]
  },
  {
   "cell_type": "markdown",
   "metadata": {},
   "source": [
    "Nosso modelo inicial ficou bem razoável, explicando quase 60% da variância ($r^2 = 0.57$). Mas temos muitas outras variáveis e poderíamos capturar melhor esta variância expandindo o número de variáveis independentes. Vamos tentar adicionar todas as variáveis numéricas disponíveis:"
   ]
  },
  {
   "cell_type": "code",
   "execution_count": 4,
   "metadata": {},
   "outputs": [
    {
     "data": {
      "text/html": [
       "<table class=\"simpletable\">\n",
       "<caption>OLS Regression Results</caption>\n",
       "<tr>\n",
       "  <th>Dep. Variable:</th>       <td>Renda_Média</td>   <th>  R-squared:         </th> <td>   0.739</td>\n",
       "</tr>\n",
       "<tr>\n",
       "  <th>Model:</th>                   <td>OLS</td>       <th>  Adj. R-squared:    </th> <td>   0.693</td>\n",
       "</tr>\n",
       "<tr>\n",
       "  <th>Method:</th>             <td>Least Squares</td>  <th>  F-statistic:       </th> <td>   16.18</td>\n",
       "</tr>\n",
       "<tr>\n",
       "  <th>Date:</th>             <td>Mon, 18 Oct 2021</td> <th>  Prob (F-statistic):</th> <td>1.84e-14</td>\n",
       "</tr>\n",
       "<tr>\n",
       "  <th>Time:</th>                 <td>16:13:14</td>     <th>  Log-Likelihood:    </th> <td> -508.32</td>\n",
       "</tr>\n",
       "<tr>\n",
       "  <th>No. Observations:</th>      <td>    75</td>      <th>  AIC:               </th> <td>   1041.</td>\n",
       "</tr>\n",
       "<tr>\n",
       "  <th>Df Residuals:</th>          <td>    63</td>      <th>  BIC:               </th> <td>   1068.</td>\n",
       "</tr>\n",
       "<tr>\n",
       "  <th>Df Model:</th>              <td>    11</td>      <th>                     </th>     <td> </td>   \n",
       "</tr>\n",
       "<tr>\n",
       "  <th>Covariance Type:</th>      <td>nonrobust</td>    <th>                     </th>     <td> </td>   \n",
       "</tr>\n",
       "</table>\n",
       "<table class=\"simpletable\">\n",
       "<tr>\n",
       "                  <td></td>                     <th>coef</th>     <th>std err</th>      <th>t</th>      <th>P>|t|</th>  <th>[0.025</th>    <th>0.975]</th>  \n",
       "</tr>\n",
       "<tr>\n",
       "  <th>Intercept</th>                         <td> 1187.8607</td> <td>  203.594</td> <td>    5.834</td> <td> 0.000</td> <td>  781.010</td> <td> 1594.711</td>\n",
       "</tr>\n",
       "<tr>\n",
       "  <th>Taxa_Analfabetismo</th>                <td> -114.6077</td> <td>   18.951</td> <td>   -6.048</td> <td> 0.000</td> <td> -152.478</td> <td>  -76.738</td>\n",
       "</tr>\n",
       "<tr>\n",
       "  <th>Área_Verde_m2_percapta</th>            <td>    0.0401</td> <td>    0.066</td> <td>    0.610</td> <td> 0.544</td> <td>   -0.091</td> <td>    0.171</td>\n",
       "</tr>\n",
       "<tr>\n",
       "  <th>Área_Verde_km2</th>                    <td>  -35.3498</td> <td>  100.874</td> <td>   -0.350</td> <td> 0.727</td> <td> -236.931</td> <td>  166.231</td>\n",
       "</tr>\n",
       "<tr>\n",
       "  <th>Estabelecimentos_Ativos_Indústria</th> <td>    0.6499</td> <td>    0.391</td> <td>    1.662</td> <td> 0.102</td> <td>   -0.132</td> <td>    1.431</td>\n",
       "</tr>\n",
       "<tr>\n",
       "  <th>Estabelecimentos_Ativos_Comércio</th>  <td>   -0.4849</td> <td>    0.125</td> <td>   -3.880</td> <td> 0.000</td> <td>   -0.735</td> <td>   -0.235</td>\n",
       "</tr>\n",
       "<tr>\n",
       "  <th>Estabelecimentos_Ativos_Serviço</th>   <td>    0.2630</td> <td>    0.067</td> <td>    3.933</td> <td> 0.000</td> <td>    0.129</td> <td>    0.397</td>\n",
       "</tr>\n",
       "<tr>\n",
       "  <th>População_Total</th>                   <td>   -0.0030</td> <td>    0.005</td> <td>   -0.619</td> <td> 0.538</td> <td>   -0.013</td> <td>    0.007</td>\n",
       "</tr>\n",
       "<tr>\n",
       "  <th>Área_hectare</th>                      <td> -147.7656</td> <td>   96.583</td> <td>   -1.530</td> <td> 0.131</td> <td> -340.770</td> <td>   45.239</td>\n",
       "</tr>\n",
       "<tr>\n",
       "  <th>Área_km2</th>                          <td> 1.479e+04</td> <td> 9653.373</td> <td>    1.532</td> <td> 0.131</td> <td>-4501.410</td> <td> 3.41e+04</td>\n",
       "</tr>\n",
       "<tr>\n",
       "  <th>Densidade_Demográfica_Hab_por_ha</th>  <td>    4.8789</td> <td>    2.474</td> <td>    1.972</td> <td> 0.053</td> <td>   -0.066</td> <td>    9.823</td>\n",
       "</tr>\n",
       "<tr>\n",
       "  <th>Área_Verde_pct</th>                    <td>   -1.3133</td> <td>    5.391</td> <td>   -0.244</td> <td> 0.808</td> <td>  -12.085</td> <td>    9.459</td>\n",
       "</tr>\n",
       "</table>\n",
       "<table class=\"simpletable\">\n",
       "<tr>\n",
       "  <th>Omnibus:</th>       <td> 2.545</td> <th>  Durbin-Watson:     </th> <td>   1.904</td>\n",
       "</tr>\n",
       "<tr>\n",
       "  <th>Prob(Omnibus):</th> <td> 0.280</td> <th>  Jarque-Bera (JB):  </th> <td>   2.321</td>\n",
       "</tr>\n",
       "<tr>\n",
       "  <th>Skew:</th>          <td> 0.428</td> <th>  Prob(JB):          </th> <td>   0.313</td>\n",
       "</tr>\n",
       "<tr>\n",
       "  <th>Kurtosis:</th>      <td> 2.904</td> <th>  Cond. No.          </th> <td>1.31e+07</td>\n",
       "</tr>\n",
       "</table><br/><br/>Warnings:<br/>[1] Standard Errors assume that the covariance matrix of the errors is correctly specified.<br/>[2] The condition number is large, 1.31e+07. This might indicate that there are<br/>strong multicollinearity or other numerical problems."
      ],
      "text/plain": [
       "<class 'statsmodels.iolib.summary.Summary'>\n",
       "\"\"\"\n",
       "                            OLS Regression Results                            \n",
       "==============================================================================\n",
       "Dep. Variable:            Renda_Média   R-squared:                       0.739\n",
       "Model:                            OLS   Adj. R-squared:                  0.693\n",
       "Method:                 Least Squares   F-statistic:                     16.18\n",
       "Date:                Mon, 18 Oct 2021   Prob (F-statistic):           1.84e-14\n",
       "Time:                        16:13:14   Log-Likelihood:                -508.32\n",
       "No. Observations:                  75   AIC:                             1041.\n",
       "Df Residuals:                      63   BIC:                             1068.\n",
       "Df Model:                          11                                         \n",
       "Covariance Type:            nonrobust                                         \n",
       "=====================================================================================================\n",
       "                                        coef    std err          t      P>|t|      [0.025      0.975]\n",
       "-----------------------------------------------------------------------------------------------------\n",
       "Intercept                          1187.8607    203.594      5.834      0.000     781.010    1594.711\n",
       "Taxa_Analfabetismo                 -114.6077     18.951     -6.048      0.000    -152.478     -76.738\n",
       "Área_Verde_m2_percapta                0.0401      0.066      0.610      0.544      -0.091       0.171\n",
       "Área_Verde_km2                      -35.3498    100.874     -0.350      0.727    -236.931     166.231\n",
       "Estabelecimentos_Ativos_Indústria     0.6499      0.391      1.662      0.102      -0.132       1.431\n",
       "Estabelecimentos_Ativos_Comércio     -0.4849      0.125     -3.880      0.000      -0.735      -0.235\n",
       "Estabelecimentos_Ativos_Serviço       0.2630      0.067      3.933      0.000       0.129       0.397\n",
       "População_Total                      -0.0030      0.005     -0.619      0.538      -0.013       0.007\n",
       "Área_hectare                       -147.7656     96.583     -1.530      0.131    -340.770      45.239\n",
       "Área_km2                           1.479e+04   9653.373      1.532      0.131   -4501.410    3.41e+04\n",
       "Densidade_Demográfica_Hab_por_ha      4.8789      2.474      1.972      0.053      -0.066       9.823\n",
       "Área_Verde_pct                       -1.3133      5.391     -0.244      0.808     -12.085       9.459\n",
       "==============================================================================\n",
       "Omnibus:                        2.545   Durbin-Watson:                   1.904\n",
       "Prob(Omnibus):                  0.280   Jarque-Bera (JB):                2.321\n",
       "Skew:                           0.428   Prob(JB):                        0.313\n",
       "Kurtosis:                       2.904   Cond. No.                     1.31e+07\n",
       "==============================================================================\n",
       "\n",
       "Warnings:\n",
       "[1] Standard Errors assume that the covariance matrix of the errors is correctly specified.\n",
       "[2] The condition number is large, 1.31e+07. This might indicate that there are\n",
       "strong multicollinearity or other numerical problems.\n",
       "\"\"\""
      ]
     },
     "execution_count": 4,
     "metadata": {},
     "output_type": "execute_result"
    }
   ],
   "source": [
    "model = smf.ols(\"Renda_Média ~ Taxa_Analfabetismo + Área_Verde_m2_percapta + Área_Verde_km2 + Estabelecimentos_Ativos_Indústria + Estabelecimentos_Ativos_Comércio + Estabelecimentos_Ativos_Serviço + População_Total + Área_hectare + Área_km2 + Densidade_Demográfica_Hab_por_ha + Área_Verde_pct\", data=df)\n",
    "response = model.fit()\n",
    "response.summary()"
   ]
  },
  {
   "cell_type": "markdown",
   "metadata": {},
   "source": [
    "## Adicionando variáveis categóricas\n",
    "\n",
    "Temos à nossa disposição uma variável categórica (`Nível_Urbanização`). Para adicionar variáveis categóricas ao modelo, basta incluir a variável na fórmula dentro da função C, assim: **`C(Nível_Urbanização)`**"
   ]
  },
  {
   "cell_type": "code",
   "execution_count": 5,
   "metadata": {},
   "outputs": [
    {
     "data": {
      "text/html": [
       "<table class=\"simpletable\">\n",
       "<caption>OLS Regression Results</caption>\n",
       "<tr>\n",
       "  <th>Dep. Variable:</th>       <td>Renda_Média</td>   <th>  R-squared:         </th> <td>   0.811</td>\n",
       "</tr>\n",
       "<tr>\n",
       "  <th>Model:</th>                   <td>OLS</td>       <th>  Adj. R-squared:    </th> <td>   0.770</td>\n",
       "</tr>\n",
       "<tr>\n",
       "  <th>Method:</th>             <td>Least Squares</td>  <th>  F-statistic:       </th> <td>   20.10</td>\n",
       "</tr>\n",
       "<tr>\n",
       "  <th>Date:</th>             <td>Mon, 18 Oct 2021</td> <th>  Prob (F-statistic):</th> <td>2.57e-17</td>\n",
       "</tr>\n",
       "<tr>\n",
       "  <th>Time:</th>                 <td>16:13:14</td>     <th>  Log-Likelihood:    </th> <td> -496.20</td>\n",
       "</tr>\n",
       "<tr>\n",
       "  <th>No. Observations:</th>      <td>    75</td>      <th>  AIC:               </th> <td>   1020.</td>\n",
       "</tr>\n",
       "<tr>\n",
       "  <th>Df Residuals:</th>          <td>    61</td>      <th>  BIC:               </th> <td>   1053.</td>\n",
       "</tr>\n",
       "<tr>\n",
       "  <th>Df Model:</th>              <td>    13</td>      <th>                     </th>     <td> </td>   \n",
       "</tr>\n",
       "<tr>\n",
       "  <th>Covariance Type:</th>      <td>nonrobust</td>    <th>                     </th>     <td> </td>   \n",
       "</tr>\n",
       "</table>\n",
       "<table class=\"simpletable\">\n",
       "<tr>\n",
       "                  <td></td>                     <th>coef</th>     <th>std err</th>      <th>t</th>      <th>P>|t|</th>  <th>[0.025</th>    <th>0.975]</th>  \n",
       "</tr>\n",
       "<tr>\n",
       "  <th>Intercept</th>                         <td>  926.4926</td> <td>  184.176</td> <td>    5.030</td> <td> 0.000</td> <td>  558.210</td> <td> 1294.775</td>\n",
       "</tr>\n",
       "<tr>\n",
       "  <th>C(Nível_Urbanização)[T.Baixo]</th>     <td>  -74.6021</td> <td>  146.755</td> <td>   -0.508</td> <td> 0.613</td> <td> -368.057</td> <td>  218.853</td>\n",
       "</tr>\n",
       "<tr>\n",
       "  <th>C(Nível_Urbanização)[T.Médio]</th>     <td>  252.6534</td> <td>   73.514</td> <td>    3.437</td> <td> 0.001</td> <td>  105.654</td> <td>  399.653</td>\n",
       "</tr>\n",
       "<tr>\n",
       "  <th>Taxa_Analfabetismo</th>                <td> -101.6751</td> <td>   16.660</td> <td>   -6.103</td> <td> 0.000</td> <td> -134.990</td> <td>  -68.361</td>\n",
       "</tr>\n",
       "<tr>\n",
       "  <th>Área_Verde_m2_percapta</th>            <td>    0.0356</td> <td>    0.058</td> <td>    0.609</td> <td> 0.545</td> <td>   -0.081</td> <td>    0.152</td>\n",
       "</tr>\n",
       "<tr>\n",
       "  <th>Área_Verde_km2</th>                    <td>   25.0539</td> <td>   88.107</td> <td>    0.284</td> <td> 0.777</td> <td> -151.126</td> <td>  201.234</td>\n",
       "</tr>\n",
       "<tr>\n",
       "  <th>Estabelecimentos_Ativos_Indústria</th> <td>    0.7553</td> <td>    0.343</td> <td>    2.205</td> <td> 0.031</td> <td>    0.070</td> <td>    1.440</td>\n",
       "</tr>\n",
       "<tr>\n",
       "  <th>Estabelecimentos_Ativos_Comércio</th>  <td>   -0.3609</td> <td>    0.111</td> <td>   -3.239</td> <td> 0.002</td> <td>   -0.584</td> <td>   -0.138</td>\n",
       "</tr>\n",
       "<tr>\n",
       "  <th>Estabelecimentos_Ativos_Serviço</th>   <td>    0.1802</td> <td>    0.061</td> <td>    2.943</td> <td> 0.005</td> <td>    0.058</td> <td>    0.303</td>\n",
       "</tr>\n",
       "<tr>\n",
       "  <th>População_Total</th>                   <td>   -0.0045</td> <td>    0.004</td> <td>   -1.062</td> <td> 0.293</td> <td>   -0.013</td> <td>    0.004</td>\n",
       "</tr>\n",
       "<tr>\n",
       "  <th>Área_hectare</th>                      <td> -204.7128</td> <td>   85.159</td> <td>   -2.404</td> <td> 0.019</td> <td> -374.999</td> <td>  -34.427</td>\n",
       "</tr>\n",
       "<tr>\n",
       "  <th>Área_km2</th>                          <td> 2.046e+04</td> <td> 8511.288</td> <td>    2.404</td> <td> 0.019</td> <td> 3445.434</td> <td> 3.75e+04</td>\n",
       "</tr>\n",
       "<tr>\n",
       "  <th>Densidade_Demográfica_Hab_por_ha</th>  <td>    6.0447</td> <td>    2.177</td> <td>    2.777</td> <td> 0.007</td> <td>    1.692</td> <td>   10.398</td>\n",
       "</tr>\n",
       "<tr>\n",
       "  <th>Área_Verde_pct</th>                    <td>    3.3819</td> <td>    6.133</td> <td>    0.551</td> <td> 0.583</td> <td>   -8.881</td> <td>   15.645</td>\n",
       "</tr>\n",
       "</table>\n",
       "<table class=\"simpletable\">\n",
       "<tr>\n",
       "  <th>Omnibus:</th>       <td> 0.209</td> <th>  Durbin-Watson:     </th> <td>   1.711</td>\n",
       "</tr>\n",
       "<tr>\n",
       "  <th>Prob(Omnibus):</th> <td> 0.901</td> <th>  Jarque-Bera (JB):  </th> <td>   0.323</td>\n",
       "</tr>\n",
       "<tr>\n",
       "  <th>Skew:</th>          <td> 0.116</td> <th>  Prob(JB):          </th> <td>   0.851</td>\n",
       "</tr>\n",
       "<tr>\n",
       "  <th>Kurtosis:</th>      <td> 2.777</td> <th>  Cond. No.          </th> <td>1.34e+07</td>\n",
       "</tr>\n",
       "</table><br/><br/>Warnings:<br/>[1] Standard Errors assume that the covariance matrix of the errors is correctly specified.<br/>[2] The condition number is large, 1.34e+07. This might indicate that there are<br/>strong multicollinearity or other numerical problems."
      ],
      "text/plain": [
       "<class 'statsmodels.iolib.summary.Summary'>\n",
       "\"\"\"\n",
       "                            OLS Regression Results                            \n",
       "==============================================================================\n",
       "Dep. Variable:            Renda_Média   R-squared:                       0.811\n",
       "Model:                            OLS   Adj. R-squared:                  0.770\n",
       "Method:                 Least Squares   F-statistic:                     20.10\n",
       "Date:                Mon, 18 Oct 2021   Prob (F-statistic):           2.57e-17\n",
       "Time:                        16:13:14   Log-Likelihood:                -496.20\n",
       "No. Observations:                  75   AIC:                             1020.\n",
       "Df Residuals:                      61   BIC:                             1053.\n",
       "Df Model:                          13                                         \n",
       "Covariance Type:            nonrobust                                         \n",
       "=====================================================================================================\n",
       "                                        coef    std err          t      P>|t|      [0.025      0.975]\n",
       "-----------------------------------------------------------------------------------------------------\n",
       "Intercept                           926.4926    184.176      5.030      0.000     558.210    1294.775\n",
       "C(Nível_Urbanização)[T.Baixo]       -74.6021    146.755     -0.508      0.613    -368.057     218.853\n",
       "C(Nível_Urbanização)[T.Médio]       252.6534     73.514      3.437      0.001     105.654     399.653\n",
       "Taxa_Analfabetismo                 -101.6751     16.660     -6.103      0.000    -134.990     -68.361\n",
       "Área_Verde_m2_percapta                0.0356      0.058      0.609      0.545      -0.081       0.152\n",
       "Área_Verde_km2                       25.0539     88.107      0.284      0.777    -151.126     201.234\n",
       "Estabelecimentos_Ativos_Indústria     0.7553      0.343      2.205      0.031       0.070       1.440\n",
       "Estabelecimentos_Ativos_Comércio     -0.3609      0.111     -3.239      0.002      -0.584      -0.138\n",
       "Estabelecimentos_Ativos_Serviço       0.1802      0.061      2.943      0.005       0.058       0.303\n",
       "População_Total                      -0.0045      0.004     -1.062      0.293      -0.013       0.004\n",
       "Área_hectare                       -204.7128     85.159     -2.404      0.019    -374.999     -34.427\n",
       "Área_km2                           2.046e+04   8511.288      2.404      0.019    3445.434    3.75e+04\n",
       "Densidade_Demográfica_Hab_por_ha      6.0447      2.177      2.777      0.007       1.692      10.398\n",
       "Área_Verde_pct                        3.3819      6.133      0.551      0.583      -8.881      15.645\n",
       "==============================================================================\n",
       "Omnibus:                        0.209   Durbin-Watson:                   1.711\n",
       "Prob(Omnibus):                  0.901   Jarque-Bera (JB):                0.323\n",
       "Skew:                           0.116   Prob(JB):                        0.851\n",
       "Kurtosis:                       2.777   Cond. No.                     1.34e+07\n",
       "==============================================================================\n",
       "\n",
       "Warnings:\n",
       "[1] Standard Errors assume that the covariance matrix of the errors is correctly specified.\n",
       "[2] The condition number is large, 1.34e+07. This might indicate that there are\n",
       "strong multicollinearity or other numerical problems.\n",
       "\"\"\""
      ]
     },
     "execution_count": 5,
     "metadata": {},
     "output_type": "execute_result"
    }
   ],
   "source": [
    "model = smf.ols(\"Renda_Média ~ C(Nível_Urbanização) + Taxa_Analfabetismo + Área_Verde_m2_percapta + Área_Verde_km2 + Estabelecimentos_Ativos_Indústria + Estabelecimentos_Ativos_Comércio + Estabelecimentos_Ativos_Serviço + População_Total + Área_hectare + Área_km2 + Densidade_Demográfica_Hab_por_ha + Área_Verde_pct\", data=df)\n",
    "response = model.fit()\n",
    "response.summary()"
   ]
  },
  {
   "cell_type": "markdown",
   "metadata": {},
   "source": [
    "Adicionar uma variável categórica é equivalente a adicionar uma coluna para cada nível de categoria e usar 1 para marcar o nível adequado de cada observação, como exibido abaixo:"
   ]
  },
  {
   "cell_type": "code",
   "execution_count": 6,
   "metadata": {},
   "outputs": [
    {
     "data": {
      "text/html": [
       "<div>\n",
       "<style scoped>\n",
       "    .dataframe tbody tr th:only-of-type {\n",
       "        vertical-align: middle;\n",
       "    }\n",
       "\n",
       "    .dataframe tbody tr th {\n",
       "        vertical-align: top;\n",
       "    }\n",
       "\n",
       "    .dataframe thead th {\n",
       "        text-align: right;\n",
       "    }\n",
       "</style>\n",
       "<table border=\"1\" class=\"dataframe\">\n",
       "  <thead>\n",
       "    <tr style=\"text-align: right;\">\n",
       "      <th></th>\n",
       "      <th>Alto</th>\n",
       "      <th>Baixo</th>\n",
       "      <th>Médio</th>\n",
       "    </tr>\n",
       "    <tr>\n",
       "      <th>Localidade</th>\n",
       "      <th></th>\n",
       "      <th></th>\n",
       "      <th></th>\n",
       "    </tr>\n",
       "  </thead>\n",
       "  <tbody>\n",
       "    <tr>\n",
       "      <th>Abranches</th>\n",
       "      <td>0</td>\n",
       "      <td>1</td>\n",
       "      <td>0</td>\n",
       "    </tr>\n",
       "    <tr>\n",
       "      <th>Ahú</th>\n",
       "      <td>0</td>\n",
       "      <td>0</td>\n",
       "      <td>1</td>\n",
       "    </tr>\n",
       "    <tr>\n",
       "      <th>Alto Boqueirão</th>\n",
       "      <td>0</td>\n",
       "      <td>1</td>\n",
       "      <td>0</td>\n",
       "    </tr>\n",
       "    <tr>\n",
       "      <th>Alto da Glória</th>\n",
       "      <td>0</td>\n",
       "      <td>0</td>\n",
       "      <td>1</td>\n",
       "    </tr>\n",
       "    <tr>\n",
       "      <th>Alto da Rua XV</th>\n",
       "      <td>0</td>\n",
       "      <td>0</td>\n",
       "      <td>1</td>\n",
       "    </tr>\n",
       "  </tbody>\n",
       "</table>\n",
       "</div>"
      ],
      "text/plain": [
       "                Alto  Baixo  Médio\n",
       "Localidade                        \n",
       "Abranches          0      1      0\n",
       "Ahú                0      0      1\n",
       "Alto Boqueirão     0      1      0\n",
       "Alto da Glória     0      0      1\n",
       "Alto da Rua XV     0      0      1"
      ]
     },
     "execution_count": 6,
     "metadata": {},
     "output_type": "execute_result"
    }
   ],
   "source": [
    "pd.get_dummies(df.set_index('Localidade')['Nível_Urbanização']).head()"
   ]
  },
  {
   "cell_type": "markdown",
   "metadata": {},
   "source": [
    "Porém, esta estratégia adiciona redundância ao modelo (e consequentemente problemas de multicolinearidade). Isto porque um dos níveis poderia ser representado por linhas contendo todos os valores zerados. No exemplo, poderíamos retirar a coluna `Baixo` e considerar que sempre que os valores para `Médio` e `Alto` forem 0, o bairro é do nível `Baixo`. Então, na prática, sempre temos um número a menos de níveis de uma categoria. No modelo acima o statsmodels estabeleceu o nível básico (valores zerados) como `Alto`. Mas podemos especificar qual nível gostaríamos de usar como nível básico usando o parâmetro `reference` como no exemplo abaixo:"
   ]
  },
  {
   "cell_type": "code",
   "execution_count": 7,
   "metadata": {},
   "outputs": [
    {
     "data": {
      "text/html": [
       "<table class=\"simpletable\">\n",
       "<caption>OLS Regression Results</caption>\n",
       "<tr>\n",
       "  <th>Dep. Variable:</th>       <td>Renda_Média</td>   <th>  R-squared:         </th> <td>   0.811</td>\n",
       "</tr>\n",
       "<tr>\n",
       "  <th>Model:</th>                   <td>OLS</td>       <th>  Adj. R-squared:    </th> <td>   0.770</td>\n",
       "</tr>\n",
       "<tr>\n",
       "  <th>Method:</th>             <td>Least Squares</td>  <th>  F-statistic:       </th> <td>   20.10</td>\n",
       "</tr>\n",
       "<tr>\n",
       "  <th>Date:</th>             <td>Mon, 18 Oct 2021</td> <th>  Prob (F-statistic):</th> <td>2.57e-17</td>\n",
       "</tr>\n",
       "<tr>\n",
       "  <th>Time:</th>                 <td>16:13:14</td>     <th>  Log-Likelihood:    </th> <td> -496.20</td>\n",
       "</tr>\n",
       "<tr>\n",
       "  <th>No. Observations:</th>      <td>    75</td>      <th>  AIC:               </th> <td>   1020.</td>\n",
       "</tr>\n",
       "<tr>\n",
       "  <th>Df Residuals:</th>          <td>    61</td>      <th>  BIC:               </th> <td>   1053.</td>\n",
       "</tr>\n",
       "<tr>\n",
       "  <th>Df Model:</th>              <td>    13</td>      <th>                     </th>     <td> </td>   \n",
       "</tr>\n",
       "<tr>\n",
       "  <th>Covariance Type:</th>      <td>nonrobust</td>    <th>                     </th>     <td> </td>   \n",
       "</tr>\n",
       "</table>\n",
       "<table class=\"simpletable\">\n",
       "<tr>\n",
       "                               <td></td>                                  <th>coef</th>     <th>std err</th>      <th>t</th>      <th>P>|t|</th>  <th>[0.025</th>    <th>0.975]</th>  \n",
       "</tr>\n",
       "<tr>\n",
       "  <th>Intercept</th>                                                   <td>  851.8904</td> <td>  237.936</td> <td>    3.580</td> <td> 0.001</td> <td>  376.109</td> <td> 1327.672</td>\n",
       "</tr>\n",
       "<tr>\n",
       "  <th>C(Nível_Urbanização, Treatment(reference='Baixo'))[T.Alto]</th>  <td>   74.6021</td> <td>  146.755</td> <td>    0.508</td> <td> 0.613</td> <td> -218.853</td> <td>  368.057</td>\n",
       "</tr>\n",
       "<tr>\n",
       "  <th>C(Nível_Urbanização, Treatment(reference='Baixo'))[T.Médio]</th> <td>  327.2556</td> <td>  116.187</td> <td>    2.817</td> <td> 0.007</td> <td>   94.925</td> <td>  559.586</td>\n",
       "</tr>\n",
       "<tr>\n",
       "  <th>Taxa_Analfabetismo</th>                                          <td> -101.6751</td> <td>   16.660</td> <td>   -6.103</td> <td> 0.000</td> <td> -134.990</td> <td>  -68.361</td>\n",
       "</tr>\n",
       "<tr>\n",
       "  <th>Área_Verde_m2_percapta</th>                                      <td>    0.0356</td> <td>    0.058</td> <td>    0.609</td> <td> 0.545</td> <td>   -0.081</td> <td>    0.152</td>\n",
       "</tr>\n",
       "<tr>\n",
       "  <th>Área_Verde_km2</th>                                              <td>   25.0539</td> <td>   88.107</td> <td>    0.284</td> <td> 0.777</td> <td> -151.126</td> <td>  201.234</td>\n",
       "</tr>\n",
       "<tr>\n",
       "  <th>Estabelecimentos_Ativos_Indústria</th>                           <td>    0.7553</td> <td>    0.343</td> <td>    2.205</td> <td> 0.031</td> <td>    0.070</td> <td>    1.440</td>\n",
       "</tr>\n",
       "<tr>\n",
       "  <th>Estabelecimentos_Ativos_Comércio</th>                            <td>   -0.3609</td> <td>    0.111</td> <td>   -3.239</td> <td> 0.002</td> <td>   -0.584</td> <td>   -0.138</td>\n",
       "</tr>\n",
       "<tr>\n",
       "  <th>Estabelecimentos_Ativos_Serviço</th>                             <td>    0.1802</td> <td>    0.061</td> <td>    2.943</td> <td> 0.005</td> <td>    0.058</td> <td>    0.303</td>\n",
       "</tr>\n",
       "<tr>\n",
       "  <th>População_Total</th>                                             <td>   -0.0045</td> <td>    0.004</td> <td>   -1.062</td> <td> 0.293</td> <td>   -0.013</td> <td>    0.004</td>\n",
       "</tr>\n",
       "<tr>\n",
       "  <th>Área_hectare</th>                                                <td> -204.7128</td> <td>   85.159</td> <td>   -2.404</td> <td> 0.019</td> <td> -374.999</td> <td>  -34.427</td>\n",
       "</tr>\n",
       "<tr>\n",
       "  <th>Área_km2</th>                                                    <td> 2.046e+04</td> <td> 8511.288</td> <td>    2.404</td> <td> 0.019</td> <td> 3445.434</td> <td> 3.75e+04</td>\n",
       "</tr>\n",
       "<tr>\n",
       "  <th>Densidade_Demográfica_Hab_por_ha</th>                            <td>    6.0447</td> <td>    2.177</td> <td>    2.777</td> <td> 0.007</td> <td>    1.692</td> <td>   10.398</td>\n",
       "</tr>\n",
       "<tr>\n",
       "  <th>Área_Verde_pct</th>                                              <td>    3.3819</td> <td>    6.133</td> <td>    0.551</td> <td> 0.583</td> <td>   -8.881</td> <td>   15.645</td>\n",
       "</tr>\n",
       "</table>\n",
       "<table class=\"simpletable\">\n",
       "<tr>\n",
       "  <th>Omnibus:</th>       <td> 0.209</td> <th>  Durbin-Watson:     </th> <td>   1.711</td>\n",
       "</tr>\n",
       "<tr>\n",
       "  <th>Prob(Omnibus):</th> <td> 0.901</td> <th>  Jarque-Bera (JB):  </th> <td>   0.323</td>\n",
       "</tr>\n",
       "<tr>\n",
       "  <th>Skew:</th>          <td> 0.116</td> <th>  Prob(JB):          </th> <td>   0.851</td>\n",
       "</tr>\n",
       "<tr>\n",
       "  <th>Kurtosis:</th>      <td> 2.777</td> <th>  Cond. No.          </th> <td>1.34e+07</td>\n",
       "</tr>\n",
       "</table><br/><br/>Warnings:<br/>[1] Standard Errors assume that the covariance matrix of the errors is correctly specified.<br/>[2] The condition number is large, 1.34e+07. This might indicate that there are<br/>strong multicollinearity or other numerical problems."
      ],
      "text/plain": [
       "<class 'statsmodels.iolib.summary.Summary'>\n",
       "\"\"\"\n",
       "                            OLS Regression Results                            \n",
       "==============================================================================\n",
       "Dep. Variable:            Renda_Média   R-squared:                       0.811\n",
       "Model:                            OLS   Adj. R-squared:                  0.770\n",
       "Method:                 Least Squares   F-statistic:                     20.10\n",
       "Date:                Mon, 18 Oct 2021   Prob (F-statistic):           2.57e-17\n",
       "Time:                        16:13:14   Log-Likelihood:                -496.20\n",
       "No. Observations:                  75   AIC:                             1020.\n",
       "Df Residuals:                      61   BIC:                             1053.\n",
       "Df Model:                          13                                         \n",
       "Covariance Type:            nonrobust                                         \n",
       "===============================================================================================================================\n",
       "                                                                  coef    std err          t      P>|t|      [0.025      0.975]\n",
       "-------------------------------------------------------------------------------------------------------------------------------\n",
       "Intercept                                                     851.8904    237.936      3.580      0.001     376.109    1327.672\n",
       "C(Nível_Urbanização, Treatment(reference='Baixo'))[T.Alto]     74.6021    146.755      0.508      0.613    -218.853     368.057\n",
       "C(Nível_Urbanização, Treatment(reference='Baixo'))[T.Médio]   327.2556    116.187      2.817      0.007      94.925     559.586\n",
       "Taxa_Analfabetismo                                           -101.6751     16.660     -6.103      0.000    -134.990     -68.361\n",
       "Área_Verde_m2_percapta                                          0.0356      0.058      0.609      0.545      -0.081       0.152\n",
       "Área_Verde_km2                                                 25.0539     88.107      0.284      0.777    -151.126     201.234\n",
       "Estabelecimentos_Ativos_Indústria                               0.7553      0.343      2.205      0.031       0.070       1.440\n",
       "Estabelecimentos_Ativos_Comércio                               -0.3609      0.111     -3.239      0.002      -0.584      -0.138\n",
       "Estabelecimentos_Ativos_Serviço                                 0.1802      0.061      2.943      0.005       0.058       0.303\n",
       "População_Total                                                -0.0045      0.004     -1.062      0.293      -0.013       0.004\n",
       "Área_hectare                                                 -204.7128     85.159     -2.404      0.019    -374.999     -34.427\n",
       "Área_km2                                                     2.046e+04   8511.288      2.404      0.019    3445.434    3.75e+04\n",
       "Densidade_Demográfica_Hab_por_ha                                6.0447      2.177      2.777      0.007       1.692      10.398\n",
       "Área_Verde_pct                                                  3.3819      6.133      0.551      0.583      -8.881      15.645\n",
       "==============================================================================\n",
       "Omnibus:                        0.209   Durbin-Watson:                   1.711\n",
       "Prob(Omnibus):                  0.901   Jarque-Bera (JB):                0.323\n",
       "Skew:                           0.116   Prob(JB):                        0.851\n",
       "Kurtosis:                       2.777   Cond. No.                     1.34e+07\n",
       "==============================================================================\n",
       "\n",
       "Warnings:\n",
       "[1] Standard Errors assume that the covariance matrix of the errors is correctly specified.\n",
       "[2] The condition number is large, 1.34e+07. This might indicate that there are\n",
       "strong multicollinearity or other numerical problems.\n",
       "\"\"\""
      ]
     },
     "execution_count": 7,
     "metadata": {},
     "output_type": "execute_result"
    }
   ],
   "source": [
    "model = smf.ols(\"Renda_Média ~ C(Nível_Urbanização, Treatment(reference='Baixo')) + Taxa_Analfabetismo + Área_Verde_m2_percapta + Área_Verde_km2 + Estabelecimentos_Ativos_Indústria + Estabelecimentos_Ativos_Comércio + Estabelecimentos_Ativos_Serviço + População_Total + Área_hectare + Área_km2 + Densidade_Demográfica_Hab_por_ha + Área_Verde_pct\", data=df)\n",
    "response = model.fit()\n",
    "response.summary()"
   ]
  },
  {
   "cell_type": "markdown",
   "metadata": {},
   "source": [
    "## Refinando o modelo\n",
    "\n",
    "O modelo definido acima parece bom, pois tem um ótimo $r^2$ (0.81). Porém, podemos identificar alguns problemas. Primeiro, o $r^2$ ajustado fica muito abaixo do não ajustado, indicando que incluímos variáveis que não ajudam o modelo. E pior: o segundo *warning* sugere que podemos ter problemas de multicolinearidade (variáveis independentes correlacionadas). \n",
    "\n",
    "Para resolver este e outros problemas (como over-fitting), precisamos selecionar apenas as melhores variáveis para o modelo. Esta não é uma tarefa trivial e existem diversas técnicas propostas, como *forward* e *backward elimination*, que estão fora do escopo deste tutorial. Aqui, vamos apenas avaliar a matriz de correlação entre as variáveis para reduzir o número de variáveis. O gráfico abaixo mostra um mapa de calor com as correlações:"
   ]
  },
  {
   "cell_type": "code",
   "execution_count": 9,
   "metadata": {},
   "outputs": [
    {
     "data": {
      "text/plain": [
       "<AxesSubplot:>"
      ]
     },
     "execution_count": 9,
     "metadata": {},
     "output_type": "execute_result"
    },
    {
     "data": {
      "image/png": "[encoded data removed]",
      "text/plain": [
       "<Figure size 432x288 with 2 Axes>"
      ]
     },
     "metadata": {},
     "output_type": "display_data"
    }
   ],
   "source": [
    "sns.heatmap(df.corr())"
   ]
  },
  {
   "cell_type": "markdown",
   "metadata": {},
   "source": [
    "O gráfico mostra diversos conjuntos de variáveis correlacionadas, como os estabelecimentos ativos e áreas. Podemos usar a estratégia de escolher apenas uma variável para cada aspecto que pode estar relacionado com a renda. Por exemplo, podemos escolher a taxa de analfabetismo para representar educação, estabelecimentos de serviços para representar atividade econômica, densidade populacional para demografia e nível de urbanição para representar o desenvolvimento.\n",
    "\n",
    "Antes, precisamos resolver um problema com a variável de estabelecimentos de serviços: ela contém números absolutos de estabelecimentos, porém estamos tentando estimar médias de renda. Em geral, ter números absolutos em um modelo pode trazer diversos problemas e é sempre importante normalizar os valores. Para isto, vamos gerar uma nova variável com o valor percapta e criamos o modelo na sequência:"
   ]
  },
  {
   "cell_type": "code",
   "execution_count": 22,
   "metadata": {},
   "outputs": [],
   "source": [
    "df['Estabelecimentos_Ativos_Serviço_percapta'] = df['Estabelecimentos_Ativos_Serviço']/df['População_Total']"
   ]
  },
  {
   "cell_type": "code",
   "execution_count": 23,
   "metadata": {},
   "outputs": [
    {
     "data": {
      "text/html": [
       "<table class=\"simpletable\">\n",
       "<caption>OLS Regression Results</caption>\n",
       "<tr>\n",
       "  <th>Dep. Variable:</th>       <td>Renda_Média</td>   <th>  R-squared:         </th> <td>   0.731</td>\n",
       "</tr>\n",
       "<tr>\n",
       "  <th>Model:</th>                   <td>OLS</td>       <th>  Adj. R-squared:    </th> <td>   0.711</td>\n",
       "</tr>\n",
       "<tr>\n",
       "  <th>Method:</th>             <td>Least Squares</td>  <th>  F-statistic:       </th> <td>   37.42</td>\n",
       "</tr>\n",
       "<tr>\n",
       "  <th>Date:</th>             <td>Mon, 18 Oct 2021</td> <th>  Prob (F-statistic):</th> <td>2.28e-18</td>\n",
       "</tr>\n",
       "<tr>\n",
       "  <th>Time:</th>                 <td>17:11:41</td>     <th>  Log-Likelihood:    </th> <td> -509.45</td>\n",
       "</tr>\n",
       "<tr>\n",
       "  <th>No. Observations:</th>      <td>    75</td>      <th>  AIC:               </th> <td>   1031.</td>\n",
       "</tr>\n",
       "<tr>\n",
       "  <th>Df Residuals:</th>          <td>    69</td>      <th>  BIC:               </th> <td>   1045.</td>\n",
       "</tr>\n",
       "<tr>\n",
       "  <th>Df Model:</th>              <td>     5</td>      <th>                     </th>     <td> </td>   \n",
       "</tr>\n",
       "<tr>\n",
       "  <th>Covariance Type:</th>      <td>nonrobust</td>    <th>                     </th>     <td> </td>   \n",
       "</tr>\n",
       "</table>\n",
       "<table class=\"simpletable\">\n",
       "<tr>\n",
       "                      <td></td>                        <th>coef</th>     <th>std err</th>      <th>t</th>      <th>P>|t|</th>  <th>[0.025</th>    <th>0.975]</th>  \n",
       "</tr>\n",
       "<tr>\n",
       "  <th>Intercept</th>                                <td>  815.4506</td> <td>  126.794</td> <td>    6.431</td> <td> 0.000</td> <td>  562.503</td> <td> 1068.399</td>\n",
       "</tr>\n",
       "<tr>\n",
       "  <th>C(Nível_Urbanização)[T.Baixo]</th>            <td>  203.3842</td> <td>   88.393</td> <td>    2.301</td> <td> 0.024</td> <td>   27.046</td> <td>  379.723</td>\n",
       "</tr>\n",
       "<tr>\n",
       "  <th>C(Nível_Urbanização)[T.Médio]</th>            <td>  304.6900</td> <td>   67.470</td> <td>    4.516</td> <td> 0.000</td> <td>  170.091</td> <td>  439.289</td>\n",
       "</tr>\n",
       "<tr>\n",
       "  <th>Taxa_Analfabetismo</th>                       <td> -109.4297</td> <td>   16.811</td> <td>   -6.510</td> <td> 0.000</td> <td> -142.966</td> <td>  -75.893</td>\n",
       "</tr>\n",
       "<tr>\n",
       "  <th>Estabelecimentos_Ativos_Serviço_percapta</th> <td> 1851.0083</td> <td>  456.567</td> <td>    4.054</td> <td> 0.000</td> <td>  940.181</td> <td> 2761.835</td>\n",
       "</tr>\n",
       "<tr>\n",
       "  <th>Densidade_Demográfica_Hab_por_ha</th>         <td>    3.7582</td> <td>    1.330</td> <td>    2.827</td> <td> 0.006</td> <td>    1.106</td> <td>    6.411</td>\n",
       "</tr>\n",
       "</table>\n",
       "<table class=\"simpletable\">\n",
       "<tr>\n",
       "  <th>Omnibus:</th>       <td> 8.593</td> <th>  Durbin-Watson:     </th> <td>   2.045</td>\n",
       "</tr>\n",
       "<tr>\n",
       "  <th>Prob(Omnibus):</th> <td> 0.014</td> <th>  Jarque-Bera (JB):  </th> <td>   8.221</td>\n",
       "</tr>\n",
       "<tr>\n",
       "  <th>Skew:</th>          <td> 0.687</td> <th>  Prob(JB):          </th> <td>  0.0164</td>\n",
       "</tr>\n",
       "<tr>\n",
       "  <th>Kurtosis:</th>      <td> 3.863</td> <th>  Cond. No.          </th> <td>    942.</td>\n",
       "</tr>\n",
       "</table><br/><br/>Warnings:<br/>[1] Standard Errors assume that the covariance matrix of the errors is correctly specified."
      ],
      "text/plain": [
       "<class 'statsmodels.iolib.summary.Summary'>\n",
       "\"\"\"\n",
       "                            OLS Regression Results                            \n",
       "==============================================================================\n",
       "Dep. Variable:            Renda_Média   R-squared:                       0.731\n",
       "Model:                            OLS   Adj. R-squared:                  0.711\n",
       "Method:                 Least Squares   F-statistic:                     37.42\n",
       "Date:                Mon, 18 Oct 2021   Prob (F-statistic):           2.28e-18\n",
       "Time:                        17:11:41   Log-Likelihood:                -509.45\n",
       "No. Observations:                  75   AIC:                             1031.\n",
       "Df Residuals:                      69   BIC:                             1045.\n",
       "Df Model:                           5                                         \n",
       "Covariance Type:            nonrobust                                         \n",
       "============================================================================================================\n",
       "                                               coef    std err          t      P>|t|      [0.025      0.975]\n",
       "------------------------------------------------------------------------------------------------------------\n",
       "Intercept                                  815.4506    126.794      6.431      0.000     562.503    1068.399\n",
       "C(Nível_Urbanização)[T.Baixo]              203.3842     88.393      2.301      0.024      27.046     379.723\n",
       "C(Nível_Urbanização)[T.Médio]              304.6900     67.470      4.516      0.000     170.091     439.289\n",
       "Taxa_Analfabetismo                        -109.4297     16.811     -6.510      0.000    -142.966     -75.893\n",
       "Estabelecimentos_Ativos_Serviço_percapta  1851.0083    456.567      4.054      0.000     940.181    2761.835\n",
       "Densidade_Demográfica_Hab_por_ha             3.7582      1.330      2.827      0.006       1.106       6.411\n",
       "==============================================================================\n",
       "Omnibus:                        8.593   Durbin-Watson:                   2.045\n",
       "Prob(Omnibus):                  0.014   Jarque-Bera (JB):                8.221\n",
       "Skew:                           0.687   Prob(JB):                       0.0164\n",
       "Kurtosis:                       3.863   Cond. No.                         942.\n",
       "==============================================================================\n",
       "\n",
       "Warnings:\n",
       "[1] Standard Errors assume that the covariance matrix of the errors is correctly specified.\n",
       "\"\"\""
      ]
     },
     "execution_count": 23,
     "metadata": {},
     "output_type": "execute_result"
    }
   ],
   "source": [
    "model = smf.ols(\"Renda_Média ~ C(Nível_Urbanização) + Taxa_Analfabetismo + Estabelecimentos_Ativos_Serviço_percapta + Densidade_Demográfica_Hab_por_ha\", data=df)\n",
    "response = model.fit()\n",
    "response.summary()"
   ]
  },
  {
   "cell_type": "markdown",
   "metadata": {},
   "source": [
    "O novo modelo tem um $r^2$ menor, mas a diferença com o valor ajustado é pequena. Além disso, não temos mais o aviso de problemas de multicolinearidade. O modelo parece bom, com várias variáveis estatisticamente significativas. Mas é sempre importante verificar a gráfico de resíduos para se ter segurança no modelo."
   ]
  },
  {
   "cell_type": "markdown",
   "metadata": {},
   "source": [
    "## Verificando o gráfico de resíduos e ajustando variáveis\n",
    "\n",
    "O gráfico de resíduos mostra, para cada valor da nossa variável dependente (neste caso a renda média, representada no eixo x), o erro residual do modelo (que é o valor real menos o valor previsto para a variável). Um bom gráfico de resíduos não apresenta grandes variações na variância do erro e nem tendências de aumento ou diminuição. O gráfico abaixo mostra problemas de variância e tendência."
   ]
  },
  {
   "cell_type": "code",
   "execution_count": 12,
   "metadata": {},
   "outputs": [
    {
     "data": {
      "text/plain": [
       "<AxesSubplot:>"
      ]
     },
     "execution_count": 12,
     "metadata": {},
     "output_type": "execute_result"
    },
    {
     "data": {
      "image/png": "[encoded data removed]",
      "text/plain": [
       "<Figure size 432x288 with 1 Axes>"
      ]
     },
     "metadata": {},
     "output_type": "display_data"
    }
   ],
   "source": [
    "pred_val = response.fittedvalues.copy()\n",
    "true_val = df['Renda_Média'].values.copy()\n",
    "residual = true_val - pred_val\n",
    "\n",
    "sns.scatterplot(x = pred_val, y = residual)"
   ]
  },
  {
   "cell_type": "markdown",
   "metadata": {},
   "source": [
    "Uma das causas desse tipo de problema é uma interação não linear entre as veriáveis independentes e a variável dependente. Para investigar isto, podemos fazer gráficos de dispersão entre as veriáveis. Como exemplo, vamos fazer só para a variável de taxa de analfabetismo, que é a que tem a maior correlação com a renda segundo nosso mapa de calor."
   ]
  },
  {
   "cell_type": "code",
   "execution_count": 13,
   "metadata": {},
   "outputs": [
    {
     "data": {
      "text/plain": [
       "<AxesSubplot:xlabel='Taxa_Analfabetismo', ylabel='Renda_Média'>"
      ]
     },
     "execution_count": 13,
     "metadata": {},
     "output_type": "execute_result"
    },
    {
     "data": {
      "image/png": "[encoded data removed]",
      "text/plain": [
       "<Figure size 432x288 with 1 Axes>"
      ]
     },
     "metadata": {},
     "output_type": "display_data"
    }
   ],
   "source": [
    "sns.scatterplot(x = df['Taxa_Analfabetismo'], y = df['Renda_Média'])"
   ]
  },
  {
   "cell_type": "markdown",
   "metadata": {},
   "source": [
    "Fica claro que o relacionamento entre as variáveis não é linear. Vemos que à medida que a renda cai, a taxa também cai, porém mais lentamente quando os valores da taxa ficam mais altos. Podemos aplicar a função logarítmica para redizir não linearmente os valores mais altos e obter uma relação mais linear como no exemplo abaixo:"
   ]
  },
  {
   "cell_type": "code",
   "execution_count": 14,
   "metadata": {},
   "outputs": [
    {
     "data": {
      "text/plain": [
       "<AxesSubplot:xlabel='Taxa_Analfabetismo', ylabel='Renda_Média'>"
      ]
     },
     "execution_count": 14,
     "metadata": {},
     "output_type": "execute_result"
    },
    {
     "data": {
      "image/png": "[encoded data removed]",
      "text/plain": [
       "<Figure size 432x288 with 1 Axes>"
      ]
     },
     "metadata": {},
     "output_type": "display_data"
    }
   ],
   "source": [
    "sns.scatterplot(x = np.log(df['Taxa_Analfabetismo']), y = df['Renda_Média'])"
   ]
  },
  {
   "cell_type": "markdown",
   "metadata": {},
   "source": [
    "Para incluir o log no modelo, basta fazer como no exemplo abaixo. Veja que o modelo ficou mais preciso ($r^2$ = 0.82), mas atenção que a inclusão do log deixa a interpretação do coeficiente da taxa de analfabetismo mais difícil."
   ]
  },
  {
   "cell_type": "code",
   "execution_count": 24,
   "metadata": {},
   "outputs": [
    {
     "data": {
      "text/html": [
       "<table class=\"simpletable\">\n",
       "<caption>OLS Regression Results</caption>\n",
       "<tr>\n",
       "  <th>Dep. Variable:</th>       <td>Renda_Média</td>   <th>  R-squared:         </th> <td>   0.823</td>\n",
       "</tr>\n",
       "<tr>\n",
       "  <th>Model:</th>                   <td>OLS</td>       <th>  Adj. R-squared:    </th> <td>   0.813</td>\n",
       "</tr>\n",
       "<tr>\n",
       "  <th>Method:</th>             <td>Least Squares</td>  <th>  F-statistic:       </th> <td>   81.38</td>\n",
       "</tr>\n",
       "<tr>\n",
       "  <th>Date:</th>             <td>Mon, 18 Oct 2021</td> <th>  Prob (F-statistic):</th> <td>1.42e-25</td>\n",
       "</tr>\n",
       "<tr>\n",
       "  <th>Time:</th>                 <td>17:48:27</td>     <th>  Log-Likelihood:    </th> <td> -493.69</td>\n",
       "</tr>\n",
       "<tr>\n",
       "  <th>No. Observations:</th>      <td>    75</td>      <th>  AIC:               </th> <td>   997.4</td>\n",
       "</tr>\n",
       "<tr>\n",
       "  <th>Df Residuals:</th>          <td>    70</td>      <th>  BIC:               </th> <td>   1009.</td>\n",
       "</tr>\n",
       "<tr>\n",
       "  <th>Df Model:</th>              <td>     4</td>      <th>                     </th>     <td> </td>   \n",
       "</tr>\n",
       "<tr>\n",
       "  <th>Covariance Type:</th>      <td>nonrobust</td>    <th>                     </th>     <td> </td>   \n",
       "</tr>\n",
       "</table>\n",
       "<table class=\"simpletable\">\n",
       "<tr>\n",
       "                  <td></td>                    <th>coef</th>     <th>std err</th>      <th>t</th>      <th>P>|t|</th>  <th>[0.025</th>    <th>0.975]</th>  \n",
       "</tr>\n",
       "<tr>\n",
       "  <th>Intercept</th>                        <td> 1103.0390</td> <td>   87.917</td> <td>   12.546</td> <td> 0.000</td> <td>  927.694</td> <td> 1278.384</td>\n",
       "</tr>\n",
       "<tr>\n",
       "  <th>C(Nível_Urbanização)[T.Baixo]</th>    <td>  128.7911</td> <td>   69.292</td> <td>    1.859</td> <td> 0.067</td> <td>   -9.407</td> <td>  266.989</td>\n",
       "</tr>\n",
       "<tr>\n",
       "  <th>C(Nível_Urbanização)[T.Médio]</th>    <td>  180.9268</td> <td>   55.596</td> <td>    3.254</td> <td> 0.002</td> <td>   70.044</td> <td>  291.810</td>\n",
       "</tr>\n",
       "<tr>\n",
       "  <th>np.log(Taxa_Analfabetismo)</th>       <td> -463.3468</td> <td>   33.919</td> <td>  -13.661</td> <td> 0.000</td> <td> -530.995</td> <td> -395.698</td>\n",
       "</tr>\n",
       "<tr>\n",
       "  <th>Densidade_Demográfica_Hab_por_ha</th> <td>    2.5759</td> <td>    1.067</td> <td>    2.414</td> <td> 0.018</td> <td>    0.448</td> <td>    4.704</td>\n",
       "</tr>\n",
       "</table>\n",
       "<table class=\"simpletable\">\n",
       "<tr>\n",
       "  <th>Omnibus:</th>       <td>17.641</td> <th>  Durbin-Watson:     </th> <td>   2.013</td>\n",
       "</tr>\n",
       "<tr>\n",
       "  <th>Prob(Omnibus):</th> <td> 0.000</td> <th>  Jarque-Bera (JB):  </th> <td>  22.891</td>\n",
       "</tr>\n",
       "<tr>\n",
       "  <th>Skew:</th>          <td> 1.034</td> <th>  Prob(JB):          </th> <td>1.07e-05</td>\n",
       "</tr>\n",
       "<tr>\n",
       "  <th>Kurtosis:</th>      <td> 4.746</td> <th>  Cond. No.          </th> <td>    281.</td>\n",
       "</tr>\n",
       "</table><br/><br/>Warnings:<br/>[1] Standard Errors assume that the covariance matrix of the errors is correctly specified."
      ],
      "text/plain": [
       "<class 'statsmodels.iolib.summary.Summary'>\n",
       "\"\"\"\n",
       "                            OLS Regression Results                            \n",
       "==============================================================================\n",
       "Dep. Variable:            Renda_Média   R-squared:                       0.823\n",
       "Model:                            OLS   Adj. R-squared:                  0.813\n",
       "Method:                 Least Squares   F-statistic:                     81.38\n",
       "Date:                Mon, 18 Oct 2021   Prob (F-statistic):           1.42e-25\n",
       "Time:                        17:48:27   Log-Likelihood:                -493.69\n",
       "No. Observations:                  75   AIC:                             997.4\n",
       "Df Residuals:                      70   BIC:                             1009.\n",
       "Df Model:                           4                                         \n",
       "Covariance Type:            nonrobust                                         \n",
       "====================================================================================================\n",
       "                                       coef    std err          t      P>|t|      [0.025      0.975]\n",
       "----------------------------------------------------------------------------------------------------\n",
       "Intercept                         1103.0390     87.917     12.546      0.000     927.694    1278.384\n",
       "C(Nível_Urbanização)[T.Baixo]      128.7911     69.292      1.859      0.067      -9.407     266.989\n",
       "C(Nível_Urbanização)[T.Médio]      180.9268     55.596      3.254      0.002      70.044     291.810\n",
       "np.log(Taxa_Analfabetismo)        -463.3468     33.919    -13.661      0.000    -530.995    -395.698\n",
       "Densidade_Demográfica_Hab_por_ha     2.5759      1.067      2.414      0.018       0.448       4.704\n",
       "==============================================================================\n",
       "Omnibus:                       17.641   Durbin-Watson:                   2.013\n",
       "Prob(Omnibus):                  0.000   Jarque-Bera (JB):               22.891\n",
       "Skew:                           1.034   Prob(JB):                     1.07e-05\n",
       "Kurtosis:                       4.746   Cond. No.                         281.\n",
       "==============================================================================\n",
       "\n",
       "Warnings:\n",
       "[1] Standard Errors assume that the covariance matrix of the errors is correctly specified.\n",
       "\"\"\""
      ]
     },
     "execution_count": 24,
     "metadata": {},
     "output_type": "execute_result"
    }
   ],
   "source": [
    "model = smf.ols(\"Renda_Média ~ C(Nível_Urbanização) + np.log(Taxa_Analfabetismo)  + Densidade_Demográfica_Hab_por_ha\", data=df)\n",
    "response = model.fit()\n",
    "response.summary()"
   ]
  },
  {
   "cell_type": "markdown",
   "metadata": {},
   "source": [
    "Podemos novamente exibir o gráfico de resíduos (abaixo). Veja que as tendências não estão mais tão fortes, mas ainda há uma variação. A decisão sobre continuar avaliando este tipo de problema depende da aplicação e da complexidade desejada. A solução pode envolver uma combinação de:\n",
    "\n",
    "- identificação de relacionamentos não lineares entre as variáveis\n",
    "- inclusão de variáveis que possam explicar melhor o fenômeno\n",
    "- construção de modelos de regressão mais complexos (como GLM)\n",
    "- identificação e exclusão de outliers\n",
    "- identificação de problemas de descontinuidade na dinâmica do fenômeno\n"
   ]
  },
  {
   "cell_type": "code",
   "execution_count": 17,
   "metadata": {},
   "outputs": [
    {
     "data": {
      "text/plain": [
       "<AxesSubplot:>"
      ]
     },
     "execution_count": 17,
     "metadata": {},
     "output_type": "execute_result"
    },
    {
     "data": {
      "image/png": "[encoded data removed]",
      "text/plain": [
       "<Figure size 432x288 with 1 Axes>"
      ]
     },
     "metadata": {},
     "output_type": "display_data"
    }
   ],
   "source": [
    "pred_val = response.fittedvalues.copy()\n",
    "true_val = df['Renda_Média'].values.copy()\n",
    "residual = true_val - pred_val\n",
    "\n",
    "sns.scatterplot(x = pred_val, y = residual)"
   ]
  }
 ],
 "metadata": {
  "hide_input": false,
  "kernelspec": {
   "display_name": "Python 3",
   "language": "python",
   "name": "python3"
  },
  "language_info": {
   "codemirror_mode": {
    "name": "ipython",
    "version": 3
   },
   "file_extension": ".py",
   "mimetype": "text/x-python",
   "name": "python",
   "nbconvert_exporter": "python",
   "pygments_lexer": "ipython3",
   "version": "3.7.6"
  },
  "toc": {
   "base_numbering": 1,
   "nav_menu": {},
   "number_sections": true,
   "sideBar": true,
   "skip_h1_title": false,
   "title_cell": "Table of Contents",
   "title_sidebar": "Contents",
   "toc_cell": false,
   "toc_position": {},
   "toc_section_display": true,
   "toc_window_display": false
  }
 },
 "nbformat": 4,
 "nbformat_minor": 4
}
