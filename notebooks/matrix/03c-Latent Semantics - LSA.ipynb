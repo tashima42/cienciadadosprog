{
 "cells": [
  {
   "cell_type": "markdown",
   "metadata": {},
   "source": [
    "# LSA\n",
    "\n",
    "Latent Semantic Analysis (LSA) is a technique in natural language processing and information retrieval that helps to uncover the hidden (latent) relationships between words in a large corpus of text. It is particularly useful for tasks like document retrieval and topic modeling.\n",
    "\n",
    "To illustrate the technique, we'll use a simple corpus containing six documents with the following contents:\n",
    "\n",
    "* d1: \"ship ocean wood\"\n",
    "* d2: \"boat ocean\"\n",
    "* d3: \"ship\"\n",
    "* d4: \"wood tree\"\n",
    "* d5: \"wood\"\n",
    "* d6: \"tree\"\n",
    "\n",
    "Below we build the term-document matrix:"
   ]
  },
  {
   "cell_type": "code",
   "execution_count": 1,
   "metadata": {},
   "outputs": [
    {
     "data": {
      "text/html": [
       "<div>\n",
       "<style scoped>\n",
       "    .dataframe tbody tr th:only-of-type {\n",
       "        vertical-align: middle;\n",
       "    }\n",
       "\n",
       "    .dataframe tbody tr th {\n",
       "        vertical-align: top;\n",
       "    }\n",
       "\n",
       "    .dataframe thead th {\n",
       "        text-align: right;\n",
       "    }\n",
       "</style>\n",
       "<table border=\"1\" class=\"dataframe\">\n",
       "  <thead>\n",
       "    <tr style=\"text-align: right;\">\n",
       "      <th></th>\n",
       "      <th>d1</th>\n",
       "      <th>d2</th>\n",
       "      <th>d3</th>\n",
       "      <th>d4</th>\n",
       "      <th>d5</th>\n",
       "      <th>d6</th>\n",
       "    </tr>\n",
       "    <tr>\n",
       "      <th>Terms</th>\n",
       "      <th></th>\n",
       "      <th></th>\n",
       "      <th></th>\n",
       "      <th></th>\n",
       "      <th></th>\n",
       "      <th></th>\n",
       "    </tr>\n",
       "  </thead>\n",
       "  <tbody>\n",
       "    <tr>\n",
       "      <th>ship</th>\n",
       "      <td>1</td>\n",
       "      <td>0</td>\n",
       "      <td>1</td>\n",
       "      <td>0</td>\n",
       "      <td>0</td>\n",
       "      <td>0</td>\n",
       "    </tr>\n",
       "    <tr>\n",
       "      <th>boat</th>\n",
       "      <td>0</td>\n",
       "      <td>1</td>\n",
       "      <td>0</td>\n",
       "      <td>0</td>\n",
       "      <td>0</td>\n",
       "      <td>0</td>\n",
       "    </tr>\n",
       "    <tr>\n",
       "      <th>ocean</th>\n",
       "      <td>1</td>\n",
       "      <td>1</td>\n",
       "      <td>0</td>\n",
       "      <td>0</td>\n",
       "      <td>0</td>\n",
       "      <td>0</td>\n",
       "    </tr>\n",
       "    <tr>\n",
       "      <th>wood</th>\n",
       "      <td>1</td>\n",
       "      <td>0</td>\n",
       "      <td>0</td>\n",
       "      <td>1</td>\n",
       "      <td>1</td>\n",
       "      <td>0</td>\n",
       "    </tr>\n",
       "    <tr>\n",
       "      <th>tree</th>\n",
       "      <td>0</td>\n",
       "      <td>0</td>\n",
       "      <td>0</td>\n",
       "      <td>1</td>\n",
       "      <td>0</td>\n",
       "      <td>1</td>\n",
       "    </tr>\n",
       "  </tbody>\n",
       "</table>\n",
       "</div>"
      ],
      "text/plain": [
       "       d1  d2  d3  d4  d5  d6\n",
       "Terms                        \n",
       "ship    1   0   1   0   0   0\n",
       "boat    0   1   0   0   0   0\n",
       "ocean   1   1   0   0   0   0\n",
       "wood    1   0   0   1   1   0\n",
       "tree    0   0   0   1   0   1"
      ]
     },
     "execution_count": 1,
     "metadata": {},
     "output_type": "execute_result"
    }
   ],
   "source": [
    "import pandas as pd\n",
    "import numpy as np\n",
    "\n",
    "data = {\n",
    "    'Terms': ['ship', 'boat', 'ocean', 'wood', 'tree'],\n",
    "    'd1': [1, 0, 1, 1, 0],\n",
    "    'd2': [0, 1, 1, 0, 0],\n",
    "    'd3': [1, 0, 0, 0, 0],\n",
    "    'd4': [0, 0, 0, 1, 1],\n",
    "    'd5': [0, 0, 0, 1, 0],\n",
    "    'd6': [0, 0, 0, 0, 1]\n",
    "}\n",
    "\n",
    "A = pd.DataFrame(data)\n",
    "\n",
    "# Set 'Terms' as the index\n",
    "A.set_index('Terms', inplace=True)\n",
    "\n",
    "A"
   ]
  },
  {
   "cell_type": "markdown",
   "metadata": {},
   "source": [
    "Let's say we want to query the corpus for \"ship wood\". The vector representing the query is built below:"
   ]
  },
  {
   "cell_type": "code",
   "execution_count": 2,
   "metadata": {},
   "outputs": [
    {
     "data": {
      "text/plain": [
       "Terms\n",
       "ship     1\n",
       "boat     0\n",
       "ocean    0\n",
       "wood     1\n",
       "tree     0\n",
       "dtype: int64"
      ]
     },
     "execution_count": 2,
     "metadata": {},
     "output_type": "execute_result"
    }
   ],
   "source": [
    "query = pd.Series([1, 0, 0, 1, 0], index=A.index)\n",
    "\n",
    "query"
   ]
  },
  {
   "cell_type": "markdown",
   "metadata": {},
   "source": [
    "Now let's calculate the similarity of each document and the query. We can see that d1 is the most relevant. d2, which contains boat, a concept similar to ship, is not relevant. LSA can help us discover these equivalences and improve our retrieval model. "
   ]
  },
  {
   "cell_type": "code",
   "execution_count": 3,
   "metadata": {},
   "outputs": [
    {
     "data": {
      "text/plain": [
       "d1    0.816497\n",
       "d3    0.707107\n",
       "d5    0.707107\n",
       "d4    0.500000\n",
       "d2    0.000000\n",
       "d6    0.000000\n",
       "dtype: float64"
      ]
     },
     "execution_count": 3,
     "metadata": {},
     "output_type": "execute_result"
    }
   ],
   "source": [
    "# calculate cosine similarity between two vectors\n",
    "def cosine_similarity(a, b):\n",
    "    return np.dot(a, b) / (np.linalg.norm(a) * np.linalg.norm(b))\n",
    "\n",
    "# calculate cosine similarity between query and each document in A\n",
    "cosine_similarities = A.T.apply(lambda x: cosine_similarity(x, query), axis=1).sort_values(ascending=False)\n",
    "\n",
    "cosine_similarities"
   ]
  },
  {
   "cell_type": "markdown",
   "metadata": {},
   "source": [
    "## SVD decomposition\n",
    "\n",
    "The SVD decomposes the term-document matrix into three matrices: U, Σ (Sigma), and V^T. Σ contains the singular values, and U and V^T contain the left and right singular vectors, respectively.\n",
    "\n",
    "Below we decompose the term-document matrix and print the dimensions of the resulting matrices:"
   ]
  },
  {
   "cell_type": "code",
   "execution_count": 4,
   "metadata": {},
   "outputs": [
    {
     "name": "stdout",
     "output_type": "stream",
     "text": [
      "(5, 5)\n",
      "(5, 6)\n",
      "(6, 6)\n"
     ]
    }
   ],
   "source": [
    "# make a svd decomposition of df\n",
    "\n",
    "U, s, Vt = np.linalg.svd(A)\n",
    "\n",
    "# make s a diagonal matrix\n",
    "sd = np.diag(s)\n",
    "\n",
    "# pad s with zeros to make it a compatible with V\n",
    "sd = np.pad(sd, ((0,0),(0, 1)), 'constant' )\n",
    "\n",
    "print(U.shape)\n",
    "print(sd.shape)\n",
    "print(Vt.shape)"
   ]
  },
  {
   "cell_type": "markdown",
   "metadata": {},
   "source": [
    "Below we display the resulting matrices:"
   ]
  },
  {
   "cell_type": "code",
   "execution_count": 5,
   "metadata": {},
   "outputs": [
    {
     "data": {
      "text/latex": [
       "$\\displaystyle A = U\\Sigma V^T = \\begin{bmatrix}0.44&-0.30&-0.57&-0.58&0.25\\\\ 0.13&-0.33&0.59&0.00&0.73\\\\ 0.48&-0.51&0.37&0.00&-0.61\\\\ 0.70&0.35&-0.15&0.58&0.16\\\\ 0.26&0.65&0.41&-0.58&-0.09\\end{bmatrix} \\times \\begin{bmatrix}2.16&0.00&0.00&0.00&0.00&0.00\\\\ 0.00&1.59&0.00&0.00&0.00&0.00\\\\ 0.00&0.00&1.28&0.00&0.00&0.00\\\\ 0.00&0.00&0.00&1.00&0.00&0.00\\\\ 0.00&0.00&0.00&0.00&0.39&0.00\\end{bmatrix} \\times \\begin{bmatrix}0.75&0.28&0.20&0.45&0.33&0.12\\\\ -0.29&-0.53&-0.19&0.63&0.22&0.41\\\\ -0.28&0.75&-0.45&0.20&-0.12&0.33\\\\ 0.00&0.00&-0.58&-0.00&0.58&-0.58\\\\ -0.53&0.29&0.63&0.19&0.41&-0.22\\\\ 0.00&-0.00&-0.00&-0.58&0.58&0.58\\end{bmatrix}$"
      ],
      "text/plain": [
       "<IPython.core.display.Math object>"
      ]
     },
     "metadata": {},
     "output_type": "display_data"
    }
   ],
   "source": [
    "from IPython.display import display, Math\n",
    "# Function to format matrix for LaTeX display\n",
    "def matrix_to_latex(matrix):\n",
    "    return '\\\\\\ '.join(['&'.join([f'{x:.2f}' for x in row]) for row in matrix])\n",
    "\n",
    "# Create LaTeX strings for each matrix\n",
    "U_latex = matrix_to_latex(U)\n",
    "S_latex = matrix_to_latex(sd)\n",
    "Vt_latex = matrix_to_latex(Vt)\n",
    "\n",
    "# Display the matrix equation\n",
    "display(Math(r'A = U\\Sigma V^T = \\begin{bmatrix}' + U_latex + r'\\end{bmatrix} \\times \\begin{bmatrix}' + S_latex + r'\\end{bmatrix} \\times \\begin{bmatrix}' + Vt_latex + r'\\end{bmatrix}'))"
   ]
  },
  {
   "cell_type": "markdown",
   "metadata": {},
   "source": [
    "If we multiply the matrices we get back the original matrix:"
   ]
  },
  {
   "cell_type": "code",
   "execution_count": 6,
   "metadata": {},
   "outputs": [
    {
     "data": {
      "text/html": [
       "<div>\n",
       "<style scoped>\n",
       "    .dataframe tbody tr th:only-of-type {\n",
       "        vertical-align: middle;\n",
       "    }\n",
       "\n",
       "    .dataframe tbody tr th {\n",
       "        vertical-align: top;\n",
       "    }\n",
       "\n",
       "    .dataframe thead th {\n",
       "        text-align: right;\n",
       "    }\n",
       "</style>\n",
       "<table border=\"1\" class=\"dataframe\">\n",
       "  <thead>\n",
       "    <tr style=\"text-align: right;\">\n",
       "      <th></th>\n",
       "      <th>d1</th>\n",
       "      <th>d2</th>\n",
       "      <th>d3</th>\n",
       "      <th>d4</th>\n",
       "      <th>d5</th>\n",
       "      <th>d6</th>\n",
       "    </tr>\n",
       "    <tr>\n",
       "      <th>Terms</th>\n",
       "      <th></th>\n",
       "      <th></th>\n",
       "      <th></th>\n",
       "      <th></th>\n",
       "      <th></th>\n",
       "      <th></th>\n",
       "    </tr>\n",
       "  </thead>\n",
       "  <tbody>\n",
       "    <tr>\n",
       "      <th>ship</th>\n",
       "      <td>1.0</td>\n",
       "      <td>0.0</td>\n",
       "      <td>1.0</td>\n",
       "      <td>0.0</td>\n",
       "      <td>0.0</td>\n",
       "      <td>0.0</td>\n",
       "    </tr>\n",
       "    <tr>\n",
       "      <th>boat</th>\n",
       "      <td>0.0</td>\n",
       "      <td>1.0</td>\n",
       "      <td>0.0</td>\n",
       "      <td>0.0</td>\n",
       "      <td>0.0</td>\n",
       "      <td>0.0</td>\n",
       "    </tr>\n",
       "    <tr>\n",
       "      <th>ocean</th>\n",
       "      <td>1.0</td>\n",
       "      <td>1.0</td>\n",
       "      <td>0.0</td>\n",
       "      <td>0.0</td>\n",
       "      <td>0.0</td>\n",
       "      <td>0.0</td>\n",
       "    </tr>\n",
       "    <tr>\n",
       "      <th>wood</th>\n",
       "      <td>1.0</td>\n",
       "      <td>0.0</td>\n",
       "      <td>0.0</td>\n",
       "      <td>1.0</td>\n",
       "      <td>1.0</td>\n",
       "      <td>0.0</td>\n",
       "    </tr>\n",
       "    <tr>\n",
       "      <th>tree</th>\n",
       "      <td>0.0</td>\n",
       "      <td>0.0</td>\n",
       "      <td>0.0</td>\n",
       "      <td>1.0</td>\n",
       "      <td>0.0</td>\n",
       "      <td>1.0</td>\n",
       "    </tr>\n",
       "  </tbody>\n",
       "</table>\n",
       "</div>"
      ],
      "text/plain": [
       "        d1   d2   d3   d4   d5   d6\n",
       "Terms                              \n",
       "ship   1.0  0.0  1.0  0.0  0.0  0.0\n",
       "boat   0.0  1.0  0.0  0.0  0.0  0.0\n",
       "ocean  1.0  1.0  0.0  0.0  0.0  0.0\n",
       "wood   1.0  0.0  0.0  1.0  1.0  0.0\n",
       "tree   0.0  0.0  0.0  1.0  0.0  1.0"
      ]
     },
     "execution_count": 6,
     "metadata": {},
     "output_type": "execute_result"
    }
   ],
   "source": [
    "# reconstruct the matrix\n",
    "pd.DataFrame(U @ sd @ Vt, index=A.index, columns=A.columns).round().abs()"
   ]
  },
  {
   "cell_type": "markdown",
   "metadata": {},
   "source": [
    "## Reducing the dimensionality and recomposing the matrix\n",
    "\n",
    "One way to introduce the semantic similarity between terms in the term-document matrix is to recompose it with lowed-dimension components. Below we reduce U, Σ, and V^T to two dimensions:"
   ]
  },
  {
   "cell_type": "code",
   "execution_count": 7,
   "metadata": {},
   "outputs": [
    {
     "data": {
      "text/plain": [
       "array([[2.16250096, 0.        ],\n",
       "       [0.        , 1.59438237]])"
      ]
     },
     "execution_count": 7,
     "metadata": {},
     "output_type": "execute_result"
    }
   ],
   "source": [
    "# reconstruct the matrix\n",
    "r = 2\n",
    "\n",
    "U_r, s_r, Vt_r = U[:, :r], sd[:r, :r], Vt[:r, :]\n",
    "\n",
    "s_r"
   ]
  },
  {
   "cell_type": "markdown",
   "metadata": {},
   "source": [
    "The reduced matrices are shown below:"
   ]
  },
  {
   "cell_type": "code",
   "execution_count": 8,
   "metadata": {},
   "outputs": [
    {
     "data": {
      "text/latex": [
       "$\\displaystyle A_r = U_r\\Sigma_r V^T_r = \\begin{bmatrix}0.44&-0.30\\\\ 0.13&-0.33\\\\ 0.48&-0.51\\\\ 0.70&0.35\\\\ 0.26&0.65\\end{bmatrix} \\times \\begin{bmatrix}2.16&0.00\\\\ 0.00&1.59\\end{bmatrix} \\times \\begin{bmatrix}0.75&0.28&0.20&0.45&0.33&0.12\\\\ -0.29&-0.53&-0.19&0.63&0.22&0.41\\end{bmatrix}$"
      ],
      "text/plain": [
       "<IPython.core.display.Math object>"
      ]
     },
     "metadata": {},
     "output_type": "display_data"
    }
   ],
   "source": [
    "# Create LaTeX strings for each matrix\n",
    "U_latex = matrix_to_latex(U_r)\n",
    "S_latex = matrix_to_latex(s_r)\n",
    "Vt_latex = matrix_to_latex(Vt_r)\n",
    "\n",
    "# Display the matrix equation\n",
    "display(Math(r'A_r = U_r\\Sigma_r V^T_r = \\begin{bmatrix}' + U_latex + r'\\end{bmatrix} \\times \\begin{bmatrix}' + S_latex + r'\\end{bmatrix} \\times \\begin{bmatrix}' + Vt_latex + r'\\end{bmatrix}'))"
   ]
  },
  {
   "cell_type": "markdown",
   "metadata": {},
   "source": [
    "Now we can recompose the term-document matrix. See how d2 is now related to ship?"
   ]
  },
  {
   "cell_type": "code",
   "execution_count": 9,
   "metadata": {},
   "outputs": [
    {
     "data": {
      "text/html": [
       "<div>\n",
       "<style scoped>\n",
       "    .dataframe tbody tr th:only-of-type {\n",
       "        vertical-align: middle;\n",
       "    }\n",
       "\n",
       "    .dataframe tbody tr th {\n",
       "        vertical-align: top;\n",
       "    }\n",
       "\n",
       "    .dataframe thead th {\n",
       "        text-align: right;\n",
       "    }\n",
       "</style>\n",
       "<table border=\"1\" class=\"dataframe\">\n",
       "  <thead>\n",
       "    <tr style=\"text-align: right;\">\n",
       "      <th></th>\n",
       "      <th>d1</th>\n",
       "      <th>d2</th>\n",
       "      <th>d3</th>\n",
       "      <th>d4</th>\n",
       "      <th>d5</th>\n",
       "      <th>d6</th>\n",
       "    </tr>\n",
       "    <tr>\n",
       "      <th>Terms</th>\n",
       "      <th></th>\n",
       "      <th></th>\n",
       "      <th></th>\n",
       "      <th></th>\n",
       "      <th></th>\n",
       "      <th></th>\n",
       "    </tr>\n",
       "  </thead>\n",
       "  <tbody>\n",
       "    <tr>\n",
       "      <th>ship</th>\n",
       "      <td>0.848146</td>\n",
       "      <td>0.515902</td>\n",
       "      <td>0.281625</td>\n",
       "      <td>0.129860</td>\n",
       "      <td>0.205743</td>\n",
       "      <td>-0.075882</td>\n",
       "    </tr>\n",
       "    <tr>\n",
       "      <th>boat</th>\n",
       "      <td>0.360778</td>\n",
       "      <td>0.357508</td>\n",
       "      <td>0.155125</td>\n",
       "      <td>-0.205653</td>\n",
       "      <td>-0.025264</td>\n",
       "      <td>-0.180389</td>\n",
       "    </tr>\n",
       "    <tr>\n",
       "      <th>ocean</th>\n",
       "      <td>1.003270</td>\n",
       "      <td>0.718285</td>\n",
       "      <td>0.360778</td>\n",
       "      <td>-0.050529</td>\n",
       "      <td>0.155125</td>\n",
       "      <td>-0.205653</td>\n",
       "    </tr>\n",
       "    <tr>\n",
       "      <th>wood</th>\n",
       "      <td>0.978006</td>\n",
       "      <td>0.129860</td>\n",
       "      <td>0.205743</td>\n",
       "      <td>1.028534</td>\n",
       "      <td>0.617139</td>\n",
       "      <td>0.411396</td>\n",
       "    </tr>\n",
       "    <tr>\n",
       "      <th>tree</th>\n",
       "      <td>0.129860</td>\n",
       "      <td>-0.386042</td>\n",
       "      <td>-0.075882</td>\n",
       "      <td>0.898674</td>\n",
       "      <td>0.411396</td>\n",
       "      <td>0.487278</td>\n",
       "    </tr>\n",
       "  </tbody>\n",
       "</table>\n",
       "</div>"
      ],
      "text/plain": [
       "             d1        d2        d3        d4        d5        d6\n",
       "Terms                                                            \n",
       "ship   0.848146  0.515902  0.281625  0.129860  0.205743 -0.075882\n",
       "boat   0.360778  0.357508  0.155125 -0.205653 -0.025264 -0.180389\n",
       "ocean  1.003270  0.718285  0.360778 -0.050529  0.155125 -0.205653\n",
       "wood   0.978006  0.129860  0.205743  1.028534  0.617139  0.411396\n",
       "tree   0.129860 -0.386042 -0.075882  0.898674  0.411396  0.487278"
      ]
     },
     "execution_count": 9,
     "metadata": {},
     "output_type": "execute_result"
    }
   ],
   "source": [
    "A_r = pd.DataFrame(U_r @ s_r @ Vt_r)\n",
    "\n",
    "# changes the index and columns of A_r to be the same as A\n",
    "A_r.index = A.index\n",
    "A_r.columns = A.columns\n",
    "\n",
    "A_r"
   ]
  },
  {
   "cell_type": "markdown",
   "metadata": {},
   "source": [
    "We can also build a similarity matrix to see related terms:"
   ]
  },
  {
   "cell_type": "code",
   "execution_count": 10,
   "metadata": {},
   "outputs": [
    {
     "data": {
      "text/html": [
       "<div>\n",
       "<style scoped>\n",
       "    .dataframe tbody tr th:only-of-type {\n",
       "        vertical-align: middle;\n",
       "    }\n",
       "\n",
       "    .dataframe tbody tr th {\n",
       "        vertical-align: top;\n",
       "    }\n",
       "\n",
       "    .dataframe thead th {\n",
       "        text-align: right;\n",
       "    }\n",
       "</style>\n",
       "<table border=\"1\" class=\"dataframe\">\n",
       "  <thead>\n",
       "    <tr style=\"text-align: right;\">\n",
       "      <th>Terms</th>\n",
       "      <th>ship</th>\n",
       "      <th>boat</th>\n",
       "      <th>ocean</th>\n",
       "      <th>wood</th>\n",
       "      <th>tree</th>\n",
       "    </tr>\n",
       "    <tr>\n",
       "      <th>Terms</th>\n",
       "      <th></th>\n",
       "      <th></th>\n",
       "      <th></th>\n",
       "      <th></th>\n",
       "      <th></th>\n",
       "    </tr>\n",
       "  </thead>\n",
       "  <tbody>\n",
       "    <tr>\n",
       "      <th>ship</th>\n",
       "      <td>1.000000</td>\n",
       "      <td>0.811764</td>\n",
       "      <td>0.978079</td>\n",
       "      <td>0.687557</td>\n",
       "      <td>0.043137</td>\n",
       "    </tr>\n",
       "    <tr>\n",
       "      <th>boat</th>\n",
       "      <td>0.811764</td>\n",
       "      <td>1.000000</td>\n",
       "      <td>0.915575</td>\n",
       "      <td>0.134084</td>\n",
       "      <td>-0.548426</td>\n",
       "    </tr>\n",
       "    <tr>\n",
       "      <th>ocean</th>\n",
       "      <td>0.978079</td>\n",
       "      <td>0.915575</td>\n",
       "      <td>1.000000</td>\n",
       "      <td>0.521280</td>\n",
       "      <td>-0.165849</td>\n",
       "    </tr>\n",
       "    <tr>\n",
       "      <th>wood</th>\n",
       "      <td>0.687557</td>\n",
       "      <td>0.134084</td>\n",
       "      <td>0.521280</td>\n",
       "      <td>1.000000</td>\n",
       "      <td>0.755113</td>\n",
       "    </tr>\n",
       "    <tr>\n",
       "      <th>tree</th>\n",
       "      <td>0.043137</td>\n",
       "      <td>-0.548426</td>\n",
       "      <td>-0.165849</td>\n",
       "      <td>0.755113</td>\n",
       "      <td>1.000000</td>\n",
       "    </tr>\n",
       "  </tbody>\n",
       "</table>\n",
       "</div>"
      ],
      "text/plain": [
       "Terms      ship      boat     ocean      wood      tree\n",
       "Terms                                                  \n",
       "ship   1.000000  0.811764  0.978079  0.687557  0.043137\n",
       "boat   0.811764  1.000000  0.915575  0.134084 -0.548426\n",
       "ocean  0.978079  0.915575  1.000000  0.521280 -0.165849\n",
       "wood   0.687557  0.134084  0.521280  1.000000  0.755113\n",
       "tree   0.043137 -0.548426 -0.165849  0.755113  1.000000"
      ]
     },
     "execution_count": 10,
     "metadata": {},
     "output_type": "execute_result"
    }
   ],
   "source": [
    "# make a similarity matrix for all rows of A_r\n",
    "\n",
    "# Calculate similarity\n",
    "similarity = A_r.apply(lambda row1: A_r.apply(lambda row2: cosine_similarity(row1, row2), axis=1), axis=1)\n",
    "\n",
    "similarity"
   ]
  },
  {
   "cell_type": "markdown",
   "metadata": {},
   "source": [
    "If we run the original query on the updated term-document matrix, we now have d2 as a relevant document:"
   ]
  },
  {
   "cell_type": "code",
   "execution_count": 11,
   "metadata": {},
   "outputs": [
    {
     "data": {
      "text/plain": [
       "d1    0.767667\n",
       "d5    0.740680\n",
       "d3    0.649391\n",
       "d4    0.590034\n",
       "d2    0.440244\n",
       "d6    0.339865\n",
       "dtype: float64"
      ]
     },
     "execution_count": 11,
     "metadata": {},
     "output_type": "execute_result"
    }
   ],
   "source": [
    "# calculate cosine similarity between query and each document in A\n",
    "cosine_similarities = A_r.T.apply(lambda x: cosine_similarity(x, query), axis=1).sort_values(ascending=False)\n",
    "\n",
    "cosine_similarities"
   ]
  }
 ],
 "metadata": {
  "kernelspec": {
   "display_name": "pln",
   "language": "python",
   "name": "python3"
  },
  "language_info": {
   "codemirror_mode": {
    "name": "ipython",
    "version": 3
   },
   "file_extension": ".py",
   "mimetype": "text/x-python",
   "name": "python",
   "nbconvert_exporter": "python",
   "pygments_lexer": "ipython3",
   "version": "3.10.9"
  }
 },
 "nbformat": 4,
 "nbformat_minor": 2
}
