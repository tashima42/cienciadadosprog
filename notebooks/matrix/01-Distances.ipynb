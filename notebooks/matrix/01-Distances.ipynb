{
 "cells": [
  {
   "cell_type": "markdown",
   "metadata": {},
   "source": [
    "# Distances in Data Analysis\n",
    "\n",
    "Distance is a fundamental concept in mathematics and computer science. It measures the amount of space between two points in a given space. In programming, distance calculations are commonly used in various applications, such as geometry, physics simulations, data analysis, and more.\n",
    "\n",
    "Throughout this notebook, you can expect to find explanations, examples, and exercises that will help you understand and apply the concept of distance in areas such as Information Retrieval, Natural Language Processing, Data Science, etc.\n",
    "\n"
   ]
  },
  {
   "cell_type": "markdown",
   "metadata": {},
   "source": [
    "## Opening the dataset\n",
    "\n",
    "The examples used are based on a simple dataset containing cars, with attributes like dimensions, type and color. The code below opens and shows the records in the dataset. h (hue), s (saturation) and v (value) are the HSV code for the color of the car."
   ]
  },
  {
   "cell_type": "code",
   "execution_count": 1,
   "metadata": {},
   "outputs": [
    {
     "data": {
      "text/html": [
       "<div>\n",
       "<style scoped>\n",
       "    .dataframe tbody tr th:only-of-type {\n",
       "        vertical-align: middle;\n",
       "    }\n",
       "\n",
       "    .dataframe tbody tr th {\n",
       "        vertical-align: top;\n",
       "    }\n",
       "\n",
       "    .dataframe thead th {\n",
       "        text-align: right;\n",
       "    }\n",
       "</style>\n",
       "<table border=\"1\" class=\"dataframe\">\n",
       "  <thead>\n",
       "    <tr style=\"text-align: right;\">\n",
       "      <th></th>\n",
       "      <th>length</th>\n",
       "      <th>height</th>\n",
       "      <th>type</th>\n",
       "      <th>h</th>\n",
       "      <th>s</th>\n",
       "      <th>v</th>\n",
       "      <th>mileage</th>\n",
       "    </tr>\n",
       "  </thead>\n",
       "  <tbody>\n",
       "    <tr>\n",
       "      <th>0</th>\n",
       "      <td>350</td>\n",
       "      <td>150</td>\n",
       "      <td>sedan</td>\n",
       "      <td>300</td>\n",
       "      <td>0.8</td>\n",
       "      <td>1.0</td>\n",
       "      <td>233587</td>\n",
       "    </tr>\n",
       "    <tr>\n",
       "      <th>1</th>\n",
       "      <td>500</td>\n",
       "      <td>180</td>\n",
       "      <td>van</td>\n",
       "      <td>25</td>\n",
       "      <td>0.7</td>\n",
       "      <td>0.7</td>\n",
       "      <td>87915</td>\n",
       "    </tr>\n",
       "    <tr>\n",
       "      <th>2</th>\n",
       "      <td>550</td>\n",
       "      <td>200</td>\n",
       "      <td>truck</td>\n",
       "      <td>140</td>\n",
       "      <td>0.1</td>\n",
       "      <td>0.6</td>\n",
       "      <td>59819</td>\n",
       "    </tr>\n",
       "    <tr>\n",
       "      <th>3</th>\n",
       "      <td>280</td>\n",
       "      <td>165</td>\n",
       "      <td>sedan</td>\n",
       "      <td>220</td>\n",
       "      <td>0.9</td>\n",
       "      <td>0.2</td>\n",
       "      <td>32682</td>\n",
       "    </tr>\n",
       "    <tr>\n",
       "      <th>4</th>\n",
       "      <td>620</td>\n",
       "      <td>230</td>\n",
       "      <td>van</td>\n",
       "      <td>220</td>\n",
       "      <td>1.0</td>\n",
       "      <td>0.5</td>\n",
       "      <td>355894</td>\n",
       "    </tr>\n",
       "    <tr>\n",
       "      <th>5</th>\n",
       "      <td>320</td>\n",
       "      <td>155</td>\n",
       "      <td>sedan</td>\n",
       "      <td>0</td>\n",
       "      <td>0.5</td>\n",
       "      <td>0.8</td>\n",
       "      <td>84232</td>\n",
       "    </tr>\n",
       "    <tr>\n",
       "      <th>6</th>\n",
       "      <td>730</td>\n",
       "      <td>285</td>\n",
       "      <td>truck</td>\n",
       "      <td>128</td>\n",
       "      <td>0.7</td>\n",
       "      <td>0.5</td>\n",
       "      <td>255416</td>\n",
       "    </tr>\n",
       "    <tr>\n",
       "      <th>7</th>\n",
       "      <td>490</td>\n",
       "      <td>170</td>\n",
       "      <td>van</td>\n",
       "      <td>85</td>\n",
       "      <td>0.4</td>\n",
       "      <td>0.4</td>\n",
       "      <td>55188</td>\n",
       "    </tr>\n",
       "    <tr>\n",
       "      <th>8</th>\n",
       "      <td>210</td>\n",
       "      <td>155</td>\n",
       "      <td>sedan</td>\n",
       "      <td>5</td>\n",
       "      <td>0.9</td>\n",
       "      <td>0.9</td>\n",
       "      <td>105879</td>\n",
       "    </tr>\n",
       "    <tr>\n",
       "      <th>9</th>\n",
       "      <td>460</td>\n",
       "      <td>160</td>\n",
       "      <td>van</td>\n",
       "      <td>90</td>\n",
       "      <td>0.2</td>\n",
       "      <td>0.2</td>\n",
       "      <td>58792</td>\n",
       "    </tr>\n",
       "  </tbody>\n",
       "</table>\n",
       "</div>"
      ],
      "text/plain": [
       "   length  height   type    h    s    v  mileage\n",
       "0     350     150  sedan  300  0.8  1.0   233587\n",
       "1     500     180    van   25  0.7  0.7    87915\n",
       "2     550     200  truck  140  0.1  0.6    59819\n",
       "3     280     165  sedan  220  0.9  0.2    32682\n",
       "4     620     230    van  220  1.0  0.5   355894\n",
       "5     320     155  sedan    0  0.5  0.8    84232\n",
       "6     730     285  truck  128  0.7  0.5   255416\n",
       "7     490     170    van   85  0.4  0.4    55188\n",
       "8     210     155  sedan    5  0.9  0.9   105879\n",
       "9     460     160    van   90  0.2  0.2    58792"
      ]
     },
     "execution_count": 1,
     "metadata": {},
     "output_type": "execute_result"
    }
   ],
   "source": [
    "import pandas as pd\n",
    "import numpy as np\n",
    "import matplotlib.pyplot as plt\n",
    "from sklearn.preprocessing import StandardScaler, MinMaxScaler\n",
    "from scipy.spatial.distance import pdist, squareform\n",
    "from matplotlib.colors import hsv_to_rgb\n",
    "from matplotlib.offsetbox import OffsetImage, AnnotationBbox\n",
    "from util.cars import create_distance_matrix_with_cars\n",
    "\n",
    "df = pd.read_excel('util/cars.xlsx')\n",
    "\n",
    "df"
   ]
  },
  {
   "cell_type": "markdown",
   "metadata": {},
   "source": [
    "## Distance Metrics\n",
    "\n",
    "Let's say we need to measure the distance between points 0 and 1, and 0 and 2 in the figure below."
   ]
  },
  {
   "cell_type": "code",
   "execution_count": 2,
   "metadata": {},
   "outputs": [
    {
     "data": {
      "text/plain": [
       "Text(550, 197, '2')"
      ]
     },
     "execution_count": 2,
     "metadata": {},
     "output_type": "execute_result"
    },
    {
     "data": {
      "image/png": "[encoded data removed]",
      "text/plain": [
       "<Figure size 640x480 with 1 Axes>"
      ]
     },
     "metadata": {},
     "output_type": "display_data"
    }
   ],
   "source": [
    "# draw a chart with a line between points (350,150) and (500,180)\n",
    "plt.plot([350, 500], [150, 180], marker='o')\n",
    "# draw a chart with a line between points (350,150) and (550,200)\n",
    "plt.plot([350, 550], [150, 200], marker='o')\n",
    "\n",
    "# add labels\n",
    "plt.text(350, 153, '0')\n",
    "plt.text(500, 177, '1')\n",
    "plt.text(550, 197, '2')"
   ]
  },
  {
   "cell_type": "markdown",
   "metadata": {},
   "source": [
    "Two commom distance metrics used in this scenario are the [Euclidian Distance](https://en.wikipedia.org/wiki/Euclidean_distance) and the [Manhattan Distance](https://en.wikipedia.org/wiki/Taxicab_geometry). The Euclidian distance is what we usually mean when we talk about distances. The Manhattan distance only considers the components that align with the axis (vertical and horizontal for the 2D example). The code below show how to calculate these distances."
   ]
  },
  {
   "cell_type": "code",
   "execution_count": 3,
   "metadata": {},
   "outputs": [
    {
     "name": "stdout",
     "output_type": "stream",
     "text": [
      "Euclidian Distance from cars 0 to 1 = 152.97058540778355\n",
      "Manhattan Distance from cars 0 to 1 = 180\n",
      "Euclidian Distance from cars 0 to 2 = 206.15528128088303\n",
      "Manhattan Distance from cars 0 to 2 = 250\n"
     ]
    }
   ],
   "source": [
    "# function that calculates the euclidean (L2) distance between two points\n",
    "def euclidean_distance(p1, p2):\n",
    "    return np.sqrt(np.sum((p1 - p2) ** 2))\n",
    "\n",
    "# function that calculates the manhattan (L1) distance between two points\n",
    "def manhattan_distance(p1, p2):\n",
    "    return np.sum(np.abs(p1 - p2))\n",
    "\n",
    "print(f\"Euclidian Distance from cars 0 to 1 = {euclidean_distance(np.array([350, 150]), np.array([500, 180]))}\")\n",
    "print(f\"Manhattan Distance from cars 0 to 1 = {manhattan_distance(np.array([350, 150]), np.array([500, 180]))}\")\n",
    "print(f\"Euclidian Distance from cars 0 to 2 = {euclidean_distance(np.array([350, 150]), np.array([550, 200]))}\")\n",
    "print(f\"Manhattan Distance from cars 0 to 2 = {manhattan_distance(np.array([350, 150]), np.array([550, 200]))}\")"
   ]
  },
  {
   "cell_type": "markdown",
   "metadata": {},
   "source": [
    "Notice that the distance functions are not restricted to points in two dimensions. We can use the same strategies to calculate distances for tree dimensions, as in the example below. The same can be done for any number of dimensions."
   ]
  },
  {
   "cell_type": "code",
   "execution_count": 4,
   "metadata": {},
   "outputs": [
    {
     "data": {
      "text/plain": [
       "314.6823795511913"
      ]
     },
     "execution_count": 4,
     "metadata": {},
     "output_type": "execute_result"
    }
   ],
   "source": [
    "# calculatind the euclidean distance between the first two cars, using the 'length', 'height' and 'hue' columns\n",
    "euclidean_distance(df.loc[0,['length', 'height', 'h']], df.loc[1,['length', 'height', 'h']])"
   ]
  },
  {
   "cell_type": "markdown",
   "metadata": {},
   "source": [
    "## Distance Matrix\n",
    "\n",
    "For any dataset with numerical variables, we can construct a distance matrix that shows the distances between any two elements, as in the example below. Since we are using the dimensions of the car and its color to calculate the distances, the matrix shows cars of similar sizes and colors as having low distance."
   ]
  },
  {
   "cell_type": "code",
   "execution_count": 5,
   "metadata": {},
   "outputs": [
    {
     "data": {
      "text/html": [
       "<div>\n",
       "<style scoped>\n",
       "    .dataframe tbody tr th:only-of-type {\n",
       "        vertical-align: middle;\n",
       "    }\n",
       "\n",
       "    .dataframe tbody tr th {\n",
       "        vertical-align: top;\n",
       "    }\n",
       "\n",
       "    .dataframe thead th {\n",
       "        text-align: right;\n",
       "    }\n",
       "</style>\n",
       "<table border=\"1\" class=\"dataframe\">\n",
       "  <thead>\n",
       "    <tr style=\"text-align: right;\">\n",
       "      <th></th>\n",
       "      <th>0</th>\n",
       "      <th>1</th>\n",
       "      <th>2</th>\n",
       "      <th>3</th>\n",
       "      <th>4</th>\n",
       "      <th>5</th>\n",
       "      <th>6</th>\n",
       "      <th>7</th>\n",
       "      <th>8</th>\n",
       "      <th>9</th>\n",
       "    </tr>\n",
       "  </thead>\n",
       "  <tbody>\n",
       "    <tr>\n",
       "      <th>0</th>\n",
       "      <td>0.000000</td>\n",
       "      <td>314.682538</td>\n",
       "      <td>260.961012</td>\n",
       "      <td>107.357580</td>\n",
       "      <td>292.746119</td>\n",
       "      <td>301.537941</td>\n",
       "      <td>438.416765</td>\n",
       "      <td>257.343195</td>\n",
       "      <td>326.573146</td>\n",
       "      <td>237.278318</td>\n",
       "    </tr>\n",
       "    <tr>\n",
       "      <th>1</th>\n",
       "      <td>314.682538</td>\n",
       "      <td>0.000000</td>\n",
       "      <td>126.985708</td>\n",
       "      <td>294.364213</td>\n",
       "      <td>234.361110</td>\n",
       "      <td>183.439500</td>\n",
       "      <td>273.009231</td>\n",
       "      <td>61.645600</td>\n",
       "      <td>291.762026</td>\n",
       "      <td>78.901838</td>\n",
       "    </tr>\n",
       "    <tr>\n",
       "      <th>2</th>\n",
       "      <td>260.961012</td>\n",
       "      <td>126.985708</td>\n",
       "      <td>0.000000</td>\n",
       "      <td>283.770682</td>\n",
       "      <td>110.457322</td>\n",
       "      <td>272.993040</td>\n",
       "      <td>199.422591</td>\n",
       "      <td>86.747507</td>\n",
       "      <td>368.579340</td>\n",
       "      <td>110.454380</td>\n",
       "    </tr>\n",
       "    <tr>\n",
       "      <th>3</th>\n",
       "      <td>107.357580</td>\n",
       "      <td>294.364213</td>\n",
       "      <td>283.770682</td>\n",
       "      <td>0.000000</td>\n",
       "      <td>346.157623</td>\n",
       "      <td>223.831454</td>\n",
       "      <td>474.725321</td>\n",
       "      <td>249.700400</td>\n",
       "      <td>226.330488</td>\n",
       "      <td>222.093426</td>\n",
       "    </tr>\n",
       "    <tr>\n",
       "      <th>4</th>\n",
       "      <td>292.746119</td>\n",
       "      <td>234.361110</td>\n",
       "      <td>110.457322</td>\n",
       "      <td>346.157623</td>\n",
       "      <td>0.000000</td>\n",
       "      <td>379.506706</td>\n",
       "      <td>153.587402</td>\n",
       "      <td>196.787627</td>\n",
       "      <td>468.988454</td>\n",
       "      <td>217.717087</td>\n",
       "    </tr>\n",
       "    <tr>\n",
       "      <th>5</th>\n",
       "      <td>301.537941</td>\n",
       "      <td>183.439500</td>\n",
       "      <td>272.993040</td>\n",
       "      <td>223.831454</td>\n",
       "      <td>379.506706</td>\n",
       "      <td>0.000000</td>\n",
       "      <td>448.758432</td>\n",
       "      <td>190.657205</td>\n",
       "      <td>110.114350</td>\n",
       "      <td>166.509609</td>\n",
       "    </tr>\n",
       "    <tr>\n",
       "      <th>6</th>\n",
       "      <td>438.416765</td>\n",
       "      <td>273.009231</td>\n",
       "      <td>199.422591</td>\n",
       "      <td>474.725321</td>\n",
       "      <td>153.587402</td>\n",
       "      <td>448.758432</td>\n",
       "      <td>0.000000</td>\n",
       "      <td>269.581342</td>\n",
       "      <td>549.935633</td>\n",
       "      <td>299.948896</td>\n",
       "    </tr>\n",
       "    <tr>\n",
       "      <th>7</th>\n",
       "      <td>257.343195</td>\n",
       "      <td>61.645600</td>\n",
       "      <td>86.747507</td>\n",
       "      <td>249.700400</td>\n",
       "      <td>196.787627</td>\n",
       "      <td>190.657205</td>\n",
       "      <td>269.581342</td>\n",
       "      <td>0.000000</td>\n",
       "      <td>291.591324</td>\n",
       "      <td>32.016871</td>\n",
       "    </tr>\n",
       "    <tr>\n",
       "      <th>8</th>\n",
       "      <td>326.573146</td>\n",
       "      <td>291.762026</td>\n",
       "      <td>368.579340</td>\n",
       "      <td>226.330488</td>\n",
       "      <td>468.988454</td>\n",
       "      <td>110.114350</td>\n",
       "      <td>549.935633</td>\n",
       "      <td>291.591324</td>\n",
       "      <td>0.000000</td>\n",
       "      <td>264.104108</td>\n",
       "    </tr>\n",
       "    <tr>\n",
       "      <th>9</th>\n",
       "      <td>237.278318</td>\n",
       "      <td>78.901838</td>\n",
       "      <td>110.454380</td>\n",
       "      <td>222.093426</td>\n",
       "      <td>217.717087</td>\n",
       "      <td>166.509609</td>\n",
       "      <td>299.948896</td>\n",
       "      <td>32.016871</td>\n",
       "      <td>264.104108</td>\n",
       "      <td>0.000000</td>\n",
       "    </tr>\n",
       "  </tbody>\n",
       "</table>\n",
       "</div>"
      ],
      "text/plain": [
       "            0           1           2           3           4           5  \\\n",
       "0    0.000000  314.682538  260.961012  107.357580  292.746119  301.537941   \n",
       "1  314.682538    0.000000  126.985708  294.364213  234.361110  183.439500   \n",
       "2  260.961012  126.985708    0.000000  283.770682  110.457322  272.993040   \n",
       "3  107.357580  294.364213  283.770682    0.000000  346.157623  223.831454   \n",
       "4  292.746119  234.361110  110.457322  346.157623    0.000000  379.506706   \n",
       "5  301.537941  183.439500  272.993040  223.831454  379.506706    0.000000   \n",
       "6  438.416765  273.009231  199.422591  474.725321  153.587402  448.758432   \n",
       "7  257.343195   61.645600   86.747507  249.700400  196.787627  190.657205   \n",
       "8  326.573146  291.762026  368.579340  226.330488  468.988454  110.114350   \n",
       "9  237.278318   78.901838  110.454380  222.093426  217.717087  166.509609   \n",
       "\n",
       "            6           7           8           9  \n",
       "0  438.416765  257.343195  326.573146  237.278318  \n",
       "1  273.009231   61.645600  291.762026   78.901838  \n",
       "2  199.422591   86.747507  368.579340  110.454380  \n",
       "3  474.725321  249.700400  226.330488  222.093426  \n",
       "4  153.587402  196.787627  468.988454  217.717087  \n",
       "5  448.758432  190.657205  110.114350  166.509609  \n",
       "6    0.000000  269.581342  549.935633  299.948896  \n",
       "7  269.581342    0.000000  291.591324   32.016871  \n",
       "8  549.935633  291.591324    0.000000  264.104108  \n",
       "9  299.948896   32.016871  264.104108    0.000000  "
      ]
     },
     "execution_count": 5,
     "metadata": {},
     "output_type": "execute_result"
    }
   ],
   "source": [
    "features = ['length', 'height', 'h', 's', 'v']\n",
    "\n",
    "# Calculate distance matrix\n",
    "distances = pdist(df[features], metric='euclidean')\n",
    "distance_matrix = squareform(distances)\n",
    "\n",
    "pd.DataFrame(distance_matrix)"
   ]
  },
  {
   "cell_type": "markdown",
   "metadata": {},
   "source": [
    "We'll now use a special visualization to draw the distance matrix. The intensity of the color represents the distance. See how cars of similar size and color have darker intersections, meaning they are closer."
   ]
  },
  {
   "cell_type": "code",
   "execution_count": 6,
   "metadata": {},
   "outputs": [
    {
     "data": {
      "image/png": "[encoded data removed]",
      "text/plain": [
       "<Figure size 800x800 with 2 Axes>"
      ]
     },
     "metadata": {},
     "output_type": "display_data"
    }
   ],
   "source": [
    "\n",
    "# Prepare data for distance calculation\n",
    "features = ['length', 'height', 'h', 's', 'v']\n",
    "\n",
    "# Call the function\n",
    "create_distance_matrix_with_cars(df, features)"
   ]
  },
  {
   "cell_type": "markdown",
   "metadata": {},
   "source": [
    "Now let's add the attribute 'mileage' to the dataframe and see how it affects the distances."
   ]
  },
  {
   "cell_type": "code",
   "execution_count": 7,
   "metadata": {},
   "outputs": [
    {
     "data": {
      "image/png": "[encoded data removed]",
      "text/plain": [
       "<Figure size 800x800 with 2 Axes>"
      ]
     },
     "metadata": {},
     "output_type": "display_data"
    }
   ],
   "source": [
    "features = ['length', 'height', 'h', 's', 'v', 'mileage']\n",
    "\n",
    "create_distance_matrix_with_cars(df, features)"
   ]
  },
  {
   "cell_type": "markdown",
   "metadata": {},
   "source": [
    "## Normalization\n",
    "\n",
    "The distances are now unrelated to the size and color of the cars, even though the attributes for size and color were present in the dataframe. The problem is that the attribute 'mileage' is in a much higher scale and dominates the distance calculation.\n",
    "\n",
    "To solve this problem, we'll rescale all the variables to be between 0 and 1."
   ]
  },
  {
   "cell_type": "code",
   "execution_count": 8,
   "metadata": {},
   "outputs": [
    {
     "data": {
      "text/html": [
       "<div>\n",
       "<style scoped>\n",
       "    .dataframe tbody tr th:only-of-type {\n",
       "        vertical-align: middle;\n",
       "    }\n",
       "\n",
       "    .dataframe tbody tr th {\n",
       "        vertical-align: top;\n",
       "    }\n",
       "\n",
       "    .dataframe thead th {\n",
       "        text-align: right;\n",
       "    }\n",
       "</style>\n",
       "<table border=\"1\" class=\"dataframe\">\n",
       "  <thead>\n",
       "    <tr style=\"text-align: right;\">\n",
       "      <th></th>\n",
       "      <th>length_scaled</th>\n",
       "      <th>height_scaled</th>\n",
       "      <th>h_scaled</th>\n",
       "      <th>s_scaled</th>\n",
       "      <th>v_scaled</th>\n",
       "      <th>mileage_scaled</th>\n",
       "    </tr>\n",
       "  </thead>\n",
       "  <tbody>\n",
       "    <tr>\n",
       "      <th>0</th>\n",
       "      <td>0.269231</td>\n",
       "      <td>0.000000</td>\n",
       "      <td>1.000000</td>\n",
       "      <td>0.777778</td>\n",
       "      <td>1.000</td>\n",
       "      <td>0.621589</td>\n",
       "    </tr>\n",
       "    <tr>\n",
       "      <th>1</th>\n",
       "      <td>0.557692</td>\n",
       "      <td>0.222222</td>\n",
       "      <td>0.083333</td>\n",
       "      <td>0.666667</td>\n",
       "      <td>0.625</td>\n",
       "      <td>0.170888</td>\n",
       "    </tr>\n",
       "    <tr>\n",
       "      <th>2</th>\n",
       "      <td>0.653846</td>\n",
       "      <td>0.370370</td>\n",
       "      <td>0.466667</td>\n",
       "      <td>0.000000</td>\n",
       "      <td>0.500</td>\n",
       "      <td>0.083960</td>\n",
       "    </tr>\n",
       "    <tr>\n",
       "      <th>3</th>\n",
       "      <td>0.134615</td>\n",
       "      <td>0.111111</td>\n",
       "      <td>0.733333</td>\n",
       "      <td>0.888889</td>\n",
       "      <td>0.000</td>\n",
       "      <td>0.000000</td>\n",
       "    </tr>\n",
       "    <tr>\n",
       "      <th>4</th>\n",
       "      <td>0.788462</td>\n",
       "      <td>0.592593</td>\n",
       "      <td>0.733333</td>\n",
       "      <td>1.000000</td>\n",
       "      <td>0.375</td>\n",
       "      <td>1.000000</td>\n",
       "    </tr>\n",
       "    <tr>\n",
       "      <th>5</th>\n",
       "      <td>0.211538</td>\n",
       "      <td>0.037037</td>\n",
       "      <td>0.000000</td>\n",
       "      <td>0.444444</td>\n",
       "      <td>0.750</td>\n",
       "      <td>0.159493</td>\n",
       "    </tr>\n",
       "    <tr>\n",
       "      <th>6</th>\n",
       "      <td>1.000000</td>\n",
       "      <td>1.000000</td>\n",
       "      <td>0.426667</td>\n",
       "      <td>0.666667</td>\n",
       "      <td>0.375</td>\n",
       "      <td>0.689127</td>\n",
       "    </tr>\n",
       "    <tr>\n",
       "      <th>7</th>\n",
       "      <td>0.538462</td>\n",
       "      <td>0.148148</td>\n",
       "      <td>0.283333</td>\n",
       "      <td>0.333333</td>\n",
       "      <td>0.250</td>\n",
       "      <td>0.069632</td>\n",
       "    </tr>\n",
       "    <tr>\n",
       "      <th>8</th>\n",
       "      <td>0.000000</td>\n",
       "      <td>0.037037</td>\n",
       "      <td>0.016667</td>\n",
       "      <td>0.888889</td>\n",
       "      <td>0.875</td>\n",
       "      <td>0.226467</td>\n",
       "    </tr>\n",
       "    <tr>\n",
       "      <th>9</th>\n",
       "      <td>0.480769</td>\n",
       "      <td>0.074074</td>\n",
       "      <td>0.300000</td>\n",
       "      <td>0.111111</td>\n",
       "      <td>0.000</td>\n",
       "      <td>0.080783</td>\n",
       "    </tr>\n",
       "  </tbody>\n",
       "</table>\n",
       "</div>"
      ],
      "text/plain": [
       "   length_scaled  height_scaled  h_scaled  s_scaled  v_scaled  mileage_scaled\n",
       "0       0.269231       0.000000  1.000000  0.777778     1.000        0.621589\n",
       "1       0.557692       0.222222  0.083333  0.666667     0.625        0.170888\n",
       "2       0.653846       0.370370  0.466667  0.000000     0.500        0.083960\n",
       "3       0.134615       0.111111  0.733333  0.888889     0.000        0.000000\n",
       "4       0.788462       0.592593  0.733333  1.000000     0.375        1.000000\n",
       "5       0.211538       0.037037  0.000000  0.444444     0.750        0.159493\n",
       "6       1.000000       1.000000  0.426667  0.666667     0.375        0.689127\n",
       "7       0.538462       0.148148  0.283333  0.333333     0.250        0.069632\n",
       "8       0.000000       0.037037  0.016667  0.888889     0.875        0.226467\n",
       "9       0.480769       0.074074  0.300000  0.111111     0.000        0.080783"
      ]
     },
     "execution_count": 8,
     "metadata": {},
     "output_type": "execute_result"
    }
   ],
   "source": [
    "# Prepare data for distance calculation\n",
    "features = ['length', 'height', 'h', 's', 'v', 'mileage']\n",
    "\n",
    "# append _scaled to the column names\n",
    "features_scaled = [f'{f}_scaled' for f in features]\n",
    "\n",
    "X = df[features]\n",
    "\n",
    "# Standardize features\n",
    "scaler = MinMaxScaler()\n",
    "X_scaled = scaler.fit_transform(X)\n",
    "\n",
    "df_scaled = pd.DataFrame(X_scaled, columns=features_scaled)\n",
    "\n",
    "df_scaled"
   ]
  },
  {
   "cell_type": "markdown",
   "metadata": {},
   "source": [
    "Now the distances make sense again!"
   ]
  },
  {
   "cell_type": "code",
   "execution_count": 9,
   "metadata": {},
   "outputs": [
    {
     "data": {
      "image/png": "[encoded data removed]",
      "text/plain": [
       "<Figure size 800x800 with 2 Axes>"
      ]
     },
     "metadata": {},
     "output_type": "display_data"
    }
   ],
   "source": [
    "create_distance_matrix_with_cars(df_scaled.join(df), features_scaled)"
   ]
  },
  {
   "cell_type": "markdown",
   "metadata": {},
   "source": [
    "## Dummy variables\n",
    "\n",
    "So far the type of the car isn't used as a factor in the distances because they are text/categorical values (e.g. sedan, truck). To deal with categorical values, we represent them as dummy variables, creating a new column to represent each category and assigning a value of 1 whenever the row is in that category (and 0 otherwise).\n"
   ]
  },
  {
   "cell_type": "code",
   "execution_count": 10,
   "metadata": {},
   "outputs": [
    {
     "data": {
      "text/html": [
       "<div>\n",
       "<style scoped>\n",
       "    .dataframe tbody tr th:only-of-type {\n",
       "        vertical-align: middle;\n",
       "    }\n",
       "\n",
       "    .dataframe tbody tr th {\n",
       "        vertical-align: top;\n",
       "    }\n",
       "\n",
       "    .dataframe thead th {\n",
       "        text-align: right;\n",
       "    }\n",
       "</style>\n",
       "<table border=\"1\" class=\"dataframe\">\n",
       "  <thead>\n",
       "    <tr style=\"text-align: right;\">\n",
       "      <th></th>\n",
       "      <th>length</th>\n",
       "      <th>height</th>\n",
       "      <th>h</th>\n",
       "      <th>s</th>\n",
       "      <th>v</th>\n",
       "      <th>mileage</th>\n",
       "      <th>type_sedan</th>\n",
       "      <th>type_truck</th>\n",
       "      <th>type_van</th>\n",
       "    </tr>\n",
       "  </thead>\n",
       "  <tbody>\n",
       "    <tr>\n",
       "      <th>0</th>\n",
       "      <td>350</td>\n",
       "      <td>150</td>\n",
       "      <td>300</td>\n",
       "      <td>0.8</td>\n",
       "      <td>1.0</td>\n",
       "      <td>233587</td>\n",
       "      <td>1</td>\n",
       "      <td>0</td>\n",
       "      <td>0</td>\n",
       "    </tr>\n",
       "    <tr>\n",
       "      <th>1</th>\n",
       "      <td>500</td>\n",
       "      <td>180</td>\n",
       "      <td>25</td>\n",
       "      <td>0.7</td>\n",
       "      <td>0.7</td>\n",
       "      <td>87915</td>\n",
       "      <td>0</td>\n",
       "      <td>0</td>\n",
       "      <td>1</td>\n",
       "    </tr>\n",
       "    <tr>\n",
       "      <th>2</th>\n",
       "      <td>550</td>\n",
       "      <td>200</td>\n",
       "      <td>140</td>\n",
       "      <td>0.1</td>\n",
       "      <td>0.6</td>\n",
       "      <td>59819</td>\n",
       "      <td>0</td>\n",
       "      <td>1</td>\n",
       "      <td>0</td>\n",
       "    </tr>\n",
       "    <tr>\n",
       "      <th>3</th>\n",
       "      <td>280</td>\n",
       "      <td>165</td>\n",
       "      <td>220</td>\n",
       "      <td>0.9</td>\n",
       "      <td>0.2</td>\n",
       "      <td>32682</td>\n",
       "      <td>1</td>\n",
       "      <td>0</td>\n",
       "      <td>0</td>\n",
       "    </tr>\n",
       "    <tr>\n",
       "      <th>4</th>\n",
       "      <td>620</td>\n",
       "      <td>230</td>\n",
       "      <td>220</td>\n",
       "      <td>1.0</td>\n",
       "      <td>0.5</td>\n",
       "      <td>355894</td>\n",
       "      <td>0</td>\n",
       "      <td>0</td>\n",
       "      <td>1</td>\n",
       "    </tr>\n",
       "    <tr>\n",
       "      <th>5</th>\n",
       "      <td>320</td>\n",
       "      <td>155</td>\n",
       "      <td>0</td>\n",
       "      <td>0.5</td>\n",
       "      <td>0.8</td>\n",
       "      <td>84232</td>\n",
       "      <td>1</td>\n",
       "      <td>0</td>\n",
       "      <td>0</td>\n",
       "    </tr>\n",
       "    <tr>\n",
       "      <th>6</th>\n",
       "      <td>730</td>\n",
       "      <td>285</td>\n",
       "      <td>128</td>\n",
       "      <td>0.7</td>\n",
       "      <td>0.5</td>\n",
       "      <td>255416</td>\n",
       "      <td>0</td>\n",
       "      <td>1</td>\n",
       "      <td>0</td>\n",
       "    </tr>\n",
       "    <tr>\n",
       "      <th>7</th>\n",
       "      <td>490</td>\n",
       "      <td>170</td>\n",
       "      <td>85</td>\n",
       "      <td>0.4</td>\n",
       "      <td>0.4</td>\n",
       "      <td>55188</td>\n",
       "      <td>0</td>\n",
       "      <td>0</td>\n",
       "      <td>1</td>\n",
       "    </tr>\n",
       "    <tr>\n",
       "      <th>8</th>\n",
       "      <td>210</td>\n",
       "      <td>155</td>\n",
       "      <td>5</td>\n",
       "      <td>0.9</td>\n",
       "      <td>0.9</td>\n",
       "      <td>105879</td>\n",
       "      <td>1</td>\n",
       "      <td>0</td>\n",
       "      <td>0</td>\n",
       "    </tr>\n",
       "    <tr>\n",
       "      <th>9</th>\n",
       "      <td>460</td>\n",
       "      <td>160</td>\n",
       "      <td>90</td>\n",
       "      <td>0.2</td>\n",
       "      <td>0.2</td>\n",
       "      <td>58792</td>\n",
       "      <td>0</td>\n",
       "      <td>0</td>\n",
       "      <td>1</td>\n",
       "    </tr>\n",
       "  </tbody>\n",
       "</table>\n",
       "</div>"
      ],
      "text/plain": [
       "   length  height    h    s    v  mileage  type_sedan  type_truck  type_van\n",
       "0     350     150  300  0.8  1.0   233587           1           0         0\n",
       "1     500     180   25  0.7  0.7    87915           0           0         1\n",
       "2     550     200  140  0.1  0.6    59819           0           1         0\n",
       "3     280     165  220  0.9  0.2    32682           1           0         0\n",
       "4     620     230  220  1.0  0.5   355894           0           0         1\n",
       "5     320     155    0  0.5  0.8    84232           1           0         0\n",
       "6     730     285  128  0.7  0.5   255416           0           1         0\n",
       "7     490     170   85  0.4  0.4    55188           0           0         1\n",
       "8     210     155    5  0.9  0.9   105879           1           0         0\n",
       "9     460     160   90  0.2  0.2    58792           0           0         1"
      ]
     },
     "execution_count": 10,
     "metadata": {},
     "output_type": "execute_result"
    }
   ],
   "source": [
    "# add dummy variable for car type\n",
    "df_dummies = pd.get_dummies(df, columns=['type'])\n",
    "\n",
    "df_dummies"
   ]
  },
  {
   "cell_type": "code",
   "execution_count": 11,
   "metadata": {},
   "outputs": [
    {
     "data": {
      "image/png": "[encoded data removed]",
      "text/plain": [
       "<Figure size 800x800 with 2 Axes>"
      ]
     },
     "metadata": {},
     "output_type": "display_data"
    }
   ],
   "source": [
    "# Prepare data for distance calculation\n",
    "X = df_dummies\n",
    "\n",
    "# append _scaled to the column names\n",
    "features_scaled = [f'{f}_scaled' for f in df_dummies.columns]\n",
    "\n",
    "# Standardize features\n",
    "scaler = MinMaxScaler()\n",
    "X_scaled = scaler.fit_transform(X)\n",
    "\n",
    "df_dummies_scaled = pd.DataFrame(X_scaled, columns=features_scaled)\n",
    "\n",
    "# Call the function\n",
    "create_distance_matrix_with_cars(df_dummies_scaled.join(df), features_scaled)"
   ]
  },
  {
   "cell_type": "markdown",
   "metadata": {},
   "source": [
    "Now the type of the car is also usad to calculate distances."
   ]
  },
  {
   "cell_type": "markdown",
   "metadata": {},
   "source": [
    "# Similarity Metrics"
   ]
  },
  {
   "cell_type": "markdown",
   "metadata": {},
   "source": [
    "Similarity metrics are similar to (inverted) distance metrics: the goal is to quantify how close (i.e. similar) points are in the multidimensional space. Some similarity metrics are defined as functions below."
   ]
  },
  {
   "cell_type": "code",
   "execution_count": 12,
   "metadata": {},
   "outputs": [],
   "source": [
    "# calculate euclidean similarity between two vectors\n",
    "def euclidean_similarity(a, b):\n",
    "    return 1 / (1 + euclidean_distance(a, b))\n",
    "\n",
    "# calculate cosine similarity between two vectors\n",
    "def cosine_similarity(a, b):\n",
    "    return np.dot(a, b) / (np.linalg.norm(a) * np.linalg.norm(b))\n",
    "\n",
    "# calculate dot product similarity between two vectors\n",
    "def dot_product_similarity(a, b):\n",
    "    return np.dot(a, b)"
   ]
  },
  {
   "cell_type": "markdown",
   "metadata": {},
   "source": [
    "We can use similarity metrics in the same way that we used distance metrics before."
   ]
  },
  {
   "cell_type": "code",
   "execution_count": 13,
   "metadata": {},
   "outputs": [
    {
     "data": {
      "image/png": "[encoded data removed]",
      "text/plain": [
       "<Figure size 800x800 with 2 Axes>"
      ]
     },
     "metadata": {},
     "output_type": "display_data"
    }
   ],
   "source": [
    "# make a distance matrix using cosine similarity\n",
    "\n",
    "# Prepare data for distance calculation\n",
    "X = df_dummies\n",
    "\n",
    "# Standardize features\n",
    "scaler = StandardScaler()\n",
    "X_scaled = scaler.fit_transform(X)\n",
    "\n",
    "# Calculate distance matrix\n",
    "distances = pdist(X_scaled, metric=cosine_similarity)\n",
    "distance_matrix = squareform(distances)\n",
    "\n",
    "# Call the function\n",
    "create_distance_matrix_with_cars(df_dummies.join(df['type']), features)"
   ]
  },
  {
   "cell_type": "markdown",
   "metadata": {},
   "source": [
    "## Similarity Metrics and Information Retrieval\n",
    "\n",
    "Similarity metrics are often used in Information Retrieval (IR), which often involves finding similar documents based on a query. In IR we often represent documents as a term/document matrix, as seen below. Each document, represented in the columns, has a 1 assigned whenever it contains a giver term. For example, document d1 has the terms 'ship', 'ocean', 'wood'."
   ]
  },
  {
   "cell_type": "code",
   "execution_count": 14,
   "metadata": {},
   "outputs": [
    {
     "data": {
      "text/html": [
       "<div>\n",
       "<style scoped>\n",
       "    .dataframe tbody tr th:only-of-type {\n",
       "        vertical-align: middle;\n",
       "    }\n",
       "\n",
       "    .dataframe tbody tr th {\n",
       "        vertical-align: top;\n",
       "    }\n",
       "\n",
       "    .dataframe thead th {\n",
       "        text-align: right;\n",
       "    }\n",
       "</style>\n",
       "<table border=\"1\" class=\"dataframe\">\n",
       "  <thead>\n",
       "    <tr style=\"text-align: right;\">\n",
       "      <th></th>\n",
       "      <th>d1</th>\n",
       "      <th>d2</th>\n",
       "      <th>d3</th>\n",
       "      <th>d4</th>\n",
       "      <th>d5</th>\n",
       "      <th>d6</th>\n",
       "    </tr>\n",
       "    <tr>\n",
       "      <th>C</th>\n",
       "      <th></th>\n",
       "      <th></th>\n",
       "      <th></th>\n",
       "      <th></th>\n",
       "      <th></th>\n",
       "      <th></th>\n",
       "    </tr>\n",
       "  </thead>\n",
       "  <tbody>\n",
       "    <tr>\n",
       "      <th>ship</th>\n",
       "      <td>1</td>\n",
       "      <td>0</td>\n",
       "      <td>1</td>\n",
       "      <td>0</td>\n",
       "      <td>0</td>\n",
       "      <td>0</td>\n",
       "    </tr>\n",
       "    <tr>\n",
       "      <th>boat</th>\n",
       "      <td>0</td>\n",
       "      <td>1</td>\n",
       "      <td>0</td>\n",
       "      <td>0</td>\n",
       "      <td>0</td>\n",
       "      <td>0</td>\n",
       "    </tr>\n",
       "    <tr>\n",
       "      <th>ocean</th>\n",
       "      <td>1</td>\n",
       "      <td>1</td>\n",
       "      <td>0</td>\n",
       "      <td>0</td>\n",
       "      <td>0</td>\n",
       "      <td>0</td>\n",
       "    </tr>\n",
       "    <tr>\n",
       "      <th>wood</th>\n",
       "      <td>1</td>\n",
       "      <td>0</td>\n",
       "      <td>0</td>\n",
       "      <td>1</td>\n",
       "      <td>1</td>\n",
       "      <td>0</td>\n",
       "    </tr>\n",
       "    <tr>\n",
       "      <th>tree</th>\n",
       "      <td>0</td>\n",
       "      <td>0</td>\n",
       "      <td>0</td>\n",
       "      <td>1</td>\n",
       "      <td>0</td>\n",
       "      <td>1</td>\n",
       "    </tr>\n",
       "  </tbody>\n",
       "</table>\n",
       "</div>"
      ],
      "text/plain": [
       "       d1  d2  d3  d4  d5  d6\n",
       "C                            \n",
       "ship    1   0   1   0   0   0\n",
       "boat    0   1   0   0   0   0\n",
       "ocean   1   1   0   0   0   0\n",
       "wood    1   0   0   1   1   0\n",
       "tree    0   0   0   1   0   1"
      ]
     },
     "execution_count": 14,
     "metadata": {},
     "output_type": "execute_result"
    }
   ],
   "source": [
    "data = {\n",
    "    'C': ['ship', 'boat', 'ocean', 'wood', 'tree'],\n",
    "    'd1': [1, 0, 1, 1, 0],\n",
    "    'd2': [0, 1, 1, 0, 0],\n",
    "    'd3': [1, 0, 0, 0, 0],\n",
    "    'd4': [0, 0, 0, 1, 1],\n",
    "    'd5': [0, 0, 0, 1, 0],\n",
    "    'd6': [0, 0, 0, 0, 1]\n",
    "}\n",
    "\n",
    "C = pd.DataFrame(data)\n",
    "\n",
    "# Set 'C' as the index\n",
    "C.set_index('C', inplace=True)\n",
    "\n",
    "C"
   ]
  },
  {
   "cell_type": "markdown",
   "metadata": {},
   "source": [
    "A query in a IR systems is represented in the same was as the documents. If we want to query for the terms 'ship' and 'wood', we would create a vector similar to the vector in the columns of the documents:"
   ]
  },
  {
   "cell_type": "code",
   "execution_count": 15,
   "metadata": {},
   "outputs": [
    {
     "data": {
      "text/plain": [
       "C\n",
       "ship     1\n",
       "boat     0\n",
       "ocean    0\n",
       "wood     1\n",
       "tree     0\n",
       "dtype: int64"
      ]
     },
     "execution_count": 15,
     "metadata": {},
     "output_type": "execute_result"
    }
   ],
   "source": [
    "query = pd.Series([1, 0, 0, 1, 0], index=C.index)\n",
    "\n",
    "query"
   ]
  },
  {
   "cell_type": "markdown",
   "metadata": {},
   "source": [
    "Now we can apply the similarity metrics to find the  documents that are most similar to the query. In our case, the fist document is the most similar!"
   ]
  },
  {
   "cell_type": "code",
   "execution_count": 16,
   "metadata": {},
   "outputs": [
    {
     "data": {
      "text/plain": [
       "d1    0.816497\n",
       "d3    0.707107\n",
       "d5    0.707107\n",
       "d4    0.500000\n",
       "d2    0.000000\n",
       "d6    0.000000\n",
       "dtype: float64"
      ]
     },
     "execution_count": 16,
     "metadata": {},
     "output_type": "execute_result"
    }
   ],
   "source": [
    "# calculate cosine similarity between query and each document in A\n",
    "cosine_similarities = C.T.apply(lambda x: cosine_similarity(x, query), axis=1).sort_values(ascending=False)\n",
    "\n",
    "cosine_similarities"
   ]
  },
  {
   "cell_type": "markdown",
   "metadata": {},
   "source": [
    "## References\n",
    "\n",
    "[Wikipedia Euclidean distance](https://en.wikipedia.org/wiki/Euclidean_distance)\n",
    "\n",
    "[Wikipedia Cosine similarity](https://en.wikipedia.org/wiki/Cosine_similarity)\n",
    "\n",
    "[Wikipedia Information retrieval](https://en.wikipedia.org/wiki/Information_retrieval)\n"
   ]
  },
  {
   "cell_type": "markdown",
   "metadata": {},
   "source": []
  }
 ],
 "metadata": {
  "kernelspec": {
   "display_name": "pln",
   "language": "python",
   "name": "python3"
  },
  "language_info": {
   "codemirror_mode": {
    "name": "ipython",
    "version": 3
   },
   "file_extension": ".py",
   "mimetype": "text/x-python",
   "name": "python",
   "nbconvert_exporter": "python",
   "pygments_lexer": "ipython3",
   "version": "3.10.9"
  }
 },
 "nbformat": 4,
 "nbformat_minor": 2
}
