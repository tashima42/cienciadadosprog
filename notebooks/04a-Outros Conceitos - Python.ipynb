{
 "cells": [
  {
   "cell_type": "markdown",
   "metadata": {},
   "source": [
    "# Introdução à linguagem Python para Ciência de Dados - Conceitos intermediários\n",
    "\n",
    "Neste notebook apresentamos diversos conceitos importantes da linguagem Python. Embora seja possível fazer diversas analises conhecendo apenas o básico da linguagem, analises mias avançadas demandam que os cientistas tenham um maior dominio do Python.\n"
   ]
  },
  {
   "cell_type": "markdown",
   "metadata": {},
   "source": [
    "## Tipos de Variáveis e formatação de strings\n",
    "\n",
    "Variáveis possuem tipos e frequentemente precisamos fazer uma conversão entre estes tipos. O exemplo abaixo declara e converte várias variáveis."
   ]
  },
  {
   "cell_type": "code",
   "execution_count": 1,
   "metadata": {},
   "outputs": [
    {
     "name": "stdout",
     "output_type": "stream",
     "text": [
      "Valores:  30 45 35.5\n",
      "Tipos:  <class 'int'> <class 'str'> <class 'float'>\n",
      "Novos valores:  30 45.0 45\n",
      "Novos tipos:  <class 'str'> <class 'float'> <class 'int'>\n"
     ]
    }
   ],
   "source": [
    "area1 = 30\n",
    "area2 = \"45\"\n",
    "area3 = 35.5\n",
    "\n",
    "print(\"Valores: \", area1, area2, area3)\n",
    "print(\"Tipos: \", type(area1), type(area2), type(area3))\n",
    "\n",
    "area1 = str(area1) #converte para String\n",
    "area2 = float(area2) #converte para Float\n",
    "area3 = int(area2) #converte para Inteiro\n",
    "\n",
    "print(\"Novos valores: \", area1, area2, area3)\n",
    "print(\"Novos tipos: \", type(area1), type(area2), type(area3))"
   ]
  },
  {
   "cell_type": "markdown",
   "metadata": {},
   "source": [
    "Um tipo importante de viariável é o tipo *String* (texto). Frequentemente precisamos construir Strings que combinem diversos valores. Um método útil neste caso é o `format`, que permite a substituição de pontos marcados com chaves ({}) por valores passados como parâmetro."
   ]
  },
  {
   "cell_type": "code",
   "execution_count": 2,
   "metadata": {},
   "outputs": [
    {
     "name": "stdout",
     "output_type": "stream",
     "text": [
      "Área 1 = 45, Área 2 = 60.\n"
     ]
    }
   ],
   "source": [
    "area1 = 45\n",
    "area2 = 60\n",
    "\n",
    "frase1 = \"Área 1 = {}, Área 2 = {}.\".format(area1, area2)\n",
    "print(frase1)"
   ]
  },
  {
   "cell_type": "markdown",
   "metadata": {},
   "source": [
    "O método `format` também permite a formatação da aparência dos números. Abaixo construímos a string de forma a ter dois dígitos decimais para os valores de aluguel:"
   ]
  },
  {
   "cell_type": "code",
   "execution_count": 3,
   "metadata": {},
   "outputs": [
    {
     "name": "stdout",
     "output_type": "stream",
     "text": [
      "Aluguel 1 = 780.00, Aluguel 2 = 1100.00.\n"
     ]
    }
   ],
   "source": [
    "aluguel1 = 780\n",
    "aluguel2 = 1100\n",
    "\n",
    "print(\"Aluguel 1 = {:.2f}, Aluguel 2 = {:.2f}.\".format(aluguel1, aluguel2))"
   ]
  },
  {
   "cell_type": "markdown",
   "metadata": {},
   "source": [
    "## Dicionários\n",
    "\n",
    "Dicionário é um tipo de dado que nos permite dar nomes aos valores armazenados. Por exemplo, para armazenar as características de um imóvel, podemos definir um dicionário como no exemplo abaixo:"
   ]
  },
  {
   "cell_type": "code",
   "execution_count": 4,
   "metadata": {},
   "outputs": [
    {
     "data": {
      "text/plain": [
       "{'endereco': 'Av V. Guarapuava, 1000', 'area': 45, 'aluguel': 800}"
      ]
     },
     "execution_count": 4,
     "metadata": {},
     "output_type": "execute_result"
    }
   ],
   "source": [
    "apartamento1 = {\"endereco\": \"Av V. Guarapuava, 1000\", \"area\": 45, \"aluguel\": 800}\n",
    "apartamento1"
   ]
  },
  {
   "cell_type": "markdown",
   "metadata": {},
   "source": [
    "Podemos preencher e acessar os valores do dicionário separadamente:"
   ]
  },
  {
   "cell_type": "code",
   "execution_count": 5,
   "metadata": {},
   "outputs": [
    {
     "name": "stdout",
     "output_type": "stream",
     "text": [
      "{'endereco': 'Av Sete de Setembro, 170', 'area': 53, 'aluguel': 950}\n",
      "950\n"
     ]
    }
   ],
   "source": [
    "apartamento2 = {}\n",
    "\n",
    "apartamento2[\"endereco\"] = \"Av Sete de Setembro, 170\"\n",
    "apartamento2[\"area\"] = 53\n",
    "apartamento2[\"aluguel\"] = 950\n",
    "\n",
    "print(apartamento2)\n",
    "print(apartamento2['aluguel'])"
   ]
  },
  {
   "cell_type": "markdown",
   "metadata": {},
   "source": [
    "Podemos criar uma lista de dicionários e acessar os valores como demonstrado abaixo:"
   ]
  },
  {
   "cell_type": "code",
   "execution_count": 6,
   "metadata": {},
   "outputs": [
    {
     "name": "stdout",
     "output_type": "stream",
     "text": [
      "Aluguel do Apartamento 2: 950\n",
      "Todos os Apartamentos: [{'endereco': 'Av V. Guarapuava, 1000', 'area': 45, 'aluguel': 800}, {'endereco': 'Av Sete de Setembro, 170', 'area': 53, 'aluguel': 950}]\n"
     ]
    }
   ],
   "source": [
    "apartamentos = [apartamento1, apartamento2]\n",
    "\n",
    "print(\"Aluguel do Apartamento 2:\", apartamentos[1][\"aluguel\"])\n",
    "print(\"Todos os Apartamentos:\" , apartamentos)"
   ]
  },
  {
   "cell_type": "markdown",
   "metadata": {},
   "source": [
    "## Operadores de controle de fluxo"
   ]
  },
  {
   "cell_type": "markdown",
   "metadata": {},
   "source": [
    "Ao escrever um programa, muitas vezes precisamos mudar a ação a ser tomada dependendo do estado das nossas variáveis. O operador mais utilizado neste caso é o `if`. Por exemplo, abaixo imprimimos uma frase dependendo do valor do aluguel:"
   ]
  },
  {
   "cell_type": "code",
   "execution_count": 7,
   "metadata": {},
   "outputs": [
    {
     "name": "stdout",
     "output_type": "stream",
     "text": [
      "Médio\n"
     ]
    }
   ],
   "source": [
    "aluguel = 1300\n",
    "\n",
    "if (aluguel < 900): print(\"Barato\")\n",
    "if (aluguel >= 900 and aluguel < 1400): print(\"Médio\")\n",
    "if (aluguel >= 1400): print(\"Caro\")"
   ]
  },
  {
   "cell_type": "markdown",
   "metadata": {},
   "source": [
    "Caso precisemos executar vários comandos dentro de um mesmo `if`, devemos escrever um bloco de comandos. No Python, blocos de comando não possuem delimitadores. Os blocos são definidos pelo alinhamento (indentação) dos comandos como no exemplo abaixo:"
   ]
  },
  {
   "cell_type": "code",
   "execution_count": 8,
   "metadata": {},
   "outputs": [
    {
     "name": "stdout",
     "output_type": "stream",
     "text": [
      "Concedendo desconto..\n",
      "Valor final: 1840.0\n"
     ]
    }
   ],
   "source": [
    "aluguel = 2300\n",
    "\n",
    "if (aluguel > 2000): \n",
    "    # início do bloco -- as linhas abaixo estão 4 espaços à direita da linha do if\n",
    "    print(\"Concedendo desconto..\")\n",
    "    desconto = 20 # 20% de desconto\n",
    "    aluguel = aluguel - (aluguel * (desconto/100))\n",
    "\n",
    "print(\"Valor final:\", aluguel)"
   ]
  },
  {
   "cell_type": "markdown",
   "metadata": {},
   "source": [
    "Um comando `if` pode ter um bloco de execução alternativa. Um bloco iniciado por `else` só é executado se o teste do `if` falhar (for falso). Veja o exemplo abaixo:"
   ]
  },
  {
   "cell_type": "code",
   "execution_count": 9,
   "metadata": {},
   "outputs": [
    {
     "name": "stdout",
     "output_type": "stream",
     "text": [
      "Médio\n"
     ]
    }
   ],
   "source": [
    "aluguel = 1300\n",
    "\n",
    "if (aluguel < 900): \n",
    "    print(\"Barato\")\n",
    "else: \n",
    "    if (aluguel < 1400): \n",
    "        print(\"Médio\")\n",
    "    else: \n",
    "        print(\"Caro\")"
   ]
  },
  {
   "cell_type": "markdown",
   "metadata": {},
   "source": [
    "Outra operação importante é o `for`, que nos permite iterar sobre uma lista e executar ações associadas aos seus valores. No exemplo abaixo percorremos a lista de apartamentos definida anteriormente para calcular a média dos aluguéis:"
   ]
  },
  {
   "cell_type": "code",
   "execution_count": 10,
   "metadata": {},
   "outputs": [
    {
     "name": "stdout",
     "output_type": "stream",
     "text": [
      "Média:  875.0\n"
     ]
    }
   ],
   "source": [
    "total_aluguel = 0\n",
    "numero_apartamentos = 0\n",
    "\n",
    "for ap in apartamentos:\n",
    "    total_aluguel = total_aluguel + ap[\"aluguel\"]\n",
    "    numero_apartamentos = numero_apartamentos + 1\n",
    "\n",
    "media = total_aluguel/numero_apartamentos\n",
    "print(\"Média: \", media)"
   ]
  },
  {
   "cell_type": "markdown",
   "metadata": {},
   "source": [
    "## Operações de comparação e lógicas\n",
    "\n",
    "No exemplo do comando `if` acima, pode-se notar a comparação `aluguel < 900`. Esta operação retorna valores Booleanos True (verdadeiro) ou False (falso). Veja abaixo diversos exemplos de comparações. "
   ]
  },
  {
   "cell_type": "code",
   "execution_count": 11,
   "metadata": {},
   "outputs": [
    {
     "name": "stdout",
     "output_type": "stream",
     "text": [
      "50 > 30 True\n",
      "50 >= 30 True\n",
      "50 == 50 True\n",
      "50 != 50 False\n"
     ]
    }
   ],
   "source": [
    "print(\"50 > 30\", 50 > 30) # maior\n",
    "print(\"50 >= 30\", 50 >= 30) # maior ou igual\n",
    "print(\"50 == 50\", 50 == 50) # igual\n",
    "print(\"50 != 50\", 50 != 50) # diferente"
   ]
  },
  {
   "cell_type": "markdown",
   "metadata": {},
   "source": [
    "Qualquer operação que retorne True or False pode ser estendida em uma operação lógica. Usamos parênteses para delimitar operações diferentes. Por exemplo, para testar se um valor de aluguel está entre 900 e 1000, podemos usar o operador lógico AND:"
   ]
  },
  {
   "cell_type": "code",
   "execution_count": 12,
   "metadata": {},
   "outputs": [
    {
     "data": {
      "text/plain": [
       "True"
      ]
     },
     "execution_count": 12,
     "metadata": {},
     "output_type": "execute_result"
    }
   ],
   "source": [
    "aluguel = 950\n",
    "\n",
    "(aluguel >= 900) and (aluguel <= 1000)"
   ]
  },
  {
   "cell_type": "markdown",
   "metadata": {},
   "source": [
    "Os outros operadores lógicos são o OR e o NOT:"
   ]
  },
  {
   "cell_type": "code",
   "execution_count": 13,
   "metadata": {},
   "outputs": [
    {
     "data": {
      "text/plain": [
       "False"
      ]
     },
     "execution_count": 13,
     "metadata": {},
     "output_type": "execute_result"
    }
   ],
   "source": [
    "aluguel = 900\n",
    "condominio = 600\n",
    "\n",
    "not ((aluguel > 1000) or (condominio > 500))"
   ]
  },
  {
   "cell_type": "markdown",
   "metadata": {},
   "source": [
    "## List Comprehensions\n",
    "\n",
    "List Comprehension é uma forma simplificada para se construir novas listas a partir de listas existentes. Por exemplo, abaixo definimos uma lista de números e criamos uma nova lista com estes números ao quadrado:"
   ]
  },
  {
   "cell_type": "code",
   "execution_count": 14,
   "metadata": {},
   "outputs": [
    {
     "name": "stdout",
     "output_type": "stream",
     "text": [
      "[25, 9, 49, 4]\n"
     ]
    }
   ],
   "source": [
    "numeros = [5, 3, 7, 2]\n",
    "\n",
    "quadrados = [numero * numero for numero in numeros]\n",
    "\n",
    "print(quadrados)"
   ]
  },
  {
   "cell_type": "markdown",
   "metadata": {},
   "source": [
    "Usando a lista de apartamentos definida acima, podemos criar uma lista com os preços por metro quadrado dos apartamentos:"
   ]
  },
  {
   "cell_type": "code",
   "execution_count": 15,
   "metadata": {},
   "outputs": [
    {
     "name": "stdout",
     "output_type": "stream",
     "text": [
      "[{'endereco': 'Av V. Guarapuava, 1000', 'area': 45, 'aluguel': 800}, {'endereco': 'Av Sete de Setembro, 170', 'area': 53, 'aluguel': 950}]\n"
     ]
    },
    {
     "data": {
      "text/plain": [
       "[17.77777777777778, 17.92452830188679]"
      ]
     },
     "execution_count": 15,
     "metadata": {},
     "output_type": "execute_result"
    }
   ],
   "source": [
    "print(apartamentos)\n",
    "\n",
    "custo_por_m2 = [ap['aluguel']/ap['area'] for ap in apartamentos]\n",
    "\n",
    "custo_por_m2"
   ]
  },
  {
   "cell_type": "markdown",
   "metadata": {},
   "source": [
    "O código acima é equivalente ao código abaixo:"
   ]
  },
  {
   "cell_type": "code",
   "execution_count": 16,
   "metadata": {},
   "outputs": [
    {
     "data": {
      "text/plain": [
       "[17.77777777777778, 17.92452830188679]"
      ]
     },
     "execution_count": 16,
     "metadata": {},
     "output_type": "execute_result"
    }
   ],
   "source": [
    "custo_por_m2 = []\n",
    "\n",
    "for ap in apartamentos:\n",
    "    custo = ap['aluguel']/ap['area']\n",
    "    custo_por_m2.append(custo)\n",
    "\n",
    "custo_por_m2"
   ]
  },
  {
   "cell_type": "markdown",
   "metadata": {},
   "source": [
    "## Funções\n",
    "\n",
    "Funções agrupam uma porção do código com um objetivo específico. As funções possuem parâmetros que permitem \"personalizar\" a execução a cada chamada. Abaixo definimos uma função que calcula o valor total a ser pago mensalmente em um apartamento:"
   ]
  },
  {
   "cell_type": "code",
   "execution_count": 17,
   "metadata": {},
   "outputs": [
    {
     "name": "stdout",
     "output_type": "stream",
     "text": [
      "1330.0 1872.5\n"
     ]
    }
   ],
   "source": [
    "def total_a_pagar(aluguel, condominio, taxa): # define 3 parâmetros\n",
    "    total_taxa = condominio * taxa/100 # calcula valor da taxa (percentual sobre condomínio)\n",
    "    total = aluguel + condominio + total_taxa\n",
    "    return total # valor retornado pela função\n",
    "\n",
    "# Chamadas à função:\n",
    "total1 = total_a_pagar(1000, 300, 10)\n",
    "total2 = total_a_pagar(1400, 450, 5)\n",
    "\n",
    "print(total1, total2)"
   ]
  },
  {
   "cell_type": "markdown",
   "metadata": {},
   "source": [
    "Funções podem ter parâmetros default. Quando especificamos um valor default, só precisamo passá-lo como parâmetro se quisermos usar um valor diferente. A função abaixo demonstra isto, definindo o valor default da taxa como 10%:"
   ]
  },
  {
   "cell_type": "code",
   "execution_count": 18,
   "metadata": {},
   "outputs": [
    {
     "name": "stdout",
     "output_type": "stream",
     "text": [
      "Total:  1330.0\n"
     ]
    }
   ],
   "source": [
    "def total_a_pagar2(aluguel, condominio, taxa = 10): # define 3 parâmetros\n",
    "    total_taxa = condominio * taxa/100 # calcula valor da taxa (percentual sobre condomínio)\n",
    "    total = aluguel + condominio + total_taxa\n",
    "    return total # valor retornado pela função\n",
    "\n",
    "print(\"Total: \", total_a_pagar2(1000, 300))"
   ]
  },
  {
   "cell_type": "markdown",
   "metadata": {},
   "source": [
    "Podemos também chamar a função deixando os nomes dos parâmetros explícitos. Assim não precisamos seguir a mesma ordem da definição da função na hora de passar os parâmetros:"
   ]
  },
  {
   "cell_type": "code",
   "execution_count": 19,
   "metadata": {},
   "outputs": [
    {
     "name": "stdout",
     "output_type": "stream",
     "text": [
      "Total:  1330.0\n"
     ]
    }
   ],
   "source": [
    "total = total_a_pagar2(condominio = 300, aluguel = 1000)\n",
    "\n",
    "print(\"Total: \", total)"
   ]
  },
  {
   "cell_type": "markdown",
   "metadata": {},
   "source": [
    "### Exercício\n",
    "\n",
    "Defina e use uma função que recebe como parâmetro uma lista de apartamentos (use a lista `apartamentos` definida acima). A função deve calcular e retornar a média do aluguel dos apartamentos."
   ]
  },
  {
   "cell_type": "code",
   "execution_count": 20,
   "metadata": {},
   "outputs": [
    {
     "name": "stdout",
     "output_type": "stream",
     "text": [
      "Media aluguel:  875.0\n"
     ]
    }
   ],
   "source": [
    "# Resposta:\n",
    "\n",
    "aluguel_total = 0\n",
    "\n",
    "for ap in apartamentos:\n",
    "    aluguel_total += ap['aluguel']\n",
    "\n",
    "mean = aluguel_total / len(apartamentos)\n",
    "print(\"Media aluguel: \", mean)"
   ]
  },
  {
   "cell_type": "markdown",
   "metadata": {},
   "source": [
    "## Classes\n",
    "\n",
    "Classes são usadas para representar valores e operações de forma integrada. Por exemplo, abaixo definimos uma classe `Apartamento` para armazenar os valores de aluguel/condomínio e também oferecer uma função (método) para calcular o total. "
   ]
  },
  {
   "cell_type": "code",
   "execution_count": 21,
   "metadata": {},
   "outputs": [
    {
     "name": "stdout",
     "output_type": "stream",
     "text": [
      "Total:  1400\n"
     ]
    }
   ],
   "source": [
    "class Apartamento:\n",
    "    #definições de inicialização da classe\n",
    "    def __init__(self, aluguel, condominio):\n",
    "        # self neste caso é uma referência à instância da classe (objeto)\n",
    "        self.aluguel = aluguel\n",
    "        self.condominio = condominio\n",
    "\n",
    "    def calcular_total(self):\n",
    "        return self.aluguel + self.condominio\n",
    "# Inicializando uma instância\n",
    "ap1 = Apartamento(1000, 300)\n",
    "\n",
    "# Alterando o valor de um atributo\n",
    "ap1.condominio = 400\n",
    "\n",
    "# Chamando um método\n",
    "print(\"Total: \", ap1.calcular_total())"
   ]
  }
 ],
 "metadata": {
  "hide_input": false,
  "kernelspec": {
   "display_name": "base",
   "language": "python",
   "name": "python3"
  },
  "language_info": {
   "codemirror_mode": {
    "name": "ipython",
    "version": 3
   },
   "file_extension": ".py",
   "mimetype": "text/x-python",
   "name": "python",
   "nbconvert_exporter": "python",
   "pygments_lexer": "ipython3",
   "version": "3.13.5"
  },
  "toc": {
   "base_numbering": 1,
   "nav_menu": {},
   "number_sections": true,
   "sideBar": true,
   "skip_h1_title": false,
   "title_cell": "Table of Contents",
   "title_sidebar": "Contents",
   "toc_cell": false,
   "toc_position": {},
   "toc_section_display": true,
   "toc_window_display": false
  }
 },
 "nbformat": 4,
 "nbformat_minor": 1
}
